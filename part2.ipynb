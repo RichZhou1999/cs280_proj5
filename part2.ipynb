{
 "cells": [
  {
   "cell_type": "code",
   "execution_count": 1,
   "id": "7c446ff2-9c90-4db2-9dab-3ccb9848386f",
   "metadata": {},
   "outputs": [],
   "source": [
    "import numpy as np\n",
    "import torch\n",
    "import torch.nn as nn\n",
    "from torch.utils.data import Dataset, DataLoader\n",
    "import pandas as pd\n",
    "import numpy as np\n",
    "import matplotlib.pyplot as plt\n",
    "from PIL import Image\n",
    "import skimage.io as skio\n",
    "import torch.optim as optim\n",
    "import skimage as sk\n",
    "import random"
   ]
  },
  {
   "cell_type": "code",
   "execution_count": 2,
   "id": "4b1203c5-dd8f-497a-bfb5-f2f70ab9406d",
   "metadata": {},
   "outputs": [],
   "source": [
    "device = torch.device(\"cuda\" if torch.cuda.is_available() else \"cpu\")"
   ]
  },
  {
   "cell_type": "code",
   "execution_count": 3,
   "id": "8a984cd0-189d-4285-b3f6-bb6ceb86a3b2",
   "metadata": {},
   "outputs": [],
   "source": [
    "data = np.load(f\"lego_200x200.npz\")\n",
    "images_train = data[\"images_train\"] / 255.0\n",
    "c2ws_train = data[\"c2ws_train\"]\n",
    "images_val = data[\"images_val\"] / 255.0\n",
    "c2ws_val = data[\"c2ws_val\"]\n",
    "c2ws_test = data[\"c2ws_test\"]\n",
    "focal = data[\"focal\"]"
   ]
  },
  {
   "cell_type": "code",
   "execution_count": 73,
   "id": "1af29b4b-5ed2-4079-ae85-e48cd58ba5e8",
   "metadata": {},
   "outputs": [
    {
     "name": "stdout",
     "output_type": "stream",
     "text": [
      "(100, 200, 200, 3)\n"
     ]
    }
   ],
   "source": []
  },
  {
   "cell_type": "code",
   "execution_count": 4,
   "id": "7d09713a-f81e-4b4a-bbf9-2ebbb6224f01",
   "metadata": {},
   "outputs": [],
   "source": [
    "height = 200\n",
    "width = 200\n",
    "n_samples = 32"
   ]
  },
  {
   "cell_type": "code",
   "execution_count": 5,
   "id": "c066449d-5ee8-4f80-9288-69dd904a52db",
   "metadata": {},
   "outputs": [],
   "source": [
    "K = np.array([[focal,0,width/2],[0,focal,height/2],[0,0,1]])"
   ]
  },
  {
   "cell_type": "code",
   "execution_count": 7,
   "id": "6756e1cb-d746-4ac7-b8af-8df9afd1e08c",
   "metadata": {},
   "outputs": [],
   "source": [
    "# c2w = c2ws_train[0]"
   ]
  },
  {
   "cell_type": "code",
   "execution_count": 8,
   "id": "a3f13f49-7864-439c-b988-78a168fbe204",
   "metadata": {},
   "outputs": [],
   "source": [
    "# c2w"
   ]
  },
  {
   "cell_type": "code",
   "execution_count": 6,
   "id": "704781ce-f547-4535-bcd4-2107d6c7d201",
   "metadata": {},
   "outputs": [],
   "source": [
    "def transform(c2w, x_c):\n",
    "    #camera to world\n",
    "    num_rows = len(x_c)\n",
    "    ones_column = np.ones((num_rows, 1))\n",
    "    x_c_with_one = np.concatenate((x_c, ones_column), axis=1)\n",
    "    x = (c2w @ x_c_with_one.T).T\n",
    "    return x[:,:-1]"
   ]
  },
  {
   "cell_type": "code",
   "execution_count": 10,
   "id": "68e3503d-9a43-4f25-b9f3-31ae9a749683",
   "metadata": {},
   "outputs": [
    {
     "name": "stdout",
     "output_type": "stream",
     "text": [
      "[[-0.05379832  3.84547043  1.20808232]]\n"
     ]
    }
   ],
   "source": [
    "aaa = np.array([[0,0,0]])\n",
    "print(transform(c2w, aaa))"
   ]
  },
  {
   "cell_type": "code",
   "execution_count": 11,
   "id": "a078e626-ee0c-469c-83c8-6bf47de26101",
   "metadata": {},
   "outputs": [],
   "source": [
    "w2c = np.linalg.inv(c2w)"
   ]
  },
  {
   "cell_type": "code",
   "execution_count": 11,
   "id": "d6392c32-88ff-463e-80dd-374f766d9958",
   "metadata": {},
   "outputs": [
    {
     "name": "stdout",
     "output_type": "stream",
     "text": [
      "[-0.05379832  3.84547043  1.20808232]\n"
     ]
    }
   ],
   "source": [
    "print(-np.linalg.inv(w2c[:3,:3]) @ w2c[:3,3])"
   ]
  },
  {
   "cell_type": "code",
   "execution_count": 7,
   "id": "c967571e-60d8-4f6c-907e-f14cae891ad2",
   "metadata": {},
   "outputs": [],
   "source": [
    "def pixel_to_camera(K, uv,s):\n",
    "    num_rows = len(uv)\n",
    "    ones_column = np.ones((num_rows, 1))\n",
    "    uv_with_one = np.concatenate((uv, ones_column), axis=1)\n",
    "    result = (np.linalg.inv(K) @ uv_with_one.T).T\n",
    "    return result"
   ]
  },
  {
   "cell_type": "code",
   "execution_count": 63,
   "id": "0258127d-c836-48cd-b60f-ca73d01d81f9",
   "metadata": {},
   "outputs": [
    {
     "name": "stdout",
     "output_type": "stream",
     "text": [
      "[[ 0.1       ]\n",
      " [15.64640534]\n",
      " [32.96680148]\n",
      " [34.69884724]]\n",
      "[[1.         0.         0.        ]\n",
      " [0.58160324 0.57521199 0.57521199]\n",
      " [0.57937073 0.57633738 0.57633738]\n",
      " [0.57926996 0.57638802 0.57638802]]\n"
     ]
    }
   ],
   "source": [
    "aaa = np.array([[1,2,3],[10,11,12],[20,21,22],[21,22,23]])\n",
    "b = np.array([[0.9,2,3]])\n",
    "c = aaa - b\n",
    "norms = np.linalg.norm(c, axis=1, keepdims=True)\n",
    "print(norms)\n",
    "print(c/norms)"
   ]
  },
  {
   "cell_type": "code",
   "execution_count": null,
   "id": "05c50e2f-acf4-4e04-a9a2-b9e4d60170b5",
   "metadata": {},
   "outputs": [],
   "source": []
  },
  {
   "cell_type": "code",
   "execution_count": 8,
   "id": "c2132818-51f7-48d2-a045-74ebd6661bf3",
   "metadata": {},
   "outputs": [],
   "source": [
    "def pixel_to_ray(K, c2w, uv):\n",
    "    zeros = np.array([[0,0,0]])\n",
    "    origin = transform(c2w, zeros)\n",
    "    depth_1_points = pixel_to_camera(K, uv, 1)\n",
    "    world_depth_1_points = transform(c2w, depth_1_points)\n",
    "    world_depth_1_points_direction = world_depth_1_points - origin\n",
    "    norms = np.linalg.norm(world_depth_1_points_direction, axis=1, keepdims=True)\n",
    "    directions = world_depth_1_points_direction/ norms\n",
    "\n",
    "    return origin, directions\n",
    "    "
   ]
  },
  {
   "cell_type": "code",
   "execution_count": null,
   "id": "64ee2f75-fe71-4d5f-9e37-80f5e4524e21",
   "metadata": {},
   "outputs": [],
   "source": []
  },
  {
   "cell_type": "code",
   "execution_count": 9,
   "id": "fd398744-4b0a-4273-b008-1c911fd4b8ca",
   "metadata": {},
   "outputs": [],
   "source": [
    "class RaysData(Dataset):\n",
    "    def __init__(self, img_train, K, c2ws_train):\n",
    "        self.img = img_train\n",
    "        self.c2ws = c2ws_train\n",
    "        self.K = K\n",
    "        self.height = 200\n",
    "        self.width = 200\n",
    "        self.length = len(self.img) * self.height * self.width\n",
    "\n",
    "    def __len__(self):\n",
    "        return len(self.img * self.height * self.width)\n",
    "    \n",
    "    def __getitem__(self, idx):\n",
    "        pass\n",
    "        # x = idx // self.width \n",
    "        # y = idx % self.width \n",
    "        # rgb = [self.image[x,y,0],\n",
    "        #        self.image[x,y,1],\n",
    "        #        self.image[x,y,2]]\n",
    "        # sample = {'input':torch.tensor([x/self.height,y/ self.width]),\n",
    "        #           \"label\":torch.tensor(rgb)}\n",
    "        # return sample\n",
    "\n",
    "    def sample_rays(self, num_samples):\n",
    "        rays_o = []\n",
    "        rays_d = []\n",
    "        pixels = []\n",
    "        random_numbers = [random.randint(0,self.length -1) for _ in range(num_samples)]\n",
    "        for random_number in random_numbers:\n",
    "            img_index = random_number // (self.width*self.height)\n",
    "            residual = random_number % (self.width*self.height)\n",
    "            temp_height = residual // self.height\n",
    "            temp_width = residual % self.width\n",
    "            c2w = self.c2ws[img_index]\n",
    "            uv = np.array([[temp_height, temp_width]])\n",
    "            ray_o, ray_d = pixel_to_ray(self.K, c2w, uv)\n",
    "            rays_o.append(ray_o[0])\n",
    "            rays_d.append(ray_d[0])\n",
    "            pixels.append(self.img[img_index,temp_height,temp_width,:])\n",
    "        return rays_o, rays_d,pixels\n",
    "    "
   ]
  },
  {
   "cell_type": "code",
   "execution_count": 10,
   "id": "76051041-06ab-424a-855f-8f5016a5096d",
   "metadata": {},
   "outputs": [],
   "source": [
    "dataset = RaysData(images_train, K, c2ws_train)\n",
    "# rays_o, rays_d, pixels = dataset.sample_rays(5)"
   ]
  },
  {
   "cell_type": "code",
   "execution_count": 40,
   "id": "1da66976-9b61-48e9-8126-2acdcd424fa2",
   "metadata": {},
   "outputs": [],
   "source": [
    "# def sample_along_rays(rays_o, rays_d, perturb = True):\n",
    "#     far = 6 \n",
    "#     near = 2\n",
    "#     n_samples = 32\n",
    "#     points = []\n",
    "#     for ray_o, ray_d in zip(rays_o, rays_d):\n",
    "#         for t in np.linspace(near, far, n_samples):\n",
    "#             ran = random.uniform(0, (far - near)/n_samples)\n",
    "#             p_t = t + ran\n",
    "#             points.append(ray_o + ray_d * p_t)\n",
    "#     return np.array(points)"
   ]
  },
  {
   "cell_type": "code",
   "execution_count": 11,
   "id": "e3136877-9387-4b22-bc61-49c1512b477d",
   "metadata": {},
   "outputs": [],
   "source": [
    "def sample_along_rays(rays_o, rays_d, n_samples = 32, perturb = True):\n",
    "    far = 6 \n",
    "    near = 2\n",
    "    points = []\n",
    "    for ray_o, ray_d in zip(rays_o, rays_d):\n",
    "        for t in np.linspace(near, far, n_samples):\n",
    "            ran = random.uniform(0, (far - near)/n_samples)\n",
    "            p_t = t + ran\n",
    "            points.append(ray_o + ray_d * p_t)\n",
    "    return np.array(points)"
   ]
  },
  {
   "cell_type": "code",
   "execution_count": 17,
   "id": "b92b103b-0fa5-4c78-b3c7-3f0ae98726d4",
   "metadata": {},
   "outputs": [],
   "source": [
    "# points = sample_along_rays(rays_o, rays_d)\n",
    "# print(len(points))"
   ]
  },
  {
   "cell_type": "code",
   "execution_count": 17,
   "id": "8af6b290-7144-4d3c-9b96-a111cde81f4b",
   "metadata": {},
   "outputs": [],
   "source": [
    "\n",
    "\n",
    "import viser, time  # pip install viser\n",
    "import numpy as np\n",
    "\n",
    "# --- You Need to Implement These ------\n",
    "dataset = RaysData(images_train, K, c2ws_train)\n",
    "rays_o, rays_d, pixels = dataset.sample_rays(5)\n",
    "points = sample_along_rays(rays_o, rays_d, perturb=True)\n",
    "H, W = images_train.shape[1:3]"
   ]
  },
  {
   "cell_type": "code",
   "execution_count": 17,
   "id": "29d706fc-dd2c-4e67-b0a8-18e03951cd3f",
   "metadata": {},
   "outputs": [
    {
     "data": {
      "text/html": [
       "<pre style=\"white-space:pre;overflow-x:auto;line-height:normal;font-family:Menlo,'DejaVu Sans Mono',consolas,'Courier New',monospace\"><span style=\"font-weight: bold\">(viser)</span> Share URL requested! <span style=\"font-weight: bold\">(</span>expires in <span style=\"color: #008080; text-decoration-color: #008080; font-weight: bold\">24</span> hours<span style=\"font-weight: bold\">)</span>\n",
       "</pre>\n"
      ],
      "text/plain": [
       "\u001b[1m(\u001b[0m\u001b[1mviser\u001b[0m\u001b[1m)\u001b[0m Share URL requested! \u001b[1m(\u001b[0mexpires in \u001b[1;36m24\u001b[0m hours\u001b[1m)\u001b[0m\n"
      ]
     },
     "metadata": {},
     "output_type": "display_data"
    },
    {
     "data": {
      "text/html": [
       "<pre style=\"white-space:pre;overflow-x:auto;line-height:normal;font-family:Menlo,'DejaVu Sans Mono',consolas,'Courier New',monospace\">╭───────────────────────────── <span style=\"font-weight: bold\">viser</span> ──────────────────────────────╮\n",
       "│             ╷                                                    │\n",
       "│   HTTP      │ http://0.0.0.0:8080                                │\n",
       "│   Websocket │ ws://0.0.0.0:8080                                  │\n",
       "│   Share URL │ https://transparent-augmented.share.viser.studio   │\n",
       "│             ╵                                                    │\n",
       "╰──────────────────────────────────────────────────────────────────╯\n",
       "</pre>\n"
      ],
      "text/plain": [
       "╭───────────────────────────── \u001b[1mviser\u001b[0m ──────────────────────────────╮\n",
       "│             ╷                                                    │\n",
       "│   HTTP      │ http://0.0.0.0:8080                                │\n",
       "│   Websocket │ ws://0.0.0.0:8080                                  │\n",
       "│   Share URL │ https://transparent-augmented.share.viser.studio   │\n",
       "│             ╵                                                    │\n",
       "╰──────────────────────────────────────────────────────────────────╯\n"
      ]
     },
     "metadata": {},
     "output_type": "display_data"
    },
    {
     "data": {
      "text/html": [
       "<pre style=\"white-space:pre;overflow-x:auto;line-height:normal;font-family:Menlo,'DejaVu Sans Mono',consolas,'Courier New',monospace\"><span style=\"font-weight: bold\">(viser)</span> Connection opened <span style=\"font-weight: bold\">(</span><span style=\"color: #008080; text-decoration-color: #008080; font-weight: bold\">0</span>, <span style=\"color: #008080; text-decoration-color: #008080; font-weight: bold\">1</span> total<span style=\"font-weight: bold\">)</span>, <span style=\"color: #008080; text-decoration-color: #008080; font-weight: bold\">411</span> persistent messages\n",
       "</pre>\n"
      ],
      "text/plain": [
       "\u001b[1m(\u001b[0m\u001b[1mviser\u001b[0m\u001b[1m)\u001b[0m Connection opened \u001b[1m(\u001b[0m\u001b[1;36m0\u001b[0m, \u001b[1;36m1\u001b[0m total\u001b[1m)\u001b[0m, \u001b[1;36m411\u001b[0m persistent messages\n"
      ]
     },
     "metadata": {},
     "output_type": "display_data"
    },
    {
     "data": {
      "text/html": [
       "<pre style=\"white-space:pre;overflow-x:auto;line-height:normal;font-family:Menlo,'DejaVu Sans Mono',consolas,'Courier New',monospace\"><span style=\"font-weight: bold\">(viser)</span> Connection closed <span style=\"font-weight: bold\">(</span><span style=\"color: #008080; text-decoration-color: #008080; font-weight: bold\">0</span>, <span style=\"color: #008080; text-decoration-color: #008080; font-weight: bold\">0</span> total<span style=\"font-weight: bold\">)</span>\n",
       "</pre>\n"
      ],
      "text/plain": [
       "\u001b[1m(\u001b[0m\u001b[1mviser\u001b[0m\u001b[1m)\u001b[0m Connection closed \u001b[1m(\u001b[0m\u001b[1;36m0\u001b[0m, \u001b[1;36m0\u001b[0m total\u001b[1m)\u001b[0m\n"
      ]
     },
     "metadata": {},
     "output_type": "display_data"
    },
    {
     "ename": "KeyboardInterrupt",
     "evalue": "",
     "output_type": "error",
     "traceback": [
      "\u001b[0;31m---------------------------------------------------------------------------\u001b[0m",
      "\u001b[0;31mKeyboardInterrupt\u001b[0m                         Traceback (most recent call last)",
      "Cell \u001b[0;32mIn[17], line 22\u001b[0m\n\u001b[1;32m     13\u001b[0m     server\u001b[38;5;241m.\u001b[39madd_spline_catmull_rom(\n\u001b[1;32m     14\u001b[0m         \u001b[38;5;124mf\u001b[39m\u001b[38;5;124m\"\u001b[39m\u001b[38;5;124m/rays/\u001b[39m\u001b[38;5;132;01m{\u001b[39;00mi\u001b[38;5;132;01m}\u001b[39;00m\u001b[38;5;124m\"\u001b[39m, positions\u001b[38;5;241m=\u001b[39mnp\u001b[38;5;241m.\u001b[39mstack((o, o \u001b[38;5;241m+\u001b[39m d \u001b[38;5;241m*\u001b[39m \u001b[38;5;241m6.0\u001b[39m)),\n\u001b[1;32m     15\u001b[0m     )\n\u001b[1;32m     16\u001b[0m server\u001b[38;5;241m.\u001b[39madd_point_cloud(\n\u001b[1;32m     17\u001b[0m     \u001b[38;5;124mf\u001b[39m\u001b[38;5;124m\"\u001b[39m\u001b[38;5;124m/samples\u001b[39m\u001b[38;5;124m\"\u001b[39m,\n\u001b[1;32m     18\u001b[0m     colors\u001b[38;5;241m=\u001b[39mnp\u001b[38;5;241m.\u001b[39mzeros_like(points)\u001b[38;5;241m.\u001b[39mreshape(\u001b[38;5;241m-\u001b[39m\u001b[38;5;241m1\u001b[39m, \u001b[38;5;241m3\u001b[39m),\n\u001b[1;32m     19\u001b[0m     points\u001b[38;5;241m=\u001b[39mpoints\u001b[38;5;241m.\u001b[39mreshape(\u001b[38;5;241m-\u001b[39m\u001b[38;5;241m1\u001b[39m, \u001b[38;5;241m3\u001b[39m),\n\u001b[1;32m     20\u001b[0m     point_size\u001b[38;5;241m=\u001b[39m\u001b[38;5;241m0.02\u001b[39m,\n\u001b[1;32m     21\u001b[0m )\n\u001b[0;32m---> 22\u001b[0m \u001b[43mtime\u001b[49m\u001b[38;5;241;43m.\u001b[39;49m\u001b[43msleep\u001b[49m\u001b[43m(\u001b[49m\u001b[38;5;241;43m1000\u001b[39;49m\u001b[43m)\u001b[49m\n",
      "\u001b[0;31mKeyboardInterrupt\u001b[0m: "
     ]
    }
   ],
   "source": [
    "server = viser.ViserServer(share=True)\n",
    "for i, (image, c2w) in enumerate(zip(images_train, c2ws_train)):\n",
    "    server.add_camera_frustum(\n",
    "        f\"/cameras/{i}\",\n",
    "        fov=2 * np.arctan2(H / 2, K[0, 0]),\n",
    "        aspect=W / H,\n",
    "        scale=0.15,\n",
    "        wxyz=viser.transforms.SO3.from_matrix(c2w[:3, :3]).wxyz,\n",
    "        position=c2w[:3, 3],\n",
    "        image=image\n",
    "    )\n",
    "for i, (o, d) in enumerate(zip(rays_o, rays_d)):\n",
    "    server.add_spline_catmull_rom(\n",
    "        f\"/rays/{i}\", positions=np.stack((o, o + d * 6.0)),\n",
    "    )\n",
    "server.add_point_cloud(\n",
    "    f\"/samples\",\n",
    "    colors=np.zeros_like(points).reshape(-1, 3),\n",
    "    points=points.reshape(-1, 3),\n",
    "    point_size=0.02,\n",
    ")\n",
    "time.sleep(1000)"
   ]
  },
  {
   "cell_type": "code",
   "execution_count": 12,
   "id": "59ccd6c7-4214-4a59-9ce6-4419332622e0",
   "metadata": {},
   "outputs": [],
   "source": [
    "def volrend(sigmas, rgbs, step_size):\n",
    "    sigmas = sigmas.to(device)\n",
    "    rgbs = rgbs.to(device)\n",
    "    size_to_prepend = (sigmas.size(0), 1, 1)\n",
    "\n",
    "    zeros_to_prepend = torch.zeros(size_to_prepend, dtype=sigmas.dtype).to(device)\n",
    "    \n",
    "    tensor_with_zeros = torch.cat((zeros_to_prepend, sigmas), dim=1).to(device)\n",
    "\n",
    "    \n",
    "    \n",
    "    cum_sigmas = torch.cumsum(tensor_with_zeros,dim=1)[:,:-1].to(device)\n",
    "    T = torch.exp(-cum_sigmas*step_size).to(device)\n",
    "    interval_sigmas = 1 - torch.exp(-sigmas*step_size).to(device)\n",
    "    weights = T * interval_sigmas\n",
    "    colors = rgbs * weights\n",
    "    cum_colors = torch.sum(colors, dim=1).to(device)\n",
    "\n",
    "    return cum_colors"
   ]
  },
  {
   "cell_type": "code",
   "execution_count": 13,
   "id": "5f29ba80-c2a2-408e-8e54-0730a2aa14c3",
   "metadata": {},
   "outputs": [],
   "source": [
    "torch.manual_seed(42)\n",
    "sigmas = torch.rand((10, 64, 1)) * 1000\n",
    "rgbs = torch.rand((10, 64, 3))\n",
    "step_size = (6.0 - 2.0) / 64\n",
    "rendered_colors = volrend(sigmas, rgbs, step_size)\n",
    "correct = torch.tensor([\n",
    "  [0.6020, 0.0316, 0.9366],\n",
    "  [0.0620, 0.2249, 0.1381],\n",
    "  [0.7785, 0.4253, 0.7124],\n",
    "  [0.8748, 0.5055, 0.7411],\n",
    "  [0.2240, 0.5240, 0.4298],\n",
    "  [0.0531, 0.7500, 0.0501],\n",
    "  [0.0458, 0.9415, 0.4620],\n",
    "  [0.6692, 0.3450, 0.0991],\n",
    "  [0.7392, 0.6365, 0.3080],\n",
    "  [0.2425, 0.9346, 0.9305]]\n",
    ").to(device)\n",
    "assert torch.allclose(rendered_colors, correct, rtol=1e-4, atol=1e-4)"
   ]
  },
  {
   "cell_type": "code",
   "execution_count": null,
   "id": "91e4aa32-9c1c-4300-af6b-acba881a3cf3",
   "metadata": {},
   "outputs": [],
   "source": []
  },
  {
   "cell_type": "code",
   "execution_count": 19,
   "id": "19a90feb-7b69-4161-bc23-a4c3e19e477c",
   "metadata": {},
   "outputs": [],
   "source": [
    "class Nerf_model(nn.Module):\n",
    "    def __init__(self,high_fre_level, high_fre_level_angle, hidden_dim):\n",
    "        super(Nerf_model, self).__init__()\n",
    "        self.high_fre_level = high_fre_level\n",
    "        self.high_fre_level_angle = high_fre_level_angle\n",
    "        self.pe_dim = 3+high_fre_level*6\n",
    "        self.pe_dim_angle = 3 + 6 * high_fre_level_angle\n",
    "        self.input_layer = nn.Linear(3+high_fre_level*6, hidden_dim)\n",
    "        # self.input_layer = nn.Linear(2, hidden_dim)\n",
    "        hidden_layer_list = []\n",
    "        for i in range(3):\n",
    "            hidden_layer_list.append(nn.Linear(hidden_dim, hidden_dim))\n",
    "            hidden_layer_list.append(nn.ReLU())\n",
    "        self.hidden_layer_1 = nn.Sequential(*hidden_layer_list)\n",
    "\n",
    "        self.concat_hidden_layer = nn.Linear(hidden_dim + self.pe_dim,hidden_dim)\n",
    "        \n",
    "        hidden_layer_list = []\n",
    "        for i in range(2):\n",
    "            hidden_layer_list.append(nn.Linear(hidden_dim, hidden_dim))\n",
    "            hidden_layer_list.append(nn.ReLU())\n",
    "        self.hidden_layer_2 = nn.Sequential(*hidden_layer_list)\n",
    "\n",
    "        self.hidden_layer_3 = nn.Linear(hidden_dim, hidden_dim)\n",
    "        self.hidden_layer_4 = nn.Linear(hidden_dim, hidden_dim)\n",
    "        self.hidden_layer_5 = nn.Linear(hidden_dim, hidden_dim)\n",
    "        self.hidden_layer_concat_angle = nn.Linear(hidden_dim + self.pe_dim_angle, hidden_dim//2)\n",
    "\n",
    "        self.out = nn.Linear(hidden_dim//2, 3)\n",
    "        self.relu = nn.ReLU()\n",
    "        self.sigmoid = nn.Sigmoid()\n",
    "        self.angle_layer = nn.Linear(hidden_dim, 1)\n",
    "\n",
    "    def positional_encoding(self, data, high_fre_level):\n",
    "        d = data.shape[1]\n",
    "        length = len(data)\n",
    "        data = data.to(device)\n",
    "        pe = torch.zeros(length, high_fre_level*2*d).to(device)\n",
    "        div_term = torch.exp2(torch.arange(0, high_fre_level))*3.14159\n",
    "        div_term = div_term.to(device)\n",
    "        for i in range(len(data)):\n",
    "            for j in range(d):\n",
    "                pe[i, 2*j*high_fre_level:high_fre_level*(j+1)*2:2] = torch.sin(data[i,j] * div_term)\n",
    "                pe[i, 1 + 2*j*high_fre_level:high_fre_level*(j+1)*2+1:2] = torch.cos(data[i,j] * div_term)\n",
    "        return pe\n",
    "        \n",
    "    def forward_phase_1(self, origin_x):\n",
    "        # print(origin_x.dtype)\n",
    "        x = self.input_layer(origin_x)\n",
    "        x = self.relu(x)\n",
    "        x = self.hidden_layer_1(x)\n",
    "        x = torch.cat((x,origin_x), dim = 1)\n",
    "        x = self.concat_hidden_layer(x)\n",
    "        x = self.relu(x)\n",
    "        x = self.hidden_layer_2(x)\n",
    "        x = self.hidden_layer_3(x)\n",
    "        return x\n",
    "\n",
    "    # def foward_dentisy(self, origin_x):\n",
    "    #     x = forward_phase_1(origin_x)\n",
    "    #     return self.angle_layer(x)\n",
    "        \n",
    "    def forward(self, pos, angle):\n",
    "        pos_pe = self.positional_encoding(pos, self.high_fre_level)\n",
    "        origin_x = torch.cat((pos,pos_pe),dim=1).float()\n",
    "        x = self.forward_phase_1(origin_x)\n",
    "        x = self.hidden_layer_4(x)\n",
    "        sigmas = self.angle_layer(x)\n",
    "        sigmas = self.relu(sigmas)\n",
    "        \n",
    "        x = self.hidden_layer_5(x)\n",
    "        angle_pe = self.positional_encoding(angle, self.high_fre_level_angle)\n",
    "        angle_input = torch.cat((angle,angle_pe),dim=1)\n",
    "        concated_x = torch.cat((x,angle_input), dim = 1).float()\n",
    "        x = self.hidden_layer_concat_angle(concated_x)\n",
    "        x = self.relu(x)\n",
    "        x = self.out(x)\n",
    "        x = self.sigmoid(x)\n",
    "        return x, sigmas\n",
    "        "
   ]
  },
  {
   "cell_type": "code",
   "execution_count": null,
   "id": "19e5f6ef-2917-470b-b601-337472574fc3",
   "metadata": {},
   "outputs": [],
   "source": []
  },
  {
   "cell_type": "code",
   "execution_count": 161,
   "id": "47b3dd32-8085-4210-b1e7-bd02dc0024b8",
   "metadata": {},
   "outputs": [
    {
     "name": "stdout",
     "output_type": "stream",
     "text": [
      "4\n",
      "torch.Size([320, 3])\n",
      "torch.Size([320, 27])\n",
      "torch.Size([320, 283])\n",
      "iteration [0], Loss: 0.10159755498170853\n",
      "4\n",
      "torch.Size([320, 3])\n",
      "torch.Size([320, 27])\n",
      "torch.Size([320, 283])\n",
      "iteration [1], Loss: 0.17140106856822968\n",
      "4\n",
      "torch.Size([320, 3])\n",
      "torch.Size([320, 27])\n",
      "torch.Size([320, 283])\n",
      "iteration [2], Loss: 0.09804832935333252\n",
      "4\n",
      "torch.Size([320, 3])\n",
      "torch.Size([320, 27])\n",
      "torch.Size([320, 283])\n",
      "iteration [3], Loss: 0.14086276292800903\n",
      "4\n",
      "torch.Size([320, 3])\n",
      "torch.Size([320, 27])\n",
      "torch.Size([320, 283])\n",
      "iteration [4], Loss: 0.06375943124294281\n",
      "4\n",
      "torch.Size([320, 3])\n",
      "torch.Size([320, 27])\n",
      "torch.Size([320, 283])\n",
      "iteration [5], Loss: 0.06186775863170624\n",
      "4\n",
      "torch.Size([320, 3])\n",
      "torch.Size([320, 27])\n",
      "torch.Size([320, 283])\n",
      "iteration [6], Loss: 0.09290654957294464\n",
      "4\n",
      "torch.Size([320, 3])\n",
      "torch.Size([320, 27])\n",
      "torch.Size([320, 283])\n",
      "iteration [7], Loss: 0.090561643242836\n",
      "4\n",
      "torch.Size([320, 3])\n",
      "torch.Size([320, 27])\n",
      "torch.Size([320, 283])\n",
      "iteration [8], Loss: 0.07159743458032608\n",
      "4\n",
      "torch.Size([320, 3])\n",
      "torch.Size([320, 27])\n",
      "torch.Size([320, 283])\n",
      "iteration [9], Loss: 0.06141278147697449\n",
      "4\n",
      "torch.Size([320, 3])\n",
      "torch.Size([320, 27])\n",
      "torch.Size([320, 283])\n",
      "iteration [10], Loss: 0.03760664537549019\n",
      "4\n",
      "torch.Size([320, 3])\n",
      "torch.Size([320, 27])\n",
      "torch.Size([320, 283])\n",
      "iteration [11], Loss: 0.03999125212430954\n",
      "4\n",
      "torch.Size([320, 3])\n",
      "torch.Size([320, 27])\n",
      "torch.Size([320, 283])\n",
      "iteration [12], Loss: 0.030706316232681274\n",
      "4\n",
      "torch.Size([320, 3])\n",
      "torch.Size([320, 27])\n",
      "torch.Size([320, 283])\n",
      "iteration [13], Loss: 0.056444425135850906\n",
      "4\n",
      "torch.Size([320, 3])\n",
      "torch.Size([320, 27])\n",
      "torch.Size([320, 283])\n",
      "iteration [14], Loss: 0.02926657907664776\n",
      "4\n",
      "torch.Size([320, 3])\n",
      "torch.Size([320, 27])\n",
      "torch.Size([320, 283])\n",
      "iteration [15], Loss: 0.02326056733727455\n",
      "4\n",
      "torch.Size([320, 3])\n",
      "torch.Size([320, 27])\n",
      "torch.Size([320, 283])\n",
      "iteration [16], Loss: 0.08851778507232666\n",
      "4\n",
      "torch.Size([320, 3])\n",
      "torch.Size([320, 27])\n",
      "torch.Size([320, 283])\n",
      "iteration [17], Loss: 0.03773362189531326\n",
      "4\n",
      "torch.Size([320, 3])\n",
      "torch.Size([320, 27])\n",
      "torch.Size([320, 283])\n",
      "iteration [18], Loss: 0.056248001754283905\n",
      "4\n",
      "torch.Size([320, 3])\n",
      "torch.Size([320, 27])\n",
      "torch.Size([320, 283])\n",
      "iteration [19], Loss: 0.0900767520070076\n",
      "4\n",
      "torch.Size([320, 3])\n",
      "torch.Size([320, 27])\n",
      "torch.Size([320, 283])\n",
      "iteration [20], Loss: 0.1344342678785324\n",
      "4\n",
      "torch.Size([320, 3])\n",
      "torch.Size([320, 27])\n",
      "torch.Size([320, 283])\n",
      "iteration [21], Loss: 0.031844109296798706\n",
      "4\n",
      "torch.Size([320, 3])\n",
      "torch.Size([320, 27])\n",
      "torch.Size([320, 283])\n",
      "iteration [22], Loss: 0.06419640779495239\n",
      "4\n",
      "torch.Size([320, 3])\n",
      "torch.Size([320, 27])\n",
      "torch.Size([320, 283])\n",
      "iteration [23], Loss: 0.03779676929116249\n",
      "4\n",
      "torch.Size([320, 3])\n",
      "torch.Size([320, 27])\n",
      "torch.Size([320, 283])\n",
      "iteration [24], Loss: 0.026243828237056732\n",
      "4\n",
      "torch.Size([320, 3])\n",
      "torch.Size([320, 27])\n",
      "torch.Size([320, 283])\n",
      "iteration [25], Loss: 0.06882544606924057\n",
      "4\n",
      "torch.Size([320, 3])\n",
      "torch.Size([320, 27])\n",
      "torch.Size([320, 283])\n",
      "iteration [26], Loss: 0.06008895859122276\n"
     ]
    },
    {
     "ename": "KeyboardInterrupt",
     "evalue": "",
     "output_type": "error",
     "traceback": [
      "\u001b[0;31m---------------------------------------------------------------------------\u001b[0m",
      "\u001b[0;31mKeyboardInterrupt\u001b[0m                         Traceback (most recent call last)",
      "Cell \u001b[0;32mIn[161], line 16\u001b[0m\n\u001b[1;32m     13\u001b[0m rays_d \u001b[38;5;241m=\u001b[39m rays_d\u001b[38;5;241m.\u001b[39mrepeat(\u001b[38;5;241m1\u001b[39m,n_samples,\u001b[38;5;241m1\u001b[39m)\n\u001b[1;32m     14\u001b[0m rays_d \u001b[38;5;241m=\u001b[39m rays_d\u001b[38;5;241m.\u001b[39mview(\u001b[38;5;241m-\u001b[39m\u001b[38;5;241m1\u001b[39m,\u001b[38;5;241m3\u001b[39m)\n\u001b[0;32m---> 16\u001b[0m rgbs, sigmas \u001b[38;5;241m=\u001b[39m \u001b[43mmodel\u001b[49m\u001b[43m(\u001b[49m\u001b[43mpoints\u001b[49m\u001b[43m,\u001b[49m\u001b[43m \u001b[49m\u001b[43mrays_d\u001b[49m\u001b[43m)\u001b[49m\n\u001b[1;32m     17\u001b[0m \u001b[38;5;66;03m# sigams = model.foward_dentisy()\u001b[39;00m\n\u001b[1;32m     18\u001b[0m sigmas \u001b[38;5;241m=\u001b[39m sigmas\u001b[38;5;241m.\u001b[39mview(\u001b[38;5;241m-\u001b[39m\u001b[38;5;241m1\u001b[39m,n_samples,\u001b[38;5;241m1\u001b[39m)\n",
      "File \u001b[0;32m~/anaconda3/lib/python3.10/site-packages/torch/nn/modules/module.py:1518\u001b[0m, in \u001b[0;36mModule._wrapped_call_impl\u001b[0;34m(self, *args, **kwargs)\u001b[0m\n\u001b[1;32m   1516\u001b[0m     \u001b[38;5;28;01mreturn\u001b[39;00m \u001b[38;5;28mself\u001b[39m\u001b[38;5;241m.\u001b[39m_compiled_call_impl(\u001b[38;5;241m*\u001b[39margs, \u001b[38;5;241m*\u001b[39m\u001b[38;5;241m*\u001b[39mkwargs)  \u001b[38;5;66;03m# type: ignore[misc]\u001b[39;00m\n\u001b[1;32m   1517\u001b[0m \u001b[38;5;28;01melse\u001b[39;00m:\n\u001b[0;32m-> 1518\u001b[0m     \u001b[38;5;28;01mreturn\u001b[39;00m \u001b[38;5;28;43mself\u001b[39;49m\u001b[38;5;241;43m.\u001b[39;49m\u001b[43m_call_impl\u001b[49m\u001b[43m(\u001b[49m\u001b[38;5;241;43m*\u001b[39;49m\u001b[43margs\u001b[49m\u001b[43m,\u001b[49m\u001b[43m \u001b[49m\u001b[38;5;241;43m*\u001b[39;49m\u001b[38;5;241;43m*\u001b[39;49m\u001b[43mkwargs\u001b[49m\u001b[43m)\u001b[49m\n",
      "File \u001b[0;32m~/anaconda3/lib/python3.10/site-packages/torch/nn/modules/module.py:1527\u001b[0m, in \u001b[0;36mModule._call_impl\u001b[0;34m(self, *args, **kwargs)\u001b[0m\n\u001b[1;32m   1522\u001b[0m \u001b[38;5;66;03m# If we don't have any hooks, we want to skip the rest of the logic in\u001b[39;00m\n\u001b[1;32m   1523\u001b[0m \u001b[38;5;66;03m# this function, and just call forward.\u001b[39;00m\n\u001b[1;32m   1524\u001b[0m \u001b[38;5;28;01mif\u001b[39;00m \u001b[38;5;129;01mnot\u001b[39;00m (\u001b[38;5;28mself\u001b[39m\u001b[38;5;241m.\u001b[39m_backward_hooks \u001b[38;5;129;01mor\u001b[39;00m \u001b[38;5;28mself\u001b[39m\u001b[38;5;241m.\u001b[39m_backward_pre_hooks \u001b[38;5;129;01mor\u001b[39;00m \u001b[38;5;28mself\u001b[39m\u001b[38;5;241m.\u001b[39m_forward_hooks \u001b[38;5;129;01mor\u001b[39;00m \u001b[38;5;28mself\u001b[39m\u001b[38;5;241m.\u001b[39m_forward_pre_hooks\n\u001b[1;32m   1525\u001b[0m         \u001b[38;5;129;01mor\u001b[39;00m _global_backward_pre_hooks \u001b[38;5;129;01mor\u001b[39;00m _global_backward_hooks\n\u001b[1;32m   1526\u001b[0m         \u001b[38;5;129;01mor\u001b[39;00m _global_forward_hooks \u001b[38;5;129;01mor\u001b[39;00m _global_forward_pre_hooks):\n\u001b[0;32m-> 1527\u001b[0m     \u001b[38;5;28;01mreturn\u001b[39;00m \u001b[43mforward_call\u001b[49m\u001b[43m(\u001b[49m\u001b[38;5;241;43m*\u001b[39;49m\u001b[43margs\u001b[49m\u001b[43m,\u001b[49m\u001b[43m \u001b[49m\u001b[38;5;241;43m*\u001b[39;49m\u001b[38;5;241;43m*\u001b[39;49m\u001b[43mkwargs\u001b[49m\u001b[43m)\u001b[49m\n\u001b[1;32m   1529\u001b[0m \u001b[38;5;28;01mtry\u001b[39;00m:\n\u001b[1;32m   1530\u001b[0m     result \u001b[38;5;241m=\u001b[39m \u001b[38;5;28;01mNone\u001b[39;00m\n",
      "Cell \u001b[0;32mIn[136], line 64\u001b[0m, in \u001b[0;36mNerf_model.forward\u001b[0;34m(self, pos, angle)\u001b[0m\n\u001b[1;32m     63\u001b[0m \u001b[38;5;28;01mdef\u001b[39;00m \u001b[38;5;21mforward\u001b[39m(\u001b[38;5;28mself\u001b[39m, pos, angle):\n\u001b[0;32m---> 64\u001b[0m     pos_pe \u001b[38;5;241m=\u001b[39m \u001b[38;5;28;43mself\u001b[39;49m\u001b[38;5;241;43m.\u001b[39;49m\u001b[43mpositional_encoding\u001b[49m\u001b[43m(\u001b[49m\u001b[43mpos\u001b[49m\u001b[43m,\u001b[49m\u001b[43m \u001b[49m\u001b[38;5;28;43mself\u001b[39;49m\u001b[38;5;241;43m.\u001b[39;49m\u001b[43mhigh_fre_level\u001b[49m\u001b[43m)\u001b[49m\n\u001b[1;32m     65\u001b[0m     origin_x \u001b[38;5;241m=\u001b[39m torch\u001b[38;5;241m.\u001b[39mcat((pos,pos_pe),dim\u001b[38;5;241m=\u001b[39m\u001b[38;5;241m1\u001b[39m)\u001b[38;5;241m.\u001b[39mfloat()\n\u001b[1;32m     66\u001b[0m     x \u001b[38;5;241m=\u001b[39m \u001b[38;5;28mself\u001b[39m\u001b[38;5;241m.\u001b[39mforward_phase_1(origin_x)\n",
      "Cell \u001b[0;32mIn[136], line 44\u001b[0m, in \u001b[0;36mNerf_model.positional_encoding\u001b[0;34m(self, data, high_fre_level)\u001b[0m\n\u001b[1;32m     42\u001b[0m     \u001b[38;5;28;01mfor\u001b[39;00m j \u001b[38;5;129;01min\u001b[39;00m \u001b[38;5;28mrange\u001b[39m(d):\n\u001b[1;32m     43\u001b[0m         pe[i, \u001b[38;5;241m2\u001b[39m\u001b[38;5;241m*\u001b[39mj\u001b[38;5;241m*\u001b[39mhigh_fre_level:high_fre_level\u001b[38;5;241m*\u001b[39m(j\u001b[38;5;241m+\u001b[39m\u001b[38;5;241m1\u001b[39m)\u001b[38;5;241m*\u001b[39m\u001b[38;5;241m2\u001b[39m:\u001b[38;5;241m2\u001b[39m] \u001b[38;5;241m=\u001b[39m torch\u001b[38;5;241m.\u001b[39msin(data[i,j] \u001b[38;5;241m*\u001b[39m div_term)\n\u001b[0;32m---> 44\u001b[0m         pe[i, \u001b[38;5;241m1\u001b[39m \u001b[38;5;241m+\u001b[39m \u001b[38;5;241m2\u001b[39m\u001b[38;5;241m*\u001b[39mj\u001b[38;5;241m*\u001b[39mhigh_fre_level:high_fre_level\u001b[38;5;241m*\u001b[39m(j\u001b[38;5;241m+\u001b[39m\u001b[38;5;241m1\u001b[39m)\u001b[38;5;241m*\u001b[39m\u001b[38;5;241m2\u001b[39m\u001b[38;5;241m+\u001b[39m\u001b[38;5;241m1\u001b[39m:\u001b[38;5;241m2\u001b[39m] \u001b[38;5;241m=\u001b[39m \u001b[43mtorch\u001b[49m\u001b[38;5;241;43m.\u001b[39;49m\u001b[43mcos\u001b[49m\u001b[43m(\u001b[49m\u001b[43mdata\u001b[49m\u001b[43m[\u001b[49m\u001b[43mi\u001b[49m\u001b[43m,\u001b[49m\u001b[43mj\u001b[49m\u001b[43m]\u001b[49m\u001b[43m \u001b[49m\u001b[38;5;241;43m*\u001b[39;49m\u001b[43m \u001b[49m\u001b[43mdiv_term\u001b[49m\u001b[43m)\u001b[49m\n\u001b[1;32m     45\u001b[0m \u001b[38;5;28;01mreturn\u001b[39;00m pe\n",
      "\u001b[0;31mKeyboardInterrupt\u001b[0m: "
     ]
    }
   ],
   "source": [
    "# optimizer = optim.Adam(model.parameters(),lr=0.001)\n",
    "# criterion = PSNRWithMSELoss()\n",
    "# criterion = torch.nn.MSELoss()\n",
    "# number_iteration  = 1000\n",
    "# for i in range(number_iteration):\n",
    "#     dataset = RaysData(images_train, K, c2ws_train)\n",
    "#     rays_o, rays_d, pixels = dataset.sample_rays(10)\n",
    "#     points = sample_along_rays(rays_o, rays_d)\n",
    "#     points = torch.tensor(points).to(device)\n",
    "#     rays_d = torch.tensor(rays_d).to(device)\n",
    "    \n",
    "#     rays_d = torch.unsqueeze(rays_d,1)\n",
    "#     rays_d = rays_d.repeat(1,n_samples,1)\n",
    "#     rays_d = rays_d.view(-1,3)\n",
    "    \n",
    "#     rgbs, sigmas = model(points, rays_d)\n",
    "#     # sigams = model.foward_dentisy()\n",
    "#     sigmas = sigmas.view(-1,n_samples,1)\n",
    "#     rgbs = rgbs.view(-1,n_samples,3)\n",
    "#     rendered_colors = volrend(sigmas, rgbs, step_size)\n",
    "#     pixels = torch.tensor(pixels).float().to(device)\n",
    "#     loss = criterion(rendered_colors, pixels)\n",
    "#     optimizer.zero_grad()\n",
    "#     loss.backward()\n",
    "#     optimizer.step()\n",
    "#     # if (i_batch) % 10000 == 0:\n",
    "#     print(f'iteration [{i}], Loss: {loss.item()}')"
   ]
  },
  {
   "cell_type": "code",
   "execution_count": null,
   "id": "260ae3e0-8563-4b9e-87db-25f944691dd1",
   "metadata": {},
   "outputs": [],
   "source": []
  },
  {
   "cell_type": "code",
   "execution_count": 138,
   "id": "656a2c97-3199-4c7e-8f30-b084d5e33f62",
   "metadata": {},
   "outputs": [
    {
     "name": "stdout",
     "output_type": "stream",
     "text": [
      "torch.Size([2, 1, 3])\n",
      "torch.Size([2, 5, 3])\n",
      "tensor([[1, 2, 3],\n",
      "        [1, 2, 3],\n",
      "        [1, 2, 3],\n",
      "        [1, 2, 3],\n",
      "        [1, 2, 3],\n",
      "        [4, 5, 6],\n",
      "        [4, 5, 6],\n",
      "        [4, 5, 6],\n",
      "        [4, 5, 6],\n",
      "        [4, 5, 6]])\n"
     ]
    }
   ],
   "source": [
    "# ttt = torch.tensor(([1,2,3],[4,5,6],[7,8,9],[10,11,12],[13,14,15],[16,17,18]))\n",
    "# tttt = ttt.view(-1,3,3)\n",
    "# print(tttt.shape)\n",
    "# print(tttt)\n",
    "\n",
    "aaaa = torch.tensor(([[1,2,3],[4,5,6]]))\n",
    "aaaaa = torch.unsqueeze(aaaa,1)\n",
    "print(aaaaa.shape)\n",
    "aaaaa = aaaaa.repeat(1,5,1)\n",
    "print(aaaaa.shape)\n",
    "aaaaaa = aaaaa.view(-1,3)\n",
    "print(aaaaaa)"
   ]
  },
  {
   "cell_type": "code",
   "execution_count": 20,
   "id": "49d958ce-d119-469f-b796-28e97dc262a8",
   "metadata": {},
   "outputs": [],
   "source": [
    "class PSNRWithMSELoss(nn.Module):\n",
    "    def __init__(self):\n",
    "        super(PSNRWithMSELoss, self).__init__()\n",
    "        \n",
    "    def forward(self, predicted, target):\n",
    "        # mse_loss = nn.MSELoss()(predicted, target)\n",
    "        # mse_loss = nn.MSELoss()(predicted, target)\n",
    "        # psnr = 10 * torch.log10(1 / mse_loss)\n",
    "        mse_loss = torch.mean((predicted - target) ** 2)\n",
    "        psnr = 10 * torch.log10(1 / mse_loss)\n",
    "        return psnr"
   ]
  },
  {
   "cell_type": "code",
   "execution_count": 21,
   "id": "82bae047-6365-44af-880e-2c92abb4d5f6",
   "metadata": {},
   "outputs": [],
   "source": [
    "model = Nerf_model(10,4,256).to(device)\n",
    "step_size = (6-2)/n_samples"
   ]
  },
  {
   "cell_type": "code",
   "execution_count": 22,
   "id": "d4b2f8e0-4eb9-4041-8baf-30a622247342",
   "metadata": {},
   "outputs": [
    {
     "name": "stderr",
     "output_type": "stream",
     "text": [
      "2023-11-02 19:46:30.392780: I tensorflow/tsl/cuda/cudart_stub.cc:28] Could not find cuda drivers on your machine, GPU will not be used.\n",
      "2023-11-02 19:46:30.515437: I tensorflow/core/platform/cpu_feature_guard.cc:182] This TensorFlow binary is optimized to use available CPU instructions in performance-critical operations.\n",
      "To enable the following instructions: AVX2 FMA, in other operations, rebuild TensorFlow with the appropriate compiler flags.\n",
      "2023-11-02 19:46:31.250190: W tensorflow/compiler/tf2tensorrt/utils/py_utils.cc:38] TF-TRT Warning: Could not find TensorRT\n",
      "/tmp/ipykernel_4247/2814496965.py:11: UserWarning: Creating a tensor from a list of numpy.ndarrays is extremely slow. Please consider converting the list to a single numpy.ndarray with numpy.array() before converting to a tensor. (Triggered internally at ../torch/csrc/utils/tensor_new.cpp:261.)\n",
      "  rays_d = torch.tensor(rays_d).to(device)\n"
     ]
    },
    {
     "ename": "KeyboardInterrupt",
     "evalue": "",
     "output_type": "error",
     "traceback": [
      "\u001b[0;31m---------------------------------------------------------------------------\u001b[0m",
      "\u001b[0;31mKeyboardInterrupt\u001b[0m                         Traceback (most recent call last)",
      "Cell \u001b[0;32mIn[22], line 17\u001b[0m\n\u001b[1;32m     14\u001b[0m rays_d \u001b[38;5;241m=\u001b[39m rays_d\u001b[38;5;241m.\u001b[39mrepeat(\u001b[38;5;241m1\u001b[39m,n_samples,\u001b[38;5;241m1\u001b[39m)\n\u001b[1;32m     15\u001b[0m rays_d \u001b[38;5;241m=\u001b[39m rays_d\u001b[38;5;241m.\u001b[39mview(\u001b[38;5;241m-\u001b[39m\u001b[38;5;241m1\u001b[39m,\u001b[38;5;241m3\u001b[39m)\n\u001b[0;32m---> 17\u001b[0m rgbs, sigmas \u001b[38;5;241m=\u001b[39m \u001b[43mmodel\u001b[49m\u001b[43m(\u001b[49m\u001b[43mpoints\u001b[49m\u001b[43m,\u001b[49m\u001b[43m \u001b[49m\u001b[43mrays_d\u001b[49m\u001b[43m)\u001b[49m\n\u001b[1;32m     18\u001b[0m rgbs \u001b[38;5;241m=\u001b[39m rgbs\u001b[38;5;241m.\u001b[39mto(device)\n\u001b[1;32m     19\u001b[0m sigmas \u001b[38;5;241m=\u001b[39m sigmas\u001b[38;5;241m.\u001b[39mto(device)\n",
      "File \u001b[0;32m~/anaconda3/lib/python3.10/site-packages/torch/nn/modules/module.py:1518\u001b[0m, in \u001b[0;36mModule._wrapped_call_impl\u001b[0;34m(self, *args, **kwargs)\u001b[0m\n\u001b[1;32m   1516\u001b[0m     \u001b[38;5;28;01mreturn\u001b[39;00m \u001b[38;5;28mself\u001b[39m\u001b[38;5;241m.\u001b[39m_compiled_call_impl(\u001b[38;5;241m*\u001b[39margs, \u001b[38;5;241m*\u001b[39m\u001b[38;5;241m*\u001b[39mkwargs)  \u001b[38;5;66;03m# type: ignore[misc]\u001b[39;00m\n\u001b[1;32m   1517\u001b[0m \u001b[38;5;28;01melse\u001b[39;00m:\n\u001b[0;32m-> 1518\u001b[0m     \u001b[38;5;28;01mreturn\u001b[39;00m \u001b[38;5;28;43mself\u001b[39;49m\u001b[38;5;241;43m.\u001b[39;49m\u001b[43m_call_impl\u001b[49m\u001b[43m(\u001b[49m\u001b[38;5;241;43m*\u001b[39;49m\u001b[43margs\u001b[49m\u001b[43m,\u001b[49m\u001b[43m \u001b[49m\u001b[38;5;241;43m*\u001b[39;49m\u001b[38;5;241;43m*\u001b[39;49m\u001b[43mkwargs\u001b[49m\u001b[43m)\u001b[49m\n",
      "File \u001b[0;32m~/anaconda3/lib/python3.10/site-packages/torch/nn/modules/module.py:1527\u001b[0m, in \u001b[0;36mModule._call_impl\u001b[0;34m(self, *args, **kwargs)\u001b[0m\n\u001b[1;32m   1522\u001b[0m \u001b[38;5;66;03m# If we don't have any hooks, we want to skip the rest of the logic in\u001b[39;00m\n\u001b[1;32m   1523\u001b[0m \u001b[38;5;66;03m# this function, and just call forward.\u001b[39;00m\n\u001b[1;32m   1524\u001b[0m \u001b[38;5;28;01mif\u001b[39;00m \u001b[38;5;129;01mnot\u001b[39;00m (\u001b[38;5;28mself\u001b[39m\u001b[38;5;241m.\u001b[39m_backward_hooks \u001b[38;5;129;01mor\u001b[39;00m \u001b[38;5;28mself\u001b[39m\u001b[38;5;241m.\u001b[39m_backward_pre_hooks \u001b[38;5;129;01mor\u001b[39;00m \u001b[38;5;28mself\u001b[39m\u001b[38;5;241m.\u001b[39m_forward_hooks \u001b[38;5;129;01mor\u001b[39;00m \u001b[38;5;28mself\u001b[39m\u001b[38;5;241m.\u001b[39m_forward_pre_hooks\n\u001b[1;32m   1525\u001b[0m         \u001b[38;5;129;01mor\u001b[39;00m _global_backward_pre_hooks \u001b[38;5;129;01mor\u001b[39;00m _global_backward_hooks\n\u001b[1;32m   1526\u001b[0m         \u001b[38;5;129;01mor\u001b[39;00m _global_forward_hooks \u001b[38;5;129;01mor\u001b[39;00m _global_forward_pre_hooks):\n\u001b[0;32m-> 1527\u001b[0m     \u001b[38;5;28;01mreturn\u001b[39;00m \u001b[43mforward_call\u001b[49m\u001b[43m(\u001b[49m\u001b[38;5;241;43m*\u001b[39;49m\u001b[43margs\u001b[49m\u001b[43m,\u001b[49m\u001b[43m \u001b[49m\u001b[38;5;241;43m*\u001b[39;49m\u001b[38;5;241;43m*\u001b[39;49m\u001b[43mkwargs\u001b[49m\u001b[43m)\u001b[49m\n\u001b[1;32m   1529\u001b[0m \u001b[38;5;28;01mtry\u001b[39;00m:\n\u001b[1;32m   1530\u001b[0m     result \u001b[38;5;241m=\u001b[39m \u001b[38;5;28;01mNone\u001b[39;00m\n",
      "Cell \u001b[0;32mIn[19], line 72\u001b[0m, in \u001b[0;36mNerf_model.forward\u001b[0;34m(self, pos, angle)\u001b[0m\n\u001b[1;32m     69\u001b[0m sigmas \u001b[38;5;241m=\u001b[39m \u001b[38;5;28mself\u001b[39m\u001b[38;5;241m.\u001b[39mrelu(sigmas)\n\u001b[1;32m     71\u001b[0m x \u001b[38;5;241m=\u001b[39m \u001b[38;5;28mself\u001b[39m\u001b[38;5;241m.\u001b[39mhidden_layer_5(x)\n\u001b[0;32m---> 72\u001b[0m angle_pe \u001b[38;5;241m=\u001b[39m \u001b[38;5;28;43mself\u001b[39;49m\u001b[38;5;241;43m.\u001b[39;49m\u001b[43mpositional_encoding\u001b[49m\u001b[43m(\u001b[49m\u001b[43mangle\u001b[49m\u001b[43m,\u001b[49m\u001b[43m \u001b[49m\u001b[38;5;28;43mself\u001b[39;49m\u001b[38;5;241;43m.\u001b[39;49m\u001b[43mhigh_fre_level_angle\u001b[49m\u001b[43m)\u001b[49m\n\u001b[1;32m     73\u001b[0m angle_input \u001b[38;5;241m=\u001b[39m torch\u001b[38;5;241m.\u001b[39mcat((angle,angle_pe),dim\u001b[38;5;241m=\u001b[39m\u001b[38;5;241m1\u001b[39m)\n\u001b[1;32m     74\u001b[0m concated_x \u001b[38;5;241m=\u001b[39m torch\u001b[38;5;241m.\u001b[39mcat((x,angle_input), dim \u001b[38;5;241m=\u001b[39m \u001b[38;5;241m1\u001b[39m)\u001b[38;5;241m.\u001b[39mfloat()\n",
      "Cell \u001b[0;32mIn[19], line 43\u001b[0m, in \u001b[0;36mNerf_model.positional_encoding\u001b[0;34m(self, data, high_fre_level)\u001b[0m\n\u001b[1;32m     41\u001b[0m \u001b[38;5;28;01mfor\u001b[39;00m i \u001b[38;5;129;01min\u001b[39;00m \u001b[38;5;28mrange\u001b[39m(\u001b[38;5;28mlen\u001b[39m(data)):\n\u001b[1;32m     42\u001b[0m     \u001b[38;5;28;01mfor\u001b[39;00m j \u001b[38;5;129;01min\u001b[39;00m \u001b[38;5;28mrange\u001b[39m(d):\n\u001b[0;32m---> 43\u001b[0m         pe[i, \u001b[38;5;241m2\u001b[39m\u001b[38;5;241m*\u001b[39mj\u001b[38;5;241m*\u001b[39mhigh_fre_level:high_fre_level\u001b[38;5;241m*\u001b[39m(j\u001b[38;5;241m+\u001b[39m\u001b[38;5;241m1\u001b[39m)\u001b[38;5;241m*\u001b[39m\u001b[38;5;241m2\u001b[39m:\u001b[38;5;241m2\u001b[39m] \u001b[38;5;241m=\u001b[39m \u001b[43mtorch\u001b[49m\u001b[38;5;241;43m.\u001b[39;49m\u001b[43msin\u001b[49m\u001b[43m(\u001b[49m\u001b[43mdata\u001b[49m\u001b[43m[\u001b[49m\u001b[43mi\u001b[49m\u001b[43m,\u001b[49m\u001b[43mj\u001b[49m\u001b[43m]\u001b[49m\u001b[43m \u001b[49m\u001b[38;5;241;43m*\u001b[39;49m\u001b[43m \u001b[49m\u001b[43mdiv_term\u001b[49m\u001b[43m)\u001b[49m\n\u001b[1;32m     44\u001b[0m         pe[i, \u001b[38;5;241m1\u001b[39m \u001b[38;5;241m+\u001b[39m \u001b[38;5;241m2\u001b[39m\u001b[38;5;241m*\u001b[39mj\u001b[38;5;241m*\u001b[39mhigh_fre_level:high_fre_level\u001b[38;5;241m*\u001b[39m(j\u001b[38;5;241m+\u001b[39m\u001b[38;5;241m1\u001b[39m)\u001b[38;5;241m*\u001b[39m\u001b[38;5;241m2\u001b[39m\u001b[38;5;241m+\u001b[39m\u001b[38;5;241m1\u001b[39m:\u001b[38;5;241m2\u001b[39m] \u001b[38;5;241m=\u001b[39m torch\u001b[38;5;241m.\u001b[39mcos(data[i,j] \u001b[38;5;241m*\u001b[39m div_term)\n\u001b[1;32m     45\u001b[0m \u001b[38;5;28;01mreturn\u001b[39;00m pe\n",
      "\u001b[0;31mKeyboardInterrupt\u001b[0m: "
     ]
    }
   ],
   "source": [
    "optimizer = optim.Adam(model.parameters())\n",
    "# criterion = PSNRWithMSELoss()\n",
    "criterion = torch.nn.MSELoss()\n",
    "number_iteration  = 10\n",
    "model.train()\n",
    "for i in range(number_iteration):\n",
    "    dataset = RaysData(images_train, K, c2ws_train)\n",
    "    rays_o, rays_d, pixels = dataset.sample_rays(10000)\n",
    "    points = sample_along_rays(rays_o, rays_d)\n",
    "    points = torch.tensor(points).to(device)\n",
    "    rays_d = torch.tensor(rays_d).to(device)\n",
    "    \n",
    "    rays_d = torch.unsqueeze(rays_d,1)\n",
    "    rays_d = rays_d.repeat(1,n_samples,1)\n",
    "    rays_d = rays_d.view(-1,3)\n",
    "    \n",
    "    rgbs, sigmas = model(points, rays_d)\n",
    "    rgbs = rgbs.to(device)\n",
    "    sigmas = sigmas.to(device)\n",
    "    # sigams = model.foward_dentisy()\n",
    "    sigmas = sigmas.view(-1, n_samples, 1)\n",
    "    rgbs = rgbs.view(-1, n_samples, 3)\n",
    "    rendered_colors = volrend(sigmas, rgbs, step_size)\n",
    "    pixels = torch.tensor(pixels).float().to(device)\n",
    "    loss = criterion(rendered_colors, pixels)\n",
    "    optimizer.zero_grad()\n",
    "    loss.backward()\n",
    "    optimizer.step()\n",
    "    # if (i_batch) % 10000 == 0:\n",
    "    print(f'iteration [{i}], Loss: {loss.item()}')"
   ]
  },
  {
   "cell_type": "code",
   "execution_count": 69,
   "id": "6febdcfa-efcd-4d01-8eed-62c622762cf9",
   "metadata": {},
   "outputs": [],
   "source": [
    "# uv = []\n",
    "# for i in range(200):\n",
    "#     uv.append([0,i])\n",
    "# uv = np.array(uv)\n",
    "# ray_o, ray_d = pixel_to_ray(K, c2w_eval, uv)"
   ]
  },
  {
   "cell_type": "code",
   "execution_count": null,
   "id": "f8b8c7d6-fd17-4756-8e83-93388296de65",
   "metadata": {},
   "outputs": [],
   "source": []
  },
  {
   "cell_type": "code",
   "execution_count": null,
   "id": "5767774a-536e-482a-bc89-125bab7dd5dc",
   "metadata": {},
   "outputs": [],
   "source": []
  },
  {
   "cell_type": "code",
   "execution_count": null,
   "id": "7d0b348c-4fad-49ab-b03d-9f7b93343332",
   "metadata": {},
   "outputs": [],
   "source": []
  },
  {
   "cell_type": "code",
   "execution_count": null,
   "id": "c0574c18-50a4-4855-8fb6-dde0c64ab799",
   "metadata": {},
   "outputs": [],
   "source": []
  },
  {
   "cell_type": "code",
   "execution_count": 93,
   "id": "480bed32-8326-40c1-ba3a-23ad1545a8e2",
   "metadata": {},
   "outputs": [],
   "source": [
    "model.eval()\n",
    "eval_height = 50\n",
    "eval_width = 50\n",
    "c2w_eval = c2ws_train[0]\n",
    "results = torch.zeros((eval_height, eval_width,3)).to(device)\n",
    "for i in range(eval_height):\n",
    "    uv = []\n",
    "    for j in range(eval_width):\n",
    "        uv.append([i,j])\n",
    "    ray_o, ray_d = pixel_to_ray(K, c2w_eval, uv)\n",
    "    rays_o = np.repeat(ray_o, eval_height, axis=0)\n",
    "    rays_d = list(ray_d)\n",
    "    points = sample_along_rays(rays_o, rays_d)\n",
    "    points = torch.tensor(points).to(device)\n",
    "    rays_d = torch.tensor(rays_d).to(device)\n",
    "    rays_d = torch.unsqueeze(rays_d,1)\n",
    "    rays_d = rays_d.repeat(1,n_samples,1)\n",
    "    rays_d = rays_d.view(-1,3)\n",
    "    \n",
    "    rgbs, sigmas = model(points, rays_d)\n",
    "    rgbs = rgbs.to(device)\n",
    "    sigmas = sigmas.to(device)\n",
    "    # sigams = model.foward_dentisy()\n",
    "    sigmas = sigmas.view(-1, n_samples, 1)\n",
    "    rgbs = rgbs.view(-1, n_samples, 3)\n",
    "    rendered_colors = volrend(sigmas, rgbs, step_size)\n",
    "    # print(rendered_colors.shape)\n",
    "    results[i,:,:] = rendered_colors"
   ]
  },
  {
   "cell_type": "code",
   "execution_count": 95,
   "id": "5bc4a0ba-ad2e-413b-9a42-c46b3f1dee7d",
   "metadata": {},
   "outputs": [
    {
     "name": "stderr",
     "output_type": "stream",
     "text": [
      "/home/yihua/anaconda3/lib/python3.10/site-packages/skimage/io/_plugins/matplotlib_plugin.py:150: UserWarning: Low image data range; displaying image with stretched contrast.\n",
      "  lo, hi, cmap = _get_display_range(image)\n"
     ]
    },
    {
     "data": {
      "text/plain": [
       "<matplotlib.image.AxesImage at 0x7fb81fe98640>"
      ]
     },
     "execution_count": 95,
     "metadata": {},
     "output_type": "execute_result"
    },
    {
     "data": {
      "image/png": "[encoded data removed]",
      "text/plain": [
       "<Figure size 640x480 with 2 Axes>"
      ]
     },
     "metadata": {},
     "output_type": "display_data"
    }
   ],
   "source": [
    "results = results.detach().cpu().numpy()\n",
    "skio.imshow(results)"
   ]
  },
  {
   "cell_type": "code",
   "execution_count": null,
   "id": "9f08ae5f-1b79-4c7f-ac6f-9bbc5398b916",
   "metadata": {},
   "outputs": [],
   "source": []
  }
 ],
 "metadata": {
  "kernelspec": {
   "display_name": "Python 3 (ipykernel)",
   "language": "python",
   "name": "python3"
  },
  "language_info": {
   "codemirror_mode": {
    "name": "ipython",
    "version": 3
   },
   "file_extension": ".py",
   "mimetype": "text/x-python",
   "name": "python",
   "nbconvert_exporter": "python",
   "pygments_lexer": "ipython3",
   "version": "3.10.13"
  }
 },
 "nbformat": 4,
 "nbformat_minor": 5
}
