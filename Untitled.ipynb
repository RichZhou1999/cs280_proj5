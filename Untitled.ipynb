{
 "cells": [
  {
   "cell_type": "code",
   "execution_count": 2,
   "id": "2c7b4511-8252-4e3b-aec1-fa3e08911a19",
   "metadata": {},
   "outputs": [],
   "source": [
    "from PIL import Image\n",
    "import imageio\n",
    "\n",
    "image_list = []\n",
    "\n",
    "# Change the path to where your images are located\n",
    "image_path = 'test_results/'\n",
    "\n",
    "for i in range(60):  # Assuming you have images named from 0 to 59\n",
    "    filename = f\"{image_path}{i}.png\"  # Adjust the extension if your images are not PNG\n",
    "    img = Image.open(filename)\n",
    "    image_list.append(img)\n",
    "\n",
    "# Save the images as a GIF\n",
    "imageio.mimsave('animation.gif', image_list, duration=0.2)  # Adjust duration as needed\n"
   ]
  },
  {
   "cell_type": "code",
   "execution_count": null,
   "id": "7323184f-7e0a-4562-9b49-ee1593a0d7b5",
   "metadata": {},
   "outputs": [],
   "source": []
  },
  {
   "cell_type": "code",
   "execution_count": null,
   "id": "3d022da7-84ff-4cfe-9a6a-aa24a2719f8b",
   "metadata": {},
   "outputs": [],
   "source": []
  }
 ],
 "metadata": {
  "kernelspec": {
   "display_name": "Python 3 (ipykernel)",
   "language": "python",
   "name": "python3"
  },
  "language_info": {
   "codemirror_mode": {
    "name": "ipython",
    "version": 3
   },
   "file_extension": ".py",
   "mimetype": "text/x-python",
   "name": "python",
   "nbconvert_exporter": "python",
   "pygments_lexer": "ipython3",
   "version": "3.10.13"
  }
 },
 "nbformat": 4,
 "nbformat_minor": 5
}
