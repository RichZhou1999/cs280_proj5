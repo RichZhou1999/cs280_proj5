{
 "cells": [
  {
   "cell_type": "code",
   "execution_count": 1,
   "id": "463ff663-9da0-4cb9-95af-cf3a049fbed9",
   "metadata": {},
   "outputs": [],
   "source": [
    "import torch\n",
    "import torch.nn as nn\n",
    "from torch.utils.data import Dataset, DataLoader\n",
    "import pandas as pd\n",
    "import numpy as np\n",
    "import matplotlib.pyplot as plt\n",
    "from PIL import Image\n",
    "import skimage.io as skio\n",
    "import torch.optim as optim\n",
    "import skimage as sk\n",
    "from tqdm import tqdm\n",
    "import matplotlib.pyplot as plt"
   ]
  },
  {
   "cell_type": "code",
   "execution_count": 2,
   "id": "f9bc3c3e-a403-4a9d-9227-45f5ad382faf",
   "metadata": {},
   "outputs": [],
   "source": [
    "from torch.optim.lr_scheduler import StepLR"
   ]
  },
  {
   "cell_type": "code",
   "execution_count": 3,
   "id": "432b2f05-e0fe-40bd-981f-72afba481286",
   "metadata": {},
   "outputs": [],
   "source": [
    "cuda_available = torch.cuda.is_available()\n",
    "device = torch.device(\"cuda\" if torch.cuda.is_available() else \"cpu\")"
   ]
  },
  {
   "cell_type": "code",
   "execution_count": 4,
   "id": "b3c322fc-acb6-4ec7-9401-11f958e2fa1e",
   "metadata": {},
   "outputs": [],
   "source": [
    "data = np.load(f\"lego_200x200.npz\")\n",
    "images_train = data[\"images_train\"] / 255.0\n",
    "c2ws_train = data[\"c2ws_train\"]\n",
    "images_val = data[\"images_val\"] / 255.0\n",
    "c2ws_val = data[\"c2ws_val\"]\n",
    "c2ws_test = data[\"c2ws_test\"]\n",
    "focal = data[\"focal\"]"
   ]
  },
  {
   "cell_type": "code",
   "execution_count": 5,
   "id": "196e0b47-20bc-4428-a1ff-20ec4762184c",
   "metadata": {},
   "outputs": [],
   "source": [
    "height = 200\n",
    "width = 200\n",
    "n_samples = 32"
   ]
  },
  {
   "cell_type": "code",
   "execution_count": 6,
   "id": "020f3597-6e7b-4e8b-8425-b7240be35d69",
   "metadata": {},
   "outputs": [],
   "source": [
    "K = np.array([[focal,0,width/2],[0,focal,height/2],[0,0,1]])"
   ]
  },
  {
   "cell_type": "code",
   "execution_count": 7,
   "id": "47fa5710-c01a-41f8-ac9a-acfd740a4211",
   "metadata": {},
   "outputs": [],
   "source": [
    "def transform(c2w, x_c):\n",
    "    #camera to world\n",
    "    num_rows = len(x_c)\n",
    "    ones_column = np.ones((num_rows, 1))\n",
    "    x_c_with_one = np.concatenate((x_c, ones_column), axis=1)\n",
    "    x = (c2w @ x_c_with_one.T).T\n",
    "    return x[:,:-1]"
   ]
  },
  {
   "cell_type": "code",
   "execution_count": 8,
   "id": "45caee41-8510-4019-a164-ae52812f3b4b",
   "metadata": {},
   "outputs": [],
   "source": [
    "def pixel_to_camera(K, uv,s):\n",
    "    num_rows = len(uv)\n",
    "    ones_column = np.ones((num_rows, 1))\n",
    "    uv_with_one = np.concatenate((uv, ones_column), axis=1)\n",
    "    result = (np.linalg.inv(K) @ uv_with_one.T).T\n",
    "    return result"
   ]
  },
  {
   "cell_type": "code",
   "execution_count": 9,
   "id": "dbe30cd8-8614-48cf-be40-7bd0da5aea76",
   "metadata": {},
   "outputs": [],
   "source": [
    "def pixel_to_ray(K, c2w, uv):\n",
    "    zeros = np.array([[0,0,0]])\n",
    "    origin = transform(c2w, zeros)\n",
    "    depth_1_points = pixel_to_camera(K, uv, 1)\n",
    "    world_depth_1_points = transform(c2w, depth_1_points)\n",
    "    world_depth_1_points_direction = world_depth_1_points - origin\n",
    "    norms = np.linalg.norm(world_depth_1_points_direction, axis=1, keepdims=True)\n",
    "    directions = world_depth_1_points_direction/ norms\n",
    "\n",
    "    return origin, directions"
   ]
  },
  {
   "cell_type": "code",
   "execution_count": 11,
   "id": "fef93706-259c-4fa8-ab76-aa2e37763eb7",
   "metadata": {},
   "outputs": [],
   "source": [
    "class RaysData(Dataset):\n",
    "    def __init__(self, img_train, K, c2ws_train):\n",
    "        self.img = img_train\n",
    "        self.c2ws = c2ws_train\n",
    "        self.K = K\n",
    "        self.height = 200\n",
    "        self.width = 200\n",
    "        self.length = len(self.img) * self.height * self.width\n",
    "\n",
    "    def __len__(self):\n",
    "        return len(self.img) * self.height * self.width\n",
    "    \n",
    "    def __getitem__(self, idx):\n",
    "        img_index = idx // (self.width*self.height)\n",
    "        residual = idx % (self.width*self.height)\n",
    "        temp_height = residual // self.height \n",
    "        temp_width = residual % self.width \n",
    "        c2w = self.c2ws[img_index]\n",
    "        uv = np.array([[temp_height+0.5, temp_width+0.5]])\n",
    "        ray_o, ray_d = pixel_to_ray(self.K, c2w, uv)\n",
    "        pixel = self.img[img_index,temp_height,temp_width,:]\n",
    "        sample = {'rays_o':ray_o[0],\n",
    "                  \"rays_d\":ray_d[0],\n",
    "                 \"pixels\":pixel}\n",
    "        return sample\n",
    "\n",
    "    def generate_sample_pool(self):\n",
    "        self.rays_o = []\n",
    "        self.rays_d = []\n",
    "        self.pixels = []\n",
    "        for index in range(self.__len__()):\n",
    "            img_index = index // (self.width*self.height)\n",
    "            residual = index % (self.width*self.height)\n",
    "            temp_height = residual // self.height \n",
    "            temp_width = residual % self.width \n",
    "            c2w = self.c2ws[img_index]\n",
    "            uv = np.array([[temp_height+0.5, temp_width+0.5]])\n",
    "            ray_o, ray_d = pixel_to_ray(self.K, c2w, uv)\n",
    "            self.rays_o.append(ray_o[0])\n",
    "            self.rays_d.append(ray_d[0])\n",
    "            self.pixels.append(self.img[img_index,temp_height,temp_width,:])\n",
    "        self.rays_o = np.array(self.rays_o)\n",
    "        self.rays_d = np.array(self.rays_d)\n",
    "        self.pixels = np.array(self.pixels)\n",
    "            \n",
    "    # def sample_rays(self, num_samples):\n",
    "    #     rays_o = []\n",
    "    #     rays_d = []\n",
    "    #     pixels = []\n",
    "    #     # random_numbers = [random.randint(0,self.length -1) for _ in range(num_samples)]\n",
    "    #     random_numbers = np.random.randint(0, self.length - 1, size=num_samples) \n",
    "    #     for random_number in random_numbers:\n",
    "    #         img_index = random_number // (self.width*self.height)\n",
    "    #         residual = random_number % (self.width*self.height)\n",
    "    #         temp_height = residual // self.height \n",
    "    #         temp_width = residual % self.width \n",
    "    #         c2w = self.c2ws[img_index]\n",
    "    #         uv = np.array([[temp_height+0.5, temp_width+0.5]])\n",
    "    #         ray_o, ray_d = pixel_to_ray(self.K, c2w, uv)\n",
    "    #         rays_o.append(ray_o[0])\n",
    "    #         rays_d.append(ray_d[0])\n",
    "    #         pixels.append(self.img[img_index,temp_height,temp_width,:])\n",
    "    #     return rays_o, rays_d,pixels\n",
    "\n",
    "\n",
    "    # def generate(self):\n",
    "    #     for i in range(eval_height):\n",
    "    #     uv = []\n",
    "    #     for j in range(eval_width):\n",
    "    #         uv.append([i,j])\n",
    "    #     ray_o, ray_d = pixel_to_ray(K, c2w_eval, uv)\n",
    "    #     rays_o = np.repeat(ray_o, eval_height, axis=0)\n",
    "    #     rays_d = list(ray_d)\n",
    "    \n",
    "    #     rays_o = torch.tensor(rays_o).float().to(device)\n",
    "    #     rays_d = torch.tensor(rays_d).float().to(device)\n",
    "    \n",
    "    def sample_rays(self, num_samples):\n",
    "        # rays_o = []\n",
    "        # rays_d = []\n",
    "        # pixels = []\n",
    "        # # random_numbers = [random.randint(0,self.length -1) for _ in range(num_samples)]\n",
    "        random_numbers = np.random.randint(0, self.length - 1, size=num_samples) \n",
    "        # for random_number in random_numbers:\n",
    "        #     img_index = random_number // (self.width*self.height)\n",
    "        #     residual = random_number % (self.width*self.height)\n",
    "        #     temp_height = residual // self.height \n",
    "        #     temp_width = residual % self.width \n",
    "        #     c2w = self.c2ws[img_index]\n",
    "        #     uv = np.array([[temp_height+0.5, temp_width+0.5]])\n",
    "        #     ray_o, ray_d = pixel_to_ray(self.K, c2w, uv)\n",
    "        #     rays_o.append(ray_o[0])\n",
    "        #     rays_d.append(ray_d[0])\n",
    "        #     pixels.append(self.img[img_index,temp_height,temp_width,:])\n",
    "        return self.rays_o[random_numbers], self.rays_d[random_numbers], self.pixels[random_numbers]"
   ]
  },
  {
   "cell_type": "code",
   "execution_count": 10,
   "id": "6d8399c8-6310-48e0-a079-d8b91226180d",
   "metadata": {},
   "outputs": [],
   "source": [
    "# aaa =   torch.ones(100, 32) * torch.rand(1)*(6 - 2 )/ n_samples "
   ]
  },
  {
   "cell_type": "code",
   "execution_count": 11,
   "id": "e6fde235-6141-4167-ba9f-f84db48c09a7",
   "metadata": {},
   "outputs": [],
   "source": [
    "# aaa"
   ]
  },
  {
   "cell_type": "code",
   "execution_count": 12,
   "id": "e88a8f95-6489-402d-82cc-527bdc0ae232",
   "metadata": {},
   "outputs": [],
   "source": [
    "def sample_along_rays(rays_o, rays_d, n_samples=32, perturb=True):\n",
    "    far = 6 \n",
    "    near = 2\n",
    "    \n",
    "    t_values = torch.linspace(near, far, n_samples).to(device)\n",
    "    # ran_values = (torch.rand((len(rays_o), n_samples)) * (far - near) / n_samples).to(device)\n",
    "    ran_values = torch.ones(len(rays_o), n_samples) * torch.rand(1)*(far - near) / n_samples \n",
    "    ran_values = ran_values.to(device)\n",
    "    # Create 3D grid for rays_o and rays_d\n",
    "    ray_o_grid = rays_o[:, None, :].repeat(1, n_samples, 1)\n",
    "    ray_d_grid = rays_d[:, None, :].repeat(1, n_samples, 1)\n",
    "\n",
    "    # Compute points without explicit loops\n",
    "    if perturb:\n",
    "        p_t = t_values + ran_values\n",
    "    else:\n",
    "        p_t = t_values + ran_values*0\n",
    "    p_t = p_t.to(device)\n",
    "    points = ray_o_grid + ray_d_grid * p_t.unsqueeze(2)\n",
    "\n",
    "    return points.view(-1, 3)"
   ]
  },
  {
   "cell_type": "code",
   "execution_count": null,
   "id": "33cfb97d-74a0-49f5-85ad-2ed29f1dc74e",
   "metadata": {},
   "outputs": [],
   "source": []
  },
  {
   "cell_type": "code",
   "execution_count": null,
   "id": "8527c848-6cb3-4e60-9bd2-9304599ca2b2",
   "metadata": {},
   "outputs": [],
   "source": []
  },
  {
   "cell_type": "code",
   "execution_count": 33,
   "id": "7a722473-622e-4765-8877-f24f27bbf043",
   "metadata": {},
   "outputs": [],
   "source": [
    "# dataset = RaysData(images_train, K, c2ws_train)\n",
    "# dataloader = DataLoader(dataset, batch_size=100,\n",
    "#                         shuffle=True)"
   ]
  },
  {
   "cell_type": "code",
   "execution_count": 34,
   "id": "a7e824a8-c408-41df-8bbf-724f2163edae",
   "metadata": {},
   "outputs": [],
   "source": [
    "# data_iterator = iter(dataloader)\n",
    "# one_batch = next(data_iterator)\n",
    "# rays_o, rays_d, pixels = one_batch\n",
    "\n",
    "# rays_o = one_batch['rays_o'].squeeze()\n",
    "# rays_d = one_batch['rays_d'].squeeze()\n",
    "# rays_o = rays_o.float()\n",
    "# rays_d = rays_d.float()"
   ]
  },
  {
   "cell_type": "code",
   "execution_count": 35,
   "id": "8e7a40a4-f1c6-4447-96ee-4e84ad65a1ed",
   "metadata": {},
   "outputs": [],
   "source": [
    "# import viser, time  # pip install viser\n",
    "# import numpy as np\n",
    "\n",
    "# # --- You Need to Implement These ------\n",
    "# dataset = RaysData(images_train, K, c2ws_train)\n",
    "# dataloader = DataLoader(dataset, batch_size=100,\n",
    "#                         shuffle=True)\n",
    "# data_iterator = iter(dataloader)\n",
    "# one_batch = next(data_iterator)\n",
    "# rays_o, rays_d, pixels = one_batch\n",
    "\n",
    "# rays_o = one_batch['rays_o'].squeeze()\n",
    "# rays_d = one_batch['rays_d'].squeeze()\n",
    "# rays_o = rays_o.float().to(device)\n",
    "# rays_d = rays_d.float().to(device)\n",
    "# points = sample_along_rays(rays_o, rays_d, perturb=True)\n",
    "# H, W = images_train.shape[1:3]"
   ]
  },
  {
   "cell_type": "code",
   "execution_count": 36,
   "id": "8567b1d2-1588-4e35-8715-5956df9cf3db",
   "metadata": {},
   "outputs": [],
   "source": [
    "# points = points.detach().cpu().numpy()\n",
    "# rays_o = rays_o.detach().cpu().numpy()\n",
    "# rays_d = rays_d.detach().cpu().numpy()"
   ]
  },
  {
   "cell_type": "code",
   "execution_count": 37,
   "id": "30bc534d-e4f5-4fc3-b9b4-e00eb4a6a3d9",
   "metadata": {},
   "outputs": [
    {
     "data": {
      "text/html": [
       "<pre style=\"white-space:pre;overflow-x:auto;line-height:normal;font-family:Menlo,'DejaVu Sans Mono',consolas,'Courier New',monospace\"><span style=\"font-weight: bold\">(viser)</span> Share URL requested! <span style=\"font-weight: bold\">(</span>expires in <span style=\"color: #008080; text-decoration-color: #008080; font-weight: bold\">24</span> hours<span style=\"font-weight: bold\">)</span>\n",
       "</pre>\n"
      ],
      "text/plain": [
       "\u001b[1m(\u001b[0m\u001b[1mviser\u001b[0m\u001b[1m)\u001b[0m Share URL requested! \u001b[1m(\u001b[0mexpires in \u001b[1;36m24\u001b[0m hours\u001b[1m)\u001b[0m\n"
      ]
     },
     "metadata": {},
     "output_type": "display_data"
    },
    {
     "data": {
      "text/html": [
       "<pre style=\"white-space:pre;overflow-x:auto;line-height:normal;font-family:Menlo,'DejaVu Sans Mono',consolas,'Courier New',monospace\">╭───────────────────────── <span style=\"font-weight: bold\">viser</span> ─────────────────────────╮\n",
       "│             ╷                                           │\n",
       "│   HTTP      │ http://0.0.0.0:8082                       │\n",
       "│   Websocket │ ws://0.0.0.0:8082                         │\n",
       "│   Share URL │ https://shadow-cheap.share.viser.studio   │\n",
       "│             ╵                                           │\n",
       "╰─────────────────────────────────────────────────────────╯\n",
       "</pre>\n"
      ],
      "text/plain": [
       "╭───────────────────────── \u001b[1mviser\u001b[0m ─────────────────────────╮\n",
       "│             ╷                                           │\n",
       "│   HTTP      │ http://0.0.0.0:8082                       │\n",
       "│   Websocket │ ws://0.0.0.0:8082                         │\n",
       "│   Share URL │ https://shadow-cheap.share.viser.studio   │\n",
       "│             ╵                                           │\n",
       "╰─────────────────────────────────────────────────────────╯\n"
      ]
     },
     "metadata": {},
     "output_type": "display_data"
    },
    {
     "data": {
      "text/html": [
       "<pre style=\"white-space:pre;overflow-x:auto;line-height:normal;font-family:Menlo,'DejaVu Sans Mono',consolas,'Courier New',monospace\"><span style=\"font-weight: bold\">(viser)</span> Connection closed <span style=\"font-weight: bold\">(</span><span style=\"color: #008080; text-decoration-color: #008080; font-weight: bold\">0</span>, <span style=\"color: #008080; text-decoration-color: #008080; font-weight: bold\">0</span> total<span style=\"font-weight: bold\">)</span>\n",
       "</pre>\n"
      ],
      "text/plain": [
       "\u001b[1m(\u001b[0m\u001b[1mviser\u001b[0m\u001b[1m)\u001b[0m Connection closed \u001b[1m(\u001b[0m\u001b[1;36m0\u001b[0m, \u001b[1;36m0\u001b[0m total\u001b[1m)\u001b[0m\n"
      ]
     },
     "metadata": {},
     "output_type": "display_data"
    },
    {
     "data": {
      "text/html": [
       "<pre style=\"white-space:pre;overflow-x:auto;line-height:normal;font-family:Menlo,'DejaVu Sans Mono',consolas,'Courier New',monospace\"><span style=\"font-weight: bold\">(viser)</span> Connection opened <span style=\"font-weight: bold\">(</span><span style=\"color: #008080; text-decoration-color: #008080; font-weight: bold\">0</span>, <span style=\"color: #008080; text-decoration-color: #008080; font-weight: bold\">1</span> total<span style=\"font-weight: bold\">)</span>, <span style=\"color: #008080; text-decoration-color: #008080; font-weight: bold\">506</span> persistent messages\n",
       "</pre>\n"
      ],
      "text/plain": [
       "\u001b[1m(\u001b[0m\u001b[1mviser\u001b[0m\u001b[1m)\u001b[0m Connection opened \u001b[1m(\u001b[0m\u001b[1;36m0\u001b[0m, \u001b[1;36m1\u001b[0m total\u001b[1m)\u001b[0m, \u001b[1;36m506\u001b[0m persistent messages\n"
      ]
     },
     "metadata": {},
     "output_type": "display_data"
    },
    {
     "data": {
      "text/html": [
       "<pre style=\"white-space:pre;overflow-x:auto;line-height:normal;font-family:Menlo,'DejaVu Sans Mono',consolas,'Courier New',monospace\"><span style=\"font-weight: bold\">(viser)</span> Connection closed <span style=\"font-weight: bold\">(</span><span style=\"color: #008080; text-decoration-color: #008080; font-weight: bold\">0</span>, <span style=\"color: #008080; text-decoration-color: #008080; font-weight: bold\">0</span> total<span style=\"font-weight: bold\">)</span>\n",
       "</pre>\n"
      ],
      "text/plain": [
       "\u001b[1m(\u001b[0m\u001b[1mviser\u001b[0m\u001b[1m)\u001b[0m Connection closed \u001b[1m(\u001b[0m\u001b[1;36m0\u001b[0m, \u001b[1;36m0\u001b[0m total\u001b[1m)\u001b[0m\n"
      ]
     },
     "metadata": {},
     "output_type": "display_data"
    },
    {
     "ename": "KeyboardInterrupt",
     "evalue": "",
     "output_type": "error",
     "traceback": [
      "\u001b[0;31m---------------------------------------------------------------------------\u001b[0m",
      "\u001b[0;31mKeyboardInterrupt\u001b[0m                         Traceback (most recent call last)",
      "Cell \u001b[0;32mIn[37], line 22\u001b[0m\n\u001b[1;32m     13\u001b[0m     server\u001b[38;5;241m.\u001b[39madd_spline_catmull_rom(\n\u001b[1;32m     14\u001b[0m         \u001b[38;5;124mf\u001b[39m\u001b[38;5;124m\"\u001b[39m\u001b[38;5;124m/rays/\u001b[39m\u001b[38;5;132;01m{\u001b[39;00mi\u001b[38;5;132;01m}\u001b[39;00m\u001b[38;5;124m\"\u001b[39m, positions\u001b[38;5;241m=\u001b[39mnp\u001b[38;5;241m.\u001b[39mstack((o, o \u001b[38;5;241m+\u001b[39m d \u001b[38;5;241m*\u001b[39m \u001b[38;5;241m6.0\u001b[39m)),\n\u001b[1;32m     15\u001b[0m     )\n\u001b[1;32m     16\u001b[0m server\u001b[38;5;241m.\u001b[39madd_point_cloud(\n\u001b[1;32m     17\u001b[0m     \u001b[38;5;124mf\u001b[39m\u001b[38;5;124m\"\u001b[39m\u001b[38;5;124m/samples\u001b[39m\u001b[38;5;124m\"\u001b[39m,\n\u001b[1;32m     18\u001b[0m     colors\u001b[38;5;241m=\u001b[39mnp\u001b[38;5;241m.\u001b[39mzeros_like(points)\u001b[38;5;241m.\u001b[39mreshape(\u001b[38;5;241m-\u001b[39m\u001b[38;5;241m1\u001b[39m, \u001b[38;5;241m3\u001b[39m),\n\u001b[1;32m     19\u001b[0m     points\u001b[38;5;241m=\u001b[39mpoints\u001b[38;5;241m.\u001b[39mreshape(\u001b[38;5;241m-\u001b[39m\u001b[38;5;241m1\u001b[39m, \u001b[38;5;241m3\u001b[39m),\n\u001b[1;32m     20\u001b[0m     point_size\u001b[38;5;241m=\u001b[39m\u001b[38;5;241m0.02\u001b[39m,\n\u001b[1;32m     21\u001b[0m )\n\u001b[0;32m---> 22\u001b[0m \u001b[43mtime\u001b[49m\u001b[38;5;241;43m.\u001b[39;49m\u001b[43msleep\u001b[49m\u001b[43m(\u001b[49m\u001b[38;5;241;43m1000\u001b[39;49m\u001b[43m)\u001b[49m\n",
      "\u001b[0;31mKeyboardInterrupt\u001b[0m: "
     ]
    }
   ],
   "source": [
    "# server = viser.ViserServer(share=True)\n",
    "# for i, (image, c2w) in enumerate(zip(images_train, c2ws_train)):\n",
    "#     server.add_camera_frustum(\n",
    "#         f\"/cameras/{i}\",\n",
    "#         fov=2 * np.arctan2(H / 2, K[0, 0]),\n",
    "#         aspect=W / H,\n",
    "#         scale=0.15,\n",
    "#         wxyz=viser.transforms.SO3.from_matrix(c2w[:3, :3]).wxyz,\n",
    "#         position=c2w[:3, 3],\n",
    "#         image=image\n",
    "#     )\n",
    "# for i, (o, d) in enumerate(zip(rays_o, rays_d)):\n",
    "#     server.add_spline_catmull_rom(\n",
    "#         f\"/rays/{i}\", positions=np.stack((o, o + d * 6.0)),\n",
    "#     )\n",
    "# server.add_point_cloud(\n",
    "#     f\"/samples\",\n",
    "#     colors=np.zeros_like(points).reshape(-1, 3),\n",
    "#     points=points.reshape(-1, 3),\n",
    "#     point_size=0.02,\n",
    "# )\n",
    "# time.sleep(1000)"
   ]
  },
  {
   "cell_type": "code",
   "execution_count": null,
   "id": "14891290-ee25-4144-8ca9-3016e8982212",
   "metadata": {},
   "outputs": [],
   "source": []
  },
  {
   "cell_type": "code",
   "execution_count": 13,
   "id": "851f8d1c-69c8-4e94-8bbd-db1a9b933c73",
   "metadata": {},
   "outputs": [],
   "source": [
    "def volrend(sigmas, rgbs, step_size):\n",
    "    sigmas = sigmas.to(device)\n",
    "    rgbs = rgbs.to(device)\n",
    "    size_to_prepend = (sigmas.size(0), 1, 1)\n",
    "\n",
    "    zeros_to_prepend = torch.zeros(size_to_prepend, dtype=sigmas.dtype).to(device)\n",
    "    \n",
    "    tensor_with_zeros = torch.cat((zeros_to_prepend, sigmas), dim=1).to(device)\n",
    "\n",
    "    \n",
    "    \n",
    "    cum_sigmas = torch.cumsum(tensor_with_zeros,dim=1)[:,:-1].to(device)\n",
    "    T = torch.exp(-cum_sigmas*step_size).to(device)\n",
    "    interval_sigmas = 1 - torch.exp(-sigmas*step_size).to(device)\n",
    "    weights = T * interval_sigmas\n",
    "    colors = rgbs * weights\n",
    "    cum_colors = torch.sum(colors, dim=1).to(device)\n",
    "\n",
    "    return cum_colors"
   ]
  },
  {
   "cell_type": "code",
   "execution_count": 14,
   "id": "cdd6bac4-8401-4309-9b95-ea2446b73df9",
   "metadata": {},
   "outputs": [],
   "source": [
    "class Residual_block(nn.Module):\n",
    "    def __init__(self, dim):\n",
    "        super(Residual_block, self).__init__()\n",
    "        self.dim = dim\n",
    "        self.linear_1 = nn.Linear(dim, dim)\n",
    "        self.layer_norm_1 = nn.LayerNorm(normalized_shape=dim)\n",
    "        self.relu = nn.ReLU()\n",
    "        self.linear_2 = nn.Linear(dim, dim)\n",
    "        self.layer_norm_2 = nn.LayerNorm(normalized_shape=dim)\n",
    "        nn.init.kaiming_normal_(self.linear_1.weight, mode='fan_in', nonlinearity='relu')\n",
    "        nn.init.kaiming_normal_(self.linear_2.weight, mode='fan_in', nonlinearity='relu')\n",
    "\n",
    "    def forward(self,x):\n",
    "        origin_x = x\n",
    "        x = self.linear_1(x)\n",
    "        x = self.layer_norm_1(x)\n",
    "        x = self.relu(x)\n",
    "        x = self.linear_2(x)\n",
    "        x = self.layer_norm_2(x)\n",
    "        x = self.relu(x + origin_x)\n",
    "        return x"
   ]
  },
  {
   "cell_type": "code",
   "execution_count": 15,
   "id": "41978bf8-8dfc-4e8d-a309-cd04f21034be",
   "metadata": {},
   "outputs": [],
   "source": [
    "class Nerf_model(nn.Module):\n",
    "    def __init__(self,high_fre_level, high_fre_level_angle, hidden_dim):\n",
    "        super(Nerf_model, self).__init__()\n",
    "        self.high_fre_level = high_fre_level\n",
    "        self.high_fre_level_angle = high_fre_level_angle\n",
    "        self.pe_dim = 3+high_fre_level*6\n",
    "        self.pe_dim_angle = 3 + 6 * high_fre_level_angle\n",
    "        self.input_layer = nn.Linear(3+high_fre_level*6, hidden_dim)\n",
    "        self.residual_block_1 = Residual_block(hidden_dim)\n",
    "        self.residual_block_2 = Residual_block(hidden_dim)\n",
    "        self.residual_block_3 = Residual_block(hidden_dim)\n",
    "        \n",
    "        self.hidden_layer_1 = nn.Linear(hidden_dim, hidden_dim)\n",
    "        self.hidden_layer_2 = nn.Linear(hidden_dim, hidden_dim)\n",
    "        \n",
    "        self.hidden_layer_concat_angle = nn.Linear(hidden_dim + self.pe_dim_angle, hidden_dim//2)\n",
    "\n",
    "        nn.init.kaiming_normal_(self.hidden_layer_concat_angle.weight, mode='fan_in', nonlinearity='relu')\n",
    "        \n",
    "        self.out = nn.Linear(hidden_dim//2, 3)\n",
    "        nn.init.kaiming_normal_(self.out.weight, mode='fan_in', nonlinearity='relu')\n",
    "        \n",
    "        self.relu = nn.ReLU()\n",
    "        self.sigmoid = nn.Sigmoid()\n",
    "        self.density_layer = nn.Linear(hidden_dim, 1)\n",
    "\n",
    "        power_terms_pos = (torch.exp2(torch.arange(0, high_fre_level))*3.14159).to(device)\n",
    "        \n",
    "        power_terms_angle = (torch.exp2(torch.arange(0, high_fre_level_angle))*3.14159).to(device)\n",
    "        \n",
    "        self.power_matrix_pos= torch.zeros(3, self.high_fre_level *3).to(device)\n",
    "        for i in range(3):\n",
    "            self.power_matrix_pos[i,i*high_fre_level:(i+1)*high_fre_level] = power_terms_pos\n",
    "\n",
    "        self.power_matrix_angle = torch.zeros(3, self.high_fre_level_angle  *3).to(device)\n",
    "        for i in range(3):\n",
    "            self.power_matrix_angle[i,i*high_fre_level_angle :(i+1)*high_fre_level_angle ] = power_terms_angle\n",
    "\n",
    "\n",
    "        self.middle_layer_norm = nn.LayerNorm(normalized_shape=hidden_dim) \n",
    "        \n",
    "        self.last_layer_norm = nn.LayerNorm(normalized_shape=hidden_dim//2) \n",
    "\n",
    "    def positional_encoding(self, data, high_fre_level, power_matrix):\n",
    "\n",
    "        powered_data = data @ power_matrix\n",
    "        sin_matrix = torch.sin(powered_data).to(device)\n",
    "        cos_matrix = torch.cos(powered_data).to(device)\n",
    "\n",
    "        pe = torch.cat((data, sin_matrix, cos_matrix),1).to(device)\n",
    "\n",
    "        return pe\n",
    "\n",
    "    def forward(self,pos, angle):\n",
    "                \n",
    "        pos_pe = self.positional_encoding(pos, self.high_fre_level, self.power_matrix_pos)\n",
    "        \n",
    "        origin_x = pos_pe\n",
    "        x = self.input_layer(origin_x)\n",
    "        x = self.residual_block_1(x)\n",
    "        x = self.residual_block_2(x)\n",
    "        x = self.residual_block_3(x)\n",
    "        x = self.hidden_layer_1(x)\n",
    "        sigmas = self.density_layer(x)\n",
    "        sigmas = self.relu(sigmas)\n",
    "\n",
    "        # x = self.middle_layer_norm(x)\n",
    "        x = self.hidden_layer_2(x)\n",
    "\n",
    "        angle_pe = self.positional_encoding(angle, self.high_fre_level_angle, self.power_matrix_angle)\n",
    "        # angle_input = torch.cat((angle,angle_pe),dim=1)\n",
    "        concated_x = torch.cat((x,angle_pe), dim = 1).float()\n",
    "        x = self.hidden_layer_concat_angle(concated_x)\n",
    "        x = self.last_layer_norm(x)\n",
    "        x = self.relu(x)\n",
    "        x = self.out(x)\n",
    "        x = self.sigmoid(x)\n",
    "        return x, sigmas"
   ]
  },
  {
   "cell_type": "code",
   "execution_count": 14,
   "id": "715205de-392f-4c3a-895d-1e903ed4922d",
   "metadata": {},
   "outputs": [],
   "source": [
    "# class Nerf_model(nn.Module):\n",
    "#     def __init__(self,high_fre_level, high_fre_level_angle, hidden_dim):\n",
    "#         super(Nerf_model, self).__init__()\n",
    "#         self.high_fre_level = high_fre_level\n",
    "#         self.high_fre_level_angle = high_fre_level_angle\n",
    "#         self.pe_dim = 3+high_fre_level*6\n",
    "#         self.pe_dim_angle = 3 + 6 * high_fre_level_angle\n",
    "#         self.input_layer = nn.Linear(3+high_fre_level*6, hidden_dim)\n",
    "#         # self.input_layer = nn.Linear(2, hidden_dim)\n",
    "#         hidden_layer_list = []\n",
    "\n",
    "\n",
    "        \n",
    "#         for i in range(3):\n",
    "#             hidden_layer_list.append(nn.Linear(hidden_dim, hidden_dim))\n",
    "#             hidden_layer_list.append(nn.ReLU())\n",
    "#         self.hidden_layer_1 = nn.Sequential(*hidden_layer_list)\n",
    "\n",
    "#         self.concat_hidden_layer = nn.Linear(hidden_dim + self.pe_dim,hidden_dim)\n",
    "        \n",
    "#         hidden_layer_list = []\n",
    "#         for i in range(2):\n",
    "#             hidden_layer_list.append(nn.Linear(hidden_dim, hidden_dim))\n",
    "#             hidden_layer_list.append(nn.ReLU())\n",
    "#         self.hidden_layer_2 = nn.Sequential(*hidden_layer_list)\n",
    "\n",
    "#         self.hidden_layer_3 = nn.Linear(hidden_dim, hidden_dim)\n",
    "#         self.hidden_layer_4 = nn.Linear(hidden_dim, hidden_dim)\n",
    "#         self.hidden_layer_5 = nn.Linear(hidden_dim, hidden_dim)\n",
    "#         self.hidden_layer_concat_angle = nn.Linear(hidden_dim + self.pe_dim_angle, hidden_dim//2)\n",
    "\n",
    "#         self.out = nn.Linear(hidden_dim//2, 3)\n",
    "#         self.relu = nn.ReLU()\n",
    "#         self.sigmoid = nn.Sigmoid()\n",
    "#         self.density_layer = nn.Linear(hidden_dim, 1)\n",
    "        \n",
    "#         power_terms_pos = (torch.exp2(torch.arange(0, high_fre_level))*3.14159).to(device)\n",
    "        \n",
    "#         power_terms_angle = (torch.exp2(torch.arange(0, high_fre_level_angle))*3.14159).to(device)\n",
    "        \n",
    "#         self.power_matrix_pos= torch.zeros(3, self.high_fre_level *3).to(device)\n",
    "#         for i in range(3):\n",
    "#             self.power_matrix_pos[i,i*high_fre_level:(i+1)*high_fre_level] = power_terms_pos\n",
    "\n",
    "#         self.power_matrix_angle = torch.zeros(3, self.high_fre_level_angle  *3).to(device)\n",
    "#         for i in range(3):\n",
    "#             self.power_matrix_angle[i,i*high_fre_level_angle :(i+1)*high_fre_level_angle ] = power_terms_angle\n",
    "\n",
    "#         # self.layer_norm1 = nn.LayerNorm(normalized_shape=HIDDEN_UNITS)  \n",
    "#         # self._initialize_weights()\n",
    "#         self.last_layer_norm = nn.LayerNorm(normalized_shape=hidden_dim//2) \n",
    "        \n",
    "\n",
    "#     def _initialize_weights(self):\n",
    "#         for m in self.modules():\n",
    "#             if isinstance(m, nn.Linear):\n",
    "#                 nn.init.kaiming_normal_(m.weight, mode='fan_in', nonlinearity='relu')\n",
    "#                 if m.bias is not None:\n",
    "#                     nn.init.zeros_(m.bias)\n",
    "\n",
    "\n",
    "    \n",
    "\n",
    "\n",
    "#     def positional_encoding(self, data, high_fre_level, power_matrix):\n",
    "\n",
    "#         powered_data = data @ power_matrix\n",
    "#         sin_matrix = torch.sin(powered_data).to(device)\n",
    "#         cos_matrix = torch.cos(powered_data).to(device)\n",
    "\n",
    "#         pe = torch.cat((data, sin_matrix, cos_matrix),1).to(device)\n",
    "\n",
    "#         return pe\n",
    "\n",
    "\n",
    "\n",
    "\n",
    "    \n",
    "#     def forward_phase_1(self, origin_x):\n",
    "\n",
    "#         x = self.input_layer(origin_x)\n",
    "#         x = self.relu(x)\n",
    "#         x = self.hidden_layer_1(x)\n",
    "#         x = torch.cat((x,origin_x), dim = 1)\n",
    "#         x = self.concat_hidden_layer(x)\n",
    "#         x = self.relu(x)\n",
    "#         x = self.hidden_layer_2(x)\n",
    "#         x = self.hidden_layer_3(x)\n",
    "#         return x\n",
    "\n",
    "\n",
    "        \n",
    "#     def forward(self, pos, angle):\n",
    "        \n",
    "#         pos_pe = self.positional_encoding(pos, self.high_fre_level, self.power_matrix_pos)\n",
    "        \n",
    "#         origin_x = pos_pe\n",
    "#         x = self.forward_phase_1(origin_x)\n",
    "\n",
    "\n",
    "\n",
    "\n",
    "        \n",
    "#         sigmas = self.density_layer(x)\n",
    "#         sigmas = self.relu(sigmas)\n",
    "        \n",
    "#         x = self.hidden_layer_4(x)\n",
    "#         angle_pe = self.positional_encoding(angle, self.high_fre_level_angle, self.power_matrix_angle)\n",
    "#         # angle_input = torch.cat((angle,angle_pe),dim=1)\n",
    "#         concated_x = torch.cat((x,angle_pe), dim = 1).float()\n",
    "#         x = self.hidden_layer_concat_angle(concated_x)\n",
    "#         x = self.last_layer_norm(x)\n",
    "#         x = self.relu(x)\n",
    "#         x = self.out(x)\n",
    "#         x = self.sigmoid(x)\n",
    "#         return x, sigmas\n",
    "        "
   ]
  },
  {
   "cell_type": "code",
   "execution_count": 15,
   "id": "5d4038fc-fb17-4e3d-983d-d45d3a1b8912",
   "metadata": {},
   "outputs": [],
   "source": [
    "def calcualte_PSNR():\n",
    "    model.eval()\n",
    "    loss_fn = nn.SmoothL1Loss(reduction='sum')\n",
    "    dataset = RaysData(images_val, K, c2ws_val)\n",
    "    dataloader = DataLoader(dataset, batch_size=10000,\n",
    "                        shuffle=True)\n",
    "    loss = 0\n",
    "    for i_batch, sample_batched in enumerate(tqdm(dataloader)):\n",
    "        # print(len(sample_batched['pixels']))\n",
    "        # rays_o, rays_d, pixels = dataset.sample_rays(10000)\n",
    "        # rays_o, rays_d, pixels = dataset.sample_rays_one(1000)\n",
    "        # t1 = time.time()\n",
    "        rays_o = sample_batched['rays_o'].squeeze()\n",
    "        rays_d = sample_batched['rays_d'].squeeze()\n",
    "        pixels = sample_batched['pixels']\n",
    "        rays_o = rays_o.float().to(device)\n",
    "        rays_d = rays_d.float().to(device)\n",
    "        # rays_d = np.array(rays_d)\n",
    "        # rays_o = np.array(rays_o)\n",
    "        # rays_d = torch.tensor(rays_d).to(device)\n",
    "        # rays_o = torch.tensor(rays_o).to(device)\n",
    "        points = sample_along_rays(rays_o, rays_d)\n",
    "        \n",
    "    \n",
    "        points = points.float().to(device)\n",
    "        # points = np.array(points)\n",
    "        # rays_d = np.array(rays_d)\n",
    "        # points = torch.tensor(points).to(device)\n",
    "        # rays_d = torch.tensor(rays_d).to(device)\n",
    "    \n",
    "        rays_d = torch.unsqueeze(rays_d,1)\n",
    "        rays_d = rays_d.repeat(1,n_samples,1)\n",
    "        rays_d = rays_d.view(-1,3)\n",
    "        \n",
    "        # t2 = time.time()\n",
    "        # print('p',t2-t1)\n",
    "        # t1 = t2\n",
    "        \n",
    "        rgbs, sigmas = model(points, rays_d)\n",
    "        \n",
    "        # t2 = time.time()\n",
    "        # print('forward',t2-t1)\n",
    "        # t1 = t2\n",
    "        \n",
    "        rgbs = rgbs.to(device)\n",
    "        sigmas = sigmas.to(device)\n",
    "        # sigams = model.foward_dentisy()\n",
    "        sigmas = sigmas.view(-1, n_samples, 1)\n",
    "        rgbs = rgbs.view(-1, n_samples, 3)\n",
    "        \n",
    "    \n",
    "    \n",
    "        rendered_colors = volrend(sigmas, rgbs, step_size)\n",
    "\n",
    "                \n",
    "        # t2 = time.time()\n",
    "        # print('render',t2-t1)\n",
    "        # t1 = t2\n",
    "        # print(\"render\",rendered_colors[0])\n",
    "        # print(\"pixels\",pixels[0])\n",
    "    \n",
    "        pixels = pixels.float().to(device)\n",
    "\n",
    "        with torch.no_grad():\n",
    "            loss += loss_fn(rendered_colors, pixels)\n",
    "    return loss.item()/len(dataset)"
   ]
  },
  {
   "cell_type": "code",
   "execution_count": 21,
   "id": "ed7affde-65aa-4c74-9c96-46665bf4b86a",
   "metadata": {},
   "outputs": [],
   "source": [
    "model = Nerf_model(30,10,256).to(device)\n",
    "step_size = (6-2)/n_samples"
   ]
  },
  {
   "cell_type": "code",
   "execution_count": 22,
   "id": "0882aa75-d0d3-4478-80bc-0db0f534542b",
   "metadata": {},
   "outputs": [
    {
     "name": "stderr",
     "output_type": "stream",
     "text": [
      "2023-11-06 20:40:06.032903: I tensorflow/core/platform/cpu_feature_guard.cc:182] This TensorFlow binary is optimized to use available CPU instructions in performance-critical operations.\n",
      "To enable the following instructions: AVX2 FMA, in other operations, rebuild TensorFlow with the appropriate compiler flags.\n",
      "2023-11-06 20:40:06.560352: W tensorflow/compiler/tf2tensorrt/utils/py_utils.cc:38] TF-TRT Warning: Could not find TensorRT\n"
     ]
    }
   ],
   "source": [
    "optimizer = optim.Adam(model.parameters(), lr=0.001)\n",
    "# optimizer = optim.SGD(model.parameters(), lr=0.001, momentum=0.9)"
   ]
  },
  {
   "cell_type": "code",
   "execution_count": 18,
   "id": "f23a3f87-2f6d-4edd-b1e5-cab2228368ca",
   "metadata": {},
   "outputs": [],
   "source": [
    "PSNR_loss_list = []\n",
    "\n",
    "global_iter = 0"
   ]
  },
  {
   "cell_type": "code",
   "execution_count": 17,
   "id": "b74e3518-be48-471d-9e2f-15b58fb35e5a",
   "metadata": {},
   "outputs": [],
   "source": [
    "dataset = RaysData(images_train, K, c2ws_train)\n",
    "dataset.generate_sample_pool()\n",
    "# rays_o, rays_d, pixels = dataset.sample_rays(10)"
   ]
  },
  {
   "cell_type": "code",
   "execution_count": null,
   "id": "b561efec-ad71-4efd-a84d-ac448e26e473",
   "metadata": {},
   "outputs": [],
   "source": []
  },
  {
   "cell_type": "code",
   "execution_count": 27,
   "id": "2da15bb5-e9c8-47b0-a426-b36273b42108",
   "metadata": {},
   "outputs": [
    {
     "ename": "OutOfMemoryError",
     "evalue": "CUDA out of memory. Tried to allocate 314.00 MiB. GPU 0 has a total capacty of 7.79 GiB of which 150.06 MiB is free. Process 31839 has 129.41 MiB memory in use. Including non-PyTorch memory, this process has 7.08 GiB memory in use. Of the allocated memory 6.90 GiB is allocated by PyTorch, and 21.09 MiB is reserved by PyTorch but unallocated. If reserved but unallocated memory is large try setting max_split_size_mb to avoid fragmentation.  See documentation for Memory Management and PYTORCH_CUDA_ALLOC_CONF",
     "output_type": "error",
     "traceback": [
      "\u001b[0;31m---------------------------------------------------------------------------\u001b[0m",
      "\u001b[0;31mOutOfMemoryError\u001b[0m                          Traceback (most recent call last)",
      "Cell \u001b[0;32mIn[27], line 49\u001b[0m\n\u001b[1;32m     43\u001b[0m rays_d \u001b[38;5;241m=\u001b[39m rays_d\u001b[38;5;241m.\u001b[39mview(\u001b[38;5;241m-\u001b[39m\u001b[38;5;241m1\u001b[39m,\u001b[38;5;241m3\u001b[39m)\n\u001b[1;32m     45\u001b[0m \u001b[38;5;66;03m# t2 = time.time()\u001b[39;00m\n\u001b[1;32m     46\u001b[0m \u001b[38;5;66;03m# print('p',t2-t1)\u001b[39;00m\n\u001b[1;32m     47\u001b[0m \u001b[38;5;66;03m# t1 = t2\u001b[39;00m\n\u001b[0;32m---> 49\u001b[0m rgbs, sigmas \u001b[38;5;241m=\u001b[39m \u001b[43mmodel\u001b[49m\u001b[43m(\u001b[49m\u001b[43mpoints\u001b[49m\u001b[43m,\u001b[49m\u001b[43m \u001b[49m\u001b[43mrays_d\u001b[49m\u001b[43m)\u001b[49m\n\u001b[1;32m     51\u001b[0m \u001b[38;5;66;03m# t2 = time.time()\u001b[39;00m\n\u001b[1;32m     52\u001b[0m \u001b[38;5;66;03m# print('forward',t2-t1)\u001b[39;00m\n\u001b[1;32m     53\u001b[0m \u001b[38;5;66;03m# t1 = t2\u001b[39;00m\n\u001b[1;32m     55\u001b[0m rgbs \u001b[38;5;241m=\u001b[39m rgbs\u001b[38;5;241m.\u001b[39mto(device)\n",
      "File \u001b[0;32m~/anaconda3/lib/python3.10/site-packages/torch/nn/modules/module.py:1518\u001b[0m, in \u001b[0;36mModule._wrapped_call_impl\u001b[0;34m(self, *args, **kwargs)\u001b[0m\n\u001b[1;32m   1516\u001b[0m     \u001b[38;5;28;01mreturn\u001b[39;00m \u001b[38;5;28mself\u001b[39m\u001b[38;5;241m.\u001b[39m_compiled_call_impl(\u001b[38;5;241m*\u001b[39margs, \u001b[38;5;241m*\u001b[39m\u001b[38;5;241m*\u001b[39mkwargs)  \u001b[38;5;66;03m# type: ignore[misc]\u001b[39;00m\n\u001b[1;32m   1517\u001b[0m \u001b[38;5;28;01melse\u001b[39;00m:\n\u001b[0;32m-> 1518\u001b[0m     \u001b[38;5;28;01mreturn\u001b[39;00m \u001b[38;5;28;43mself\u001b[39;49m\u001b[38;5;241;43m.\u001b[39;49m\u001b[43m_call_impl\u001b[49m\u001b[43m(\u001b[49m\u001b[38;5;241;43m*\u001b[39;49m\u001b[43margs\u001b[49m\u001b[43m,\u001b[49m\u001b[43m \u001b[49m\u001b[38;5;241;43m*\u001b[39;49m\u001b[38;5;241;43m*\u001b[39;49m\u001b[43mkwargs\u001b[49m\u001b[43m)\u001b[49m\n",
      "File \u001b[0;32m~/anaconda3/lib/python3.10/site-packages/torch/nn/modules/module.py:1527\u001b[0m, in \u001b[0;36mModule._call_impl\u001b[0;34m(self, *args, **kwargs)\u001b[0m\n\u001b[1;32m   1522\u001b[0m \u001b[38;5;66;03m# If we don't have any hooks, we want to skip the rest of the logic in\u001b[39;00m\n\u001b[1;32m   1523\u001b[0m \u001b[38;5;66;03m# this function, and just call forward.\u001b[39;00m\n\u001b[1;32m   1524\u001b[0m \u001b[38;5;28;01mif\u001b[39;00m \u001b[38;5;129;01mnot\u001b[39;00m (\u001b[38;5;28mself\u001b[39m\u001b[38;5;241m.\u001b[39m_backward_hooks \u001b[38;5;129;01mor\u001b[39;00m \u001b[38;5;28mself\u001b[39m\u001b[38;5;241m.\u001b[39m_backward_pre_hooks \u001b[38;5;129;01mor\u001b[39;00m \u001b[38;5;28mself\u001b[39m\u001b[38;5;241m.\u001b[39m_forward_hooks \u001b[38;5;129;01mor\u001b[39;00m \u001b[38;5;28mself\u001b[39m\u001b[38;5;241m.\u001b[39m_forward_pre_hooks\n\u001b[1;32m   1525\u001b[0m         \u001b[38;5;129;01mor\u001b[39;00m _global_backward_pre_hooks \u001b[38;5;129;01mor\u001b[39;00m _global_backward_hooks\n\u001b[1;32m   1526\u001b[0m         \u001b[38;5;129;01mor\u001b[39;00m _global_forward_hooks \u001b[38;5;129;01mor\u001b[39;00m _global_forward_pre_hooks):\n\u001b[0;32m-> 1527\u001b[0m     \u001b[38;5;28;01mreturn\u001b[39;00m \u001b[43mforward_call\u001b[49m\u001b[43m(\u001b[49m\u001b[38;5;241;43m*\u001b[39;49m\u001b[43margs\u001b[49m\u001b[43m,\u001b[49m\u001b[43m \u001b[49m\u001b[38;5;241;43m*\u001b[39;49m\u001b[38;5;241;43m*\u001b[39;49m\u001b[43mkwargs\u001b[49m\u001b[43m)\u001b[49m\n\u001b[1;32m   1529\u001b[0m \u001b[38;5;28;01mtry\u001b[39;00m:\n\u001b[1;32m   1530\u001b[0m     result \u001b[38;5;241m=\u001b[39m \u001b[38;5;28;01mNone\u001b[39;00m\n",
      "Cell \u001b[0;32mIn[15], line 60\u001b[0m, in \u001b[0;36mNerf_model.forward\u001b[0;34m(self, pos, angle)\u001b[0m\n\u001b[1;32m     58\u001b[0m origin_x \u001b[38;5;241m=\u001b[39m pos_pe\n\u001b[1;32m     59\u001b[0m x \u001b[38;5;241m=\u001b[39m \u001b[38;5;28mself\u001b[39m\u001b[38;5;241m.\u001b[39minput_layer(origin_x)\n\u001b[0;32m---> 60\u001b[0m x \u001b[38;5;241m=\u001b[39m \u001b[38;5;28;43mself\u001b[39;49m\u001b[38;5;241;43m.\u001b[39;49m\u001b[43mresidual_block_1\u001b[49m\u001b[43m(\u001b[49m\u001b[43mx\u001b[49m\u001b[43m)\u001b[49m\n\u001b[1;32m     61\u001b[0m x \u001b[38;5;241m=\u001b[39m \u001b[38;5;28mself\u001b[39m\u001b[38;5;241m.\u001b[39mresidual_block_2(x)\n\u001b[1;32m     62\u001b[0m x \u001b[38;5;241m=\u001b[39m \u001b[38;5;28mself\u001b[39m\u001b[38;5;241m.\u001b[39mresidual_block_3(x)\n",
      "File \u001b[0;32m~/anaconda3/lib/python3.10/site-packages/torch/nn/modules/module.py:1518\u001b[0m, in \u001b[0;36mModule._wrapped_call_impl\u001b[0;34m(self, *args, **kwargs)\u001b[0m\n\u001b[1;32m   1516\u001b[0m     \u001b[38;5;28;01mreturn\u001b[39;00m \u001b[38;5;28mself\u001b[39m\u001b[38;5;241m.\u001b[39m_compiled_call_impl(\u001b[38;5;241m*\u001b[39margs, \u001b[38;5;241m*\u001b[39m\u001b[38;5;241m*\u001b[39mkwargs)  \u001b[38;5;66;03m# type: ignore[misc]\u001b[39;00m\n\u001b[1;32m   1517\u001b[0m \u001b[38;5;28;01melse\u001b[39;00m:\n\u001b[0;32m-> 1518\u001b[0m     \u001b[38;5;28;01mreturn\u001b[39;00m \u001b[38;5;28;43mself\u001b[39;49m\u001b[38;5;241;43m.\u001b[39;49m\u001b[43m_call_impl\u001b[49m\u001b[43m(\u001b[49m\u001b[38;5;241;43m*\u001b[39;49m\u001b[43margs\u001b[49m\u001b[43m,\u001b[49m\u001b[43m \u001b[49m\u001b[38;5;241;43m*\u001b[39;49m\u001b[38;5;241;43m*\u001b[39;49m\u001b[43mkwargs\u001b[49m\u001b[43m)\u001b[49m\n",
      "File \u001b[0;32m~/anaconda3/lib/python3.10/site-packages/torch/nn/modules/module.py:1527\u001b[0m, in \u001b[0;36mModule._call_impl\u001b[0;34m(self, *args, **kwargs)\u001b[0m\n\u001b[1;32m   1522\u001b[0m \u001b[38;5;66;03m# If we don't have any hooks, we want to skip the rest of the logic in\u001b[39;00m\n\u001b[1;32m   1523\u001b[0m \u001b[38;5;66;03m# this function, and just call forward.\u001b[39;00m\n\u001b[1;32m   1524\u001b[0m \u001b[38;5;28;01mif\u001b[39;00m \u001b[38;5;129;01mnot\u001b[39;00m (\u001b[38;5;28mself\u001b[39m\u001b[38;5;241m.\u001b[39m_backward_hooks \u001b[38;5;129;01mor\u001b[39;00m \u001b[38;5;28mself\u001b[39m\u001b[38;5;241m.\u001b[39m_backward_pre_hooks \u001b[38;5;129;01mor\u001b[39;00m \u001b[38;5;28mself\u001b[39m\u001b[38;5;241m.\u001b[39m_forward_hooks \u001b[38;5;129;01mor\u001b[39;00m \u001b[38;5;28mself\u001b[39m\u001b[38;5;241m.\u001b[39m_forward_pre_hooks\n\u001b[1;32m   1525\u001b[0m         \u001b[38;5;129;01mor\u001b[39;00m _global_backward_pre_hooks \u001b[38;5;129;01mor\u001b[39;00m _global_backward_hooks\n\u001b[1;32m   1526\u001b[0m         \u001b[38;5;129;01mor\u001b[39;00m _global_forward_hooks \u001b[38;5;129;01mor\u001b[39;00m _global_forward_pre_hooks):\n\u001b[0;32m-> 1527\u001b[0m     \u001b[38;5;28;01mreturn\u001b[39;00m \u001b[43mforward_call\u001b[49m\u001b[43m(\u001b[49m\u001b[38;5;241;43m*\u001b[39;49m\u001b[43margs\u001b[49m\u001b[43m,\u001b[49m\u001b[43m \u001b[49m\u001b[38;5;241;43m*\u001b[39;49m\u001b[38;5;241;43m*\u001b[39;49m\u001b[43mkwargs\u001b[49m\u001b[43m)\u001b[49m\n\u001b[1;32m   1529\u001b[0m \u001b[38;5;28;01mtry\u001b[39;00m:\n\u001b[1;32m   1530\u001b[0m     result \u001b[38;5;241m=\u001b[39m \u001b[38;5;28;01mNone\u001b[39;00m\n",
      "Cell \u001b[0;32mIn[14], line 20\u001b[0m, in \u001b[0;36mResidual_block.forward\u001b[0;34m(self, x)\u001b[0m\n\u001b[1;32m     18\u001b[0m x \u001b[38;5;241m=\u001b[39m \u001b[38;5;28mself\u001b[39m\u001b[38;5;241m.\u001b[39mlinear_2(x)\n\u001b[1;32m     19\u001b[0m x \u001b[38;5;241m=\u001b[39m \u001b[38;5;28mself\u001b[39m\u001b[38;5;241m.\u001b[39mlayer_norm_2(x)\n\u001b[0;32m---> 20\u001b[0m x \u001b[38;5;241m=\u001b[39m \u001b[38;5;28;43mself\u001b[39;49m\u001b[38;5;241;43m.\u001b[39;49m\u001b[43mrelu\u001b[49m\u001b[43m(\u001b[49m\u001b[43mx\u001b[49m\u001b[43m \u001b[49m\u001b[38;5;241;43m+\u001b[39;49m\u001b[43m \u001b[49m\u001b[43morigin_x\u001b[49m\u001b[43m)\u001b[49m\n\u001b[1;32m     21\u001b[0m \u001b[38;5;28;01mreturn\u001b[39;00m x\n",
      "File \u001b[0;32m~/anaconda3/lib/python3.10/site-packages/torch/nn/modules/module.py:1518\u001b[0m, in \u001b[0;36mModule._wrapped_call_impl\u001b[0;34m(self, *args, **kwargs)\u001b[0m\n\u001b[1;32m   1516\u001b[0m     \u001b[38;5;28;01mreturn\u001b[39;00m \u001b[38;5;28mself\u001b[39m\u001b[38;5;241m.\u001b[39m_compiled_call_impl(\u001b[38;5;241m*\u001b[39margs, \u001b[38;5;241m*\u001b[39m\u001b[38;5;241m*\u001b[39mkwargs)  \u001b[38;5;66;03m# type: ignore[misc]\u001b[39;00m\n\u001b[1;32m   1517\u001b[0m \u001b[38;5;28;01melse\u001b[39;00m:\n\u001b[0;32m-> 1518\u001b[0m     \u001b[38;5;28;01mreturn\u001b[39;00m \u001b[38;5;28;43mself\u001b[39;49m\u001b[38;5;241;43m.\u001b[39;49m\u001b[43m_call_impl\u001b[49m\u001b[43m(\u001b[49m\u001b[38;5;241;43m*\u001b[39;49m\u001b[43margs\u001b[49m\u001b[43m,\u001b[49m\u001b[43m \u001b[49m\u001b[38;5;241;43m*\u001b[39;49m\u001b[38;5;241;43m*\u001b[39;49m\u001b[43mkwargs\u001b[49m\u001b[43m)\u001b[49m\n",
      "File \u001b[0;32m~/anaconda3/lib/python3.10/site-packages/torch/nn/modules/module.py:1527\u001b[0m, in \u001b[0;36mModule._call_impl\u001b[0;34m(self, *args, **kwargs)\u001b[0m\n\u001b[1;32m   1522\u001b[0m \u001b[38;5;66;03m# If we don't have any hooks, we want to skip the rest of the logic in\u001b[39;00m\n\u001b[1;32m   1523\u001b[0m \u001b[38;5;66;03m# this function, and just call forward.\u001b[39;00m\n\u001b[1;32m   1524\u001b[0m \u001b[38;5;28;01mif\u001b[39;00m \u001b[38;5;129;01mnot\u001b[39;00m (\u001b[38;5;28mself\u001b[39m\u001b[38;5;241m.\u001b[39m_backward_hooks \u001b[38;5;129;01mor\u001b[39;00m \u001b[38;5;28mself\u001b[39m\u001b[38;5;241m.\u001b[39m_backward_pre_hooks \u001b[38;5;129;01mor\u001b[39;00m \u001b[38;5;28mself\u001b[39m\u001b[38;5;241m.\u001b[39m_forward_hooks \u001b[38;5;129;01mor\u001b[39;00m \u001b[38;5;28mself\u001b[39m\u001b[38;5;241m.\u001b[39m_forward_pre_hooks\n\u001b[1;32m   1525\u001b[0m         \u001b[38;5;129;01mor\u001b[39;00m _global_backward_pre_hooks \u001b[38;5;129;01mor\u001b[39;00m _global_backward_hooks\n\u001b[1;32m   1526\u001b[0m         \u001b[38;5;129;01mor\u001b[39;00m _global_forward_hooks \u001b[38;5;129;01mor\u001b[39;00m _global_forward_pre_hooks):\n\u001b[0;32m-> 1527\u001b[0m     \u001b[38;5;28;01mreturn\u001b[39;00m \u001b[43mforward_call\u001b[49m\u001b[43m(\u001b[49m\u001b[38;5;241;43m*\u001b[39;49m\u001b[43margs\u001b[49m\u001b[43m,\u001b[49m\u001b[43m \u001b[49m\u001b[38;5;241;43m*\u001b[39;49m\u001b[38;5;241;43m*\u001b[39;49m\u001b[43mkwargs\u001b[49m\u001b[43m)\u001b[49m\n\u001b[1;32m   1529\u001b[0m \u001b[38;5;28;01mtry\u001b[39;00m:\n\u001b[1;32m   1530\u001b[0m     result \u001b[38;5;241m=\u001b[39m \u001b[38;5;28;01mNone\u001b[39;00m\n",
      "File \u001b[0;32m~/anaconda3/lib/python3.10/site-packages/torch/nn/modules/activation.py:101\u001b[0m, in \u001b[0;36mReLU.forward\u001b[0;34m(self, input)\u001b[0m\n\u001b[1;32m    100\u001b[0m \u001b[38;5;28;01mdef\u001b[39;00m \u001b[38;5;21mforward\u001b[39m(\u001b[38;5;28mself\u001b[39m, \u001b[38;5;28minput\u001b[39m: Tensor) \u001b[38;5;241m-\u001b[39m\u001b[38;5;241m>\u001b[39m Tensor:\n\u001b[0;32m--> 101\u001b[0m     \u001b[38;5;28;01mreturn\u001b[39;00m \u001b[43mF\u001b[49m\u001b[38;5;241;43m.\u001b[39;49m\u001b[43mrelu\u001b[49m\u001b[43m(\u001b[49m\u001b[38;5;28;43minput\u001b[39;49m\u001b[43m,\u001b[49m\u001b[43m \u001b[49m\u001b[43minplace\u001b[49m\u001b[38;5;241;43m=\u001b[39;49m\u001b[38;5;28;43mself\u001b[39;49m\u001b[38;5;241;43m.\u001b[39;49m\u001b[43minplace\u001b[49m\u001b[43m)\u001b[49m\n",
      "File \u001b[0;32m~/anaconda3/lib/python3.10/site-packages/torch/nn/functional.py:1471\u001b[0m, in \u001b[0;36mrelu\u001b[0;34m(input, inplace)\u001b[0m\n\u001b[1;32m   1469\u001b[0m     result \u001b[38;5;241m=\u001b[39m torch\u001b[38;5;241m.\u001b[39mrelu_(\u001b[38;5;28minput\u001b[39m)\n\u001b[1;32m   1470\u001b[0m \u001b[38;5;28;01melse\u001b[39;00m:\n\u001b[0;32m-> 1471\u001b[0m     result \u001b[38;5;241m=\u001b[39m \u001b[43mtorch\u001b[49m\u001b[38;5;241;43m.\u001b[39;49m\u001b[43mrelu\u001b[49m\u001b[43m(\u001b[49m\u001b[38;5;28;43minput\u001b[39;49m\u001b[43m)\u001b[49m\n\u001b[1;32m   1472\u001b[0m \u001b[38;5;28;01mreturn\u001b[39;00m result\n",
      "\u001b[0;31mOutOfMemoryError\u001b[0m: CUDA out of memory. Tried to allocate 314.00 MiB. GPU 0 has a total capacty of 7.79 GiB of which 150.06 MiB is free. Process 31839 has 129.41 MiB memory in use. Including non-PyTorch memory, this process has 7.08 GiB memory in use. Of the allocated memory 6.90 GiB is allocated by PyTorch, and 21.09 MiB is reserved by PyTorch but unallocated. If reserved but unallocated memory is large try setting max_split_size_mb to avoid fragmentation.  See documentation for Memory Management and PYTORCH_CUDA_ALLOC_CONF"
     ]
    }
   ],
   "source": [
    "# optimizer = optim.SGD(model.parameters(), lr=0.1, momentum=0.9)\n",
    "# criterion = PSNRWithMSELoss()\n",
    "criterion = torch.nn.MSELoss()\n",
    "number_epoch  = 1\n",
    "model.train()\n",
    "# scheduler = StepLR(optimizer, step_size=100, gamma=0.1)\n",
    "# for i in range(number_iteration):\n",
    "\n",
    "# dataset = RaysData(images_train, K, c2ws_train)\n",
    "# dataloader = DataLoader(dataset, batch_size=10000,\n",
    "#                         shuffle=True)\n",
    "\n",
    "for e in range(number_epoch):\n",
    "#     for i_batch, sample_batched in enumerate(tqdm(dataloader)):\n",
    "    for i in range(10):\n",
    "        # print(len(sample_batched['pixels']))\n",
    "        rays_o, rays_d, pixels = dataset.sample_rays(10000)\n",
    "        # rays_o, rays_d, pixels = dataset.sample_rays_one(1000)\n",
    "        # t1 = time.time()\n",
    "        \n",
    "        # rays_o = sample_batched['rays_o'].squeeze()\n",
    "        # rays_d = sample_batched['rays_d'].squeeze()\n",
    "        # pixels = sample_batched['pixels']\n",
    "        # rays_o = rays_o.float().to(device)\n",
    "        # rays_d = rays_d.float().to(device)\n",
    "\n",
    "        \n",
    "        # rays_d = np.array(rays_d)\n",
    "        # rays_o = np.array(rays_o)\n",
    "        rays_d = torch.tensor(rays_d).float().to(device)\n",
    "        rays_o = torch.tensor(rays_o).float().to(device)\n",
    "        points = sample_along_rays(rays_o, rays_d)\n",
    "        \n",
    "    \n",
    "        points = points.float().to(device)\n",
    "        # points = np.array(points)\n",
    "        # rays_d = np.array(rays_d)\n",
    "        # points = torch.tensor(points).to(device)\n",
    "        # rays_d = torch.tensor(rays_d).to(device)\n",
    "    \n",
    "        rays_d = torch.unsqueeze(rays_d,1)\n",
    "        rays_d = rays_d.repeat(1,n_samples,1)\n",
    "        rays_d = rays_d.view(-1,3)\n",
    "        \n",
    "        # t2 = time.time()\n",
    "        # print('p',t2-t1)\n",
    "        # t1 = t2\n",
    "        \n",
    "        rgbs, sigmas = model(points, rays_d)\n",
    "        \n",
    "        # t2 = time.time()\n",
    "        # print('forward',t2-t1)\n",
    "        # t1 = t2\n",
    "        \n",
    "        rgbs = rgbs.to(device)\n",
    "        sigmas = sigmas.to(device)\n",
    "        # sigams = model.foward_dentisy()\n",
    "        sigmas = sigmas.view(-1, n_samples, 1)\n",
    "        rgbs = rgbs.view(-1, n_samples, 3)\n",
    "        \n",
    "    \n",
    "    \n",
    "        rendered_colors = volrend(sigmas, rgbs, step_size)\n",
    "\n",
    "                \n",
    "        # t2 = time.time()\n",
    "        # print('render',t2-t1)\n",
    "        # t1 = t2\n",
    "        # print(\"render\",rendered_colors[0])\n",
    "        # print(\"pixels\",pixels[0])\n",
    "    \n",
    "        # pixels = pixels.float().to(device)\n",
    "        # pixels = np.array(pixels)\n",
    "        pixels = torch.tensor(pixels).float().to(device)\n",
    "    \n",
    "        # print(rendered_colors)\n",
    "        loss = criterion(rendered_colors, pixels)\n",
    "        \n",
    "        \n",
    "        optimizer.zero_grad()\n",
    "        loss.backward()\n",
    "        optimizer.step()\n",
    "\n",
    "                        \n",
    "        # t2 = time.time()\n",
    "        # print('backward',t2-t1)\n",
    "        # t1 = t2\n",
    "        # scheduler.step()\n",
    "        # if global_iter % 100 ==0:\n",
    "        #     PSNR_loss_list.append(calcualte_PSNR())\n",
    "        #     print(PSNR_loss_list[-1])\n",
    "        global_iter += 1\n",
    "        if i_batch % 49 == 0:\n",
    "            print(f'iteration [{i_batch}], Loss: {loss.item()}')\n",
    "    scheduler.step()\n",
    "    # torch.save(model.state_dict(), 'weights_%s.pth'%e)"
   ]
  },
  {
   "cell_type": "code",
   "execution_count": 23,
   "id": "a5c2c08e-c25d-43b2-b34b-592450743edb",
   "metadata": {},
   "outputs": [],
   "source": [
    "torch.save(model.state_dict(), 'weights_arc2_final.pth')"
   ]
  },
  {
   "cell_type": "code",
   "execution_count": 19,
   "id": "69614139-eaf8-45f6-a9e3-cea19b47781f",
   "metadata": {
    "scrolled": true
   },
   "outputs": [
    {
     "data": {
      "text/plain": [
       "<All keys matched successfully>"
      ]
     },
     "execution_count": 19,
     "metadata": {},
     "output_type": "execute_result"
    }
   ],
   "source": [
    "weights_path = 'weights_5.pth'  # Provide the correct path to the saved weights file\n",
    "model.load_state_dict(torch.load(weights_path))"
   ]
  },
  {
   "cell_type": "code",
   "execution_count": null,
   "id": "766018c9-3be7-4cf5-af90-5c2b4a3ce410",
   "metadata": {},
   "outputs": [],
   "source": [
    "400: \n",
    "1200 = 0.1287"
   ]
  },
  {
   "cell_type": "code",
   "execution_count": 29,
   "id": "f694ce4a-4f0f-462f-8e5d-ecbc62543d38",
   "metadata": {},
   "outputs": [],
   "source": [
    "model.eval()\n",
    "eval_height = 200\n",
    "eval_width = 200\n",
    "c2w_eval = c2ws_train[2]\n",
    "# c2w_eval = c2ws_test[0]\n",
    "results = np.zeros((eval_height, eval_width,3))\n",
    "for i in range(eval_height):\n",
    "    uv = []\n",
    "    for j in range(eval_width):\n",
    "        uv.append([i+0.5,j+0.5])\n",
    "    ray_o, ray_d = pixel_to_ray(K, c2w_eval, uv)\n",
    "    rays_o = np.repeat(ray_o, eval_height, axis=0)\n",
    "    rays_d = list(ray_d)\n",
    "\n",
    "    rays_o = torch.tensor(rays_o).float().to(device)\n",
    "    rays_d = torch.tensor(rays_d).float().to(device)\n",
    "    points = sample_along_rays(rays_o, rays_d, perturb=False)\n",
    "    points = points.to(device)\n",
    "    # rays_d = torch.tensor(rays_d).to(device)\n",
    "    rays_d = torch.unsqueeze(rays_d,1)\n",
    "    rays_d = rays_d.repeat(1,n_samples,1)\n",
    "    rays_d = rays_d.view(-1,3)\n",
    "    \n",
    "    rgbs, sigmas = model(points, rays_d)\n",
    "    rgbs = rgbs.to(device)\n",
    "    sigmas = sigmas.to(device)\n",
    "    # sigams = model.foward_dentisy()\n",
    "    sigmas = sigmas.view(-1, n_samples, 1)\n",
    "    rgbs = rgbs.view(-1, n_samples, 3)\n",
    "    \n",
    "    rendered_colors = volrend(sigmas, rgbs, step_size).detach().cpu().numpy()\n",
    "\n",
    "    # print(rendered_colors.shape)\n",
    "    results[i,:,:] = rendered_colors"
   ]
  },
  {
   "cell_type": "code",
   "execution_count": 30,
   "id": "576aea70-740a-4e3a-bc2d-629b2107eed3",
   "metadata": {
    "scrolled": true
   },
   "outputs": [
    {
     "data": {
      "text/plain": [
       "<matplotlib.image.AxesImage at 0x7f8378d2bac0>"
      ]
     },
     "execution_count": 30,
     "metadata": {},
     "output_type": "execute_result"
    },
    {
     "data": {
      "image/png": "[encoded data removed]",
      "text/plain": [
       "<Figure size 640x480 with 1 Axes>"
      ]
     },
     "metadata": {},
     "output_type": "display_data"
    }
   ],
   "source": [
    "\n",
    "skio.imshow(results)\n",
    "# skio.imsave(\"r_5000.jpg\",results)"
   ]
  },
  {
   "cell_type": "code",
   "execution_count": 26,
   "id": "2029e02a-ad42-4d2c-8546-720de24c6f6f",
   "metadata": {},
   "outputs": [
    {
     "name": "stdout",
     "output_type": "stream",
     "text": [
      "saving:  0\n"
     ]
    },
    {
     "name": "stderr",
     "output_type": "stream",
     "text": [
      "Lossy conversion from float64 to uint8. Range [0, 1]. Convert image to uint8 prior to saving to suppress this warning.\n"
     ]
    },
    {
     "name": "stdout",
     "output_type": "stream",
     "text": [
      "saving:  1\n"
     ]
    },
    {
     "name": "stderr",
     "output_type": "stream",
     "text": [
      "Lossy conversion from float64 to uint8. Range [0, 1]. Convert image to uint8 prior to saving to suppress this warning.\n"
     ]
    },
    {
     "name": "stdout",
     "output_type": "stream",
     "text": [
      "saving:  2\n"
     ]
    },
    {
     "name": "stderr",
     "output_type": "stream",
     "text": [
      "Lossy conversion from float64 to uint8. Range [0, 1]. Convert image to uint8 prior to saving to suppress this warning.\n"
     ]
    },
    {
     "name": "stdout",
     "output_type": "stream",
     "text": [
      "saving:  3\n"
     ]
    },
    {
     "name": "stderr",
     "output_type": "stream",
     "text": [
      "Lossy conversion from float64 to uint8. Range [0, 1]. Convert image to uint8 prior to saving to suppress this warning.\n"
     ]
    },
    {
     "name": "stdout",
     "output_type": "stream",
     "text": [
      "saving:  4\n"
     ]
    },
    {
     "name": "stderr",
     "output_type": "stream",
     "text": [
      "Lossy conversion from float64 to uint8. Range [0, 1]. Convert image to uint8 prior to saving to suppress this warning.\n"
     ]
    },
    {
     "name": "stdout",
     "output_type": "stream",
     "text": [
      "saving:  5\n"
     ]
    },
    {
     "name": "stderr",
     "output_type": "stream",
     "text": [
      "Lossy conversion from float64 to uint8. Range [0, 1]. Convert image to uint8 prior to saving to suppress this warning.\n"
     ]
    },
    {
     "name": "stdout",
     "output_type": "stream",
     "text": [
      "saving:  6\n"
     ]
    },
    {
     "name": "stderr",
     "output_type": "stream",
     "text": [
      "Lossy conversion from float64 to uint8. Range [0, 1]. Convert image to uint8 prior to saving to suppress this warning.\n"
     ]
    },
    {
     "name": "stdout",
     "output_type": "stream",
     "text": [
      "saving:  7\n"
     ]
    },
    {
     "name": "stderr",
     "output_type": "stream",
     "text": [
      "Lossy conversion from float64 to uint8. Range [0, 1]. Convert image to uint8 prior to saving to suppress this warning.\n"
     ]
    },
    {
     "name": "stdout",
     "output_type": "stream",
     "text": [
      "saving:  8\n"
     ]
    },
    {
     "name": "stderr",
     "output_type": "stream",
     "text": [
      "Lossy conversion from float64 to uint8. Range [0, 1]. Convert image to uint8 prior to saving to suppress this warning.\n"
     ]
    },
    {
     "name": "stdout",
     "output_type": "stream",
     "text": [
      "saving:  9\n"
     ]
    },
    {
     "name": "stderr",
     "output_type": "stream",
     "text": [
      "Lossy conversion from float64 to uint8. Range [0, 1]. Convert image to uint8 prior to saving to suppress this warning.\n"
     ]
    },
    {
     "name": "stdout",
     "output_type": "stream",
     "text": [
      "saving:  10\n"
     ]
    },
    {
     "name": "stderr",
     "output_type": "stream",
     "text": [
      "Lossy conversion from float64 to uint8. Range [0, 1]. Convert image to uint8 prior to saving to suppress this warning.\n"
     ]
    },
    {
     "name": "stdout",
     "output_type": "stream",
     "text": [
      "saving:  11\n"
     ]
    },
    {
     "name": "stderr",
     "output_type": "stream",
     "text": [
      "Lossy conversion from float64 to uint8. Range [0, 1]. Convert image to uint8 prior to saving to suppress this warning.\n"
     ]
    },
    {
     "name": "stdout",
     "output_type": "stream",
     "text": [
      "saving:  12\n"
     ]
    },
    {
     "name": "stderr",
     "output_type": "stream",
     "text": [
      "Lossy conversion from float64 to uint8. Range [0, 1]. Convert image to uint8 prior to saving to suppress this warning.\n"
     ]
    },
    {
     "name": "stdout",
     "output_type": "stream",
     "text": [
      "saving:  13\n"
     ]
    },
    {
     "name": "stderr",
     "output_type": "stream",
     "text": [
      "Lossy conversion from float64 to uint8. Range [0, 1]. Convert image to uint8 prior to saving to suppress this warning.\n"
     ]
    },
    {
     "name": "stdout",
     "output_type": "stream",
     "text": [
      "saving:  14\n"
     ]
    },
    {
     "name": "stderr",
     "output_type": "stream",
     "text": [
      "Lossy conversion from float64 to uint8. Range [0, 1]. Convert image to uint8 prior to saving to suppress this warning.\n"
     ]
    },
    {
     "name": "stdout",
     "output_type": "stream",
     "text": [
      "saving:  15\n"
     ]
    },
    {
     "name": "stderr",
     "output_type": "stream",
     "text": [
      "Lossy conversion from float64 to uint8. Range [0, 1]. Convert image to uint8 prior to saving to suppress this warning.\n"
     ]
    },
    {
     "name": "stdout",
     "output_type": "stream",
     "text": [
      "saving:  16\n"
     ]
    },
    {
     "name": "stderr",
     "output_type": "stream",
     "text": [
      "Lossy conversion from float64 to uint8. Range [0, 1]. Convert image to uint8 prior to saving to suppress this warning.\n"
     ]
    },
    {
     "name": "stdout",
     "output_type": "stream",
     "text": [
      "saving:  17\n"
     ]
    },
    {
     "name": "stderr",
     "output_type": "stream",
     "text": [
      "Lossy conversion from float64 to uint8. Range [0, 1]. Convert image to uint8 prior to saving to suppress this warning.\n"
     ]
    },
    {
     "name": "stdout",
     "output_type": "stream",
     "text": [
      "saving:  18\n"
     ]
    },
    {
     "name": "stderr",
     "output_type": "stream",
     "text": [
      "Lossy conversion from float64 to uint8. Range [0, 1]. Convert image to uint8 prior to saving to suppress this warning.\n"
     ]
    },
    {
     "name": "stdout",
     "output_type": "stream",
     "text": [
      "saving:  19\n"
     ]
    },
    {
     "name": "stderr",
     "output_type": "stream",
     "text": [
      "Lossy conversion from float64 to uint8. Range [0, 1]. Convert image to uint8 prior to saving to suppress this warning.\n"
     ]
    },
    {
     "name": "stdout",
     "output_type": "stream",
     "text": [
      "saving:  20\n"
     ]
    },
    {
     "name": "stderr",
     "output_type": "stream",
     "text": [
      "Lossy conversion from float64 to uint8. Range [0, 1]. Convert image to uint8 prior to saving to suppress this warning.\n"
     ]
    },
    {
     "name": "stdout",
     "output_type": "stream",
     "text": [
      "saving:  21\n"
     ]
    },
    {
     "name": "stderr",
     "output_type": "stream",
     "text": [
      "Lossy conversion from float64 to uint8. Range [0, 1]. Convert image to uint8 prior to saving to suppress this warning.\n"
     ]
    },
    {
     "name": "stdout",
     "output_type": "stream",
     "text": [
      "saving:  22\n"
     ]
    },
    {
     "name": "stderr",
     "output_type": "stream",
     "text": [
      "Lossy conversion from float64 to uint8. Range [0, 1]. Convert image to uint8 prior to saving to suppress this warning.\n"
     ]
    },
    {
     "name": "stdout",
     "output_type": "stream",
     "text": [
      "saving:  23\n"
     ]
    },
    {
     "name": "stderr",
     "output_type": "stream",
     "text": [
      "Lossy conversion from float64 to uint8. Range [0, 1]. Convert image to uint8 prior to saving to suppress this warning.\n"
     ]
    },
    {
     "name": "stdout",
     "output_type": "stream",
     "text": [
      "saving:  24\n"
     ]
    },
    {
     "name": "stderr",
     "output_type": "stream",
     "text": [
      "Lossy conversion from float64 to uint8. Range [0, 1]. Convert image to uint8 prior to saving to suppress this warning.\n"
     ]
    },
    {
     "name": "stdout",
     "output_type": "stream",
     "text": [
      "saving:  25\n"
     ]
    },
    {
     "name": "stderr",
     "output_type": "stream",
     "text": [
      "Lossy conversion from float64 to uint8. Range [0, 1]. Convert image to uint8 prior to saving to suppress this warning.\n"
     ]
    },
    {
     "name": "stdout",
     "output_type": "stream",
     "text": [
      "saving:  26\n"
     ]
    },
    {
     "name": "stderr",
     "output_type": "stream",
     "text": [
      "Lossy conversion from float64 to uint8. Range [0, 1]. Convert image to uint8 prior to saving to suppress this warning.\n"
     ]
    },
    {
     "name": "stdout",
     "output_type": "stream",
     "text": [
      "saving:  27\n"
     ]
    },
    {
     "name": "stderr",
     "output_type": "stream",
     "text": [
      "Lossy conversion from float64 to uint8. Range [0, 1]. Convert image to uint8 prior to saving to suppress this warning.\n"
     ]
    },
    {
     "name": "stdout",
     "output_type": "stream",
     "text": [
      "saving:  28\n"
     ]
    },
    {
     "name": "stderr",
     "output_type": "stream",
     "text": [
      "Lossy conversion from float64 to uint8. Range [0, 1]. Convert image to uint8 prior to saving to suppress this warning.\n"
     ]
    },
    {
     "name": "stdout",
     "output_type": "stream",
     "text": [
      "saving:  29\n"
     ]
    },
    {
     "name": "stderr",
     "output_type": "stream",
     "text": [
      "Lossy conversion from float64 to uint8. Range [0, 1]. Convert image to uint8 prior to saving to suppress this warning.\n"
     ]
    },
    {
     "name": "stdout",
     "output_type": "stream",
     "text": [
      "saving:  30\n"
     ]
    },
    {
     "name": "stderr",
     "output_type": "stream",
     "text": [
      "Lossy conversion from float64 to uint8. Range [0, 1]. Convert image to uint8 prior to saving to suppress this warning.\n"
     ]
    },
    {
     "name": "stdout",
     "output_type": "stream",
     "text": [
      "saving:  31\n"
     ]
    },
    {
     "name": "stderr",
     "output_type": "stream",
     "text": [
      "Lossy conversion from float64 to uint8. Range [0, 1]. Convert image to uint8 prior to saving to suppress this warning.\n"
     ]
    },
    {
     "name": "stdout",
     "output_type": "stream",
     "text": [
      "saving:  32\n"
     ]
    },
    {
     "name": "stderr",
     "output_type": "stream",
     "text": [
      "Lossy conversion from float64 to uint8. Range [0, 1]. Convert image to uint8 prior to saving to suppress this warning.\n"
     ]
    },
    {
     "name": "stdout",
     "output_type": "stream",
     "text": [
      "saving:  33\n"
     ]
    },
    {
     "name": "stderr",
     "output_type": "stream",
     "text": [
      "Lossy conversion from float64 to uint8. Range [0, 1]. Convert image to uint8 prior to saving to suppress this warning.\n"
     ]
    },
    {
     "name": "stdout",
     "output_type": "stream",
     "text": [
      "saving:  34\n"
     ]
    },
    {
     "name": "stderr",
     "output_type": "stream",
     "text": [
      "Lossy conversion from float64 to uint8. Range [0, 1]. Convert image to uint8 prior to saving to suppress this warning.\n"
     ]
    },
    {
     "name": "stdout",
     "output_type": "stream",
     "text": [
      "saving:  35\n"
     ]
    },
    {
     "name": "stderr",
     "output_type": "stream",
     "text": [
      "Lossy conversion from float64 to uint8. Range [0, 1]. Convert image to uint8 prior to saving to suppress this warning.\n"
     ]
    },
    {
     "name": "stdout",
     "output_type": "stream",
     "text": [
      "saving:  36\n"
     ]
    },
    {
     "name": "stderr",
     "output_type": "stream",
     "text": [
      "Lossy conversion from float64 to uint8. Range [0, 1]. Convert image to uint8 prior to saving to suppress this warning.\n"
     ]
    },
    {
     "name": "stdout",
     "output_type": "stream",
     "text": [
      "saving:  37\n"
     ]
    },
    {
     "name": "stderr",
     "output_type": "stream",
     "text": [
      "Lossy conversion from float64 to uint8. Range [0, 1]. Convert image to uint8 prior to saving to suppress this warning.\n"
     ]
    },
    {
     "name": "stdout",
     "output_type": "stream",
     "text": [
      "saving:  38\n"
     ]
    },
    {
     "name": "stderr",
     "output_type": "stream",
     "text": [
      "Lossy conversion from float64 to uint8. Range [0, 1]. Convert image to uint8 prior to saving to suppress this warning.\n"
     ]
    },
    {
     "name": "stdout",
     "output_type": "stream",
     "text": [
      "saving:  39\n"
     ]
    },
    {
     "name": "stderr",
     "output_type": "stream",
     "text": [
      "Lossy conversion from float64 to uint8. Range [0, 1]. Convert image to uint8 prior to saving to suppress this warning.\n"
     ]
    },
    {
     "name": "stdout",
     "output_type": "stream",
     "text": [
      "saving:  40\n"
     ]
    },
    {
     "name": "stderr",
     "output_type": "stream",
     "text": [
      "Lossy conversion from float64 to uint8. Range [0, 1]. Convert image to uint8 prior to saving to suppress this warning.\n"
     ]
    },
    {
     "name": "stdout",
     "output_type": "stream",
     "text": [
      "saving:  41\n"
     ]
    },
    {
     "name": "stderr",
     "output_type": "stream",
     "text": [
      "Lossy conversion from float64 to uint8. Range [0, 1]. Convert image to uint8 prior to saving to suppress this warning.\n"
     ]
    },
    {
     "name": "stdout",
     "output_type": "stream",
     "text": [
      "saving:  42\n"
     ]
    },
    {
     "name": "stderr",
     "output_type": "stream",
     "text": [
      "Lossy conversion from float64 to uint8. Range [0, 1]. Convert image to uint8 prior to saving to suppress this warning.\n"
     ]
    },
    {
     "name": "stdout",
     "output_type": "stream",
     "text": [
      "saving:  43\n"
     ]
    },
    {
     "name": "stderr",
     "output_type": "stream",
     "text": [
      "Lossy conversion from float64 to uint8. Range [0, 1]. Convert image to uint8 prior to saving to suppress this warning.\n"
     ]
    },
    {
     "name": "stdout",
     "output_type": "stream",
     "text": [
      "saving:  44\n"
     ]
    },
    {
     "name": "stderr",
     "output_type": "stream",
     "text": [
      "Lossy conversion from float64 to uint8. Range [0, 1]. Convert image to uint8 prior to saving to suppress this warning.\n"
     ]
    },
    {
     "name": "stdout",
     "output_type": "stream",
     "text": [
      "saving:  45\n"
     ]
    },
    {
     "name": "stderr",
     "output_type": "stream",
     "text": [
      "Lossy conversion from float64 to uint8. Range [0, 1]. Convert image to uint8 prior to saving to suppress this warning.\n"
     ]
    },
    {
     "name": "stdout",
     "output_type": "stream",
     "text": [
      "saving:  46\n"
     ]
    },
    {
     "name": "stderr",
     "output_type": "stream",
     "text": [
      "Lossy conversion from float64 to uint8. Range [0, 1]. Convert image to uint8 prior to saving to suppress this warning.\n"
     ]
    },
    {
     "name": "stdout",
     "output_type": "stream",
     "text": [
      "saving:  47\n"
     ]
    },
    {
     "name": "stderr",
     "output_type": "stream",
     "text": [
      "Lossy conversion from float64 to uint8. Range [0, 1]. Convert image to uint8 prior to saving to suppress this warning.\n"
     ]
    },
    {
     "name": "stdout",
     "output_type": "stream",
     "text": [
      "saving:  48\n"
     ]
    },
    {
     "name": "stderr",
     "output_type": "stream",
     "text": [
      "Lossy conversion from float64 to uint8. Range [0, 1]. Convert image to uint8 prior to saving to suppress this warning.\n"
     ]
    },
    {
     "name": "stdout",
     "output_type": "stream",
     "text": [
      "saving:  49\n"
     ]
    },
    {
     "name": "stderr",
     "output_type": "stream",
     "text": [
      "Lossy conversion from float64 to uint8. Range [0, 1]. Convert image to uint8 prior to saving to suppress this warning.\n"
     ]
    },
    {
     "name": "stdout",
     "output_type": "stream",
     "text": [
      "saving:  50\n"
     ]
    },
    {
     "name": "stderr",
     "output_type": "stream",
     "text": [
      "Lossy conversion from float64 to uint8. Range [0, 1]. Convert image to uint8 prior to saving to suppress this warning.\n"
     ]
    },
    {
     "name": "stdout",
     "output_type": "stream",
     "text": [
      "saving:  51\n"
     ]
    },
    {
     "name": "stderr",
     "output_type": "stream",
     "text": [
      "Lossy conversion from float64 to uint8. Range [0, 1]. Convert image to uint8 prior to saving to suppress this warning.\n"
     ]
    },
    {
     "name": "stdout",
     "output_type": "stream",
     "text": [
      "saving:  52\n"
     ]
    },
    {
     "name": "stderr",
     "output_type": "stream",
     "text": [
      "Lossy conversion from float64 to uint8. Range [0, 1]. Convert image to uint8 prior to saving to suppress this warning.\n"
     ]
    },
    {
     "name": "stdout",
     "output_type": "stream",
     "text": [
      "saving:  53\n"
     ]
    },
    {
     "name": "stderr",
     "output_type": "stream",
     "text": [
      "Lossy conversion from float64 to uint8. Range [0, 1]. Convert image to uint8 prior to saving to suppress this warning.\n"
     ]
    },
    {
     "name": "stdout",
     "output_type": "stream",
     "text": [
      "saving:  54\n"
     ]
    },
    {
     "name": "stderr",
     "output_type": "stream",
     "text": [
      "Lossy conversion from float64 to uint8. Range [0, 1]. Convert image to uint8 prior to saving to suppress this warning.\n"
     ]
    },
    {
     "name": "stdout",
     "output_type": "stream",
     "text": [
      "saving:  55\n"
     ]
    },
    {
     "name": "stderr",
     "output_type": "stream",
     "text": [
      "Lossy conversion from float64 to uint8. Range [0, 1]. Convert image to uint8 prior to saving to suppress this warning.\n"
     ]
    },
    {
     "name": "stdout",
     "output_type": "stream",
     "text": [
      "saving:  56\n"
     ]
    },
    {
     "name": "stderr",
     "output_type": "stream",
     "text": [
      "Lossy conversion from float64 to uint8. Range [0, 1]. Convert image to uint8 prior to saving to suppress this warning.\n"
     ]
    },
    {
     "name": "stdout",
     "output_type": "stream",
     "text": [
      "saving:  57\n"
     ]
    },
    {
     "name": "stderr",
     "output_type": "stream",
     "text": [
      "Lossy conversion from float64 to uint8. Range [0, 1]. Convert image to uint8 prior to saving to suppress this warning.\n"
     ]
    },
    {
     "name": "stdout",
     "output_type": "stream",
     "text": [
      "saving:  58\n"
     ]
    },
    {
     "name": "stderr",
     "output_type": "stream",
     "text": [
      "Lossy conversion from float64 to uint8. Range [0, 1]. Convert image to uint8 prior to saving to suppress this warning.\n"
     ]
    },
    {
     "name": "stdout",
     "output_type": "stream",
     "text": [
      "saving:  59\n"
     ]
    },
    {
     "name": "stderr",
     "output_type": "stream",
     "text": [
      "Lossy conversion from float64 to uint8. Range [0, 1]. Convert image to uint8 prior to saving to suppress this warning.\n"
     ]
    }
   ],
   "source": [
    "for index in range(len(c2ws_test)):\n",
    "    print(\"saving: \", index)\n",
    "    model.eval()\n",
    "    eval_height = 200\n",
    "    eval_width = 200\n",
    "    # c2w_eval = c2ws_train[2]\n",
    "    c2w_eval = c2ws_test[index]\n",
    "    results = np.zeros((eval_height, eval_width,3))\n",
    "    for i in range(eval_height):\n",
    "        uv = []\n",
    "        for j in range(eval_width):\n",
    "            uv.append([i,j])\n",
    "        ray_o, ray_d = pixel_to_ray(K, c2w_eval, uv)\n",
    "        rays_o = np.repeat(ray_o, eval_height, axis=0)\n",
    "        rays_d = list(ray_d)\n",
    "    \n",
    "        rays_o = torch.tensor(rays_o).float().to(device)\n",
    "        rays_d = torch.tensor(rays_d).float().to(device)\n",
    "        points = sample_along_rays(rays_o, rays_d, perturb=False)\n",
    "        points = points.to(device)\n",
    "        # rays_d = torch.tensor(rays_d).to(device)\n",
    "        rays_d = torch.unsqueeze(rays_d,1)\n",
    "        rays_d = rays_d.repeat(1,n_samples,1)\n",
    "        rays_d = rays_d.view(-1,3)\n",
    "        \n",
    "        rgbs, sigmas = model(points, rays_d)\n",
    "        rgbs = rgbs.to(device)\n",
    "        sigmas = sigmas.to(device)\n",
    "        # sigams = model.foward_dentisy()\n",
    "        sigmas = sigmas.view(-1, n_samples, 1)\n",
    "        rgbs = rgbs.view(-1, n_samples, 3)\n",
    "        \n",
    "        rendered_colors = volrend(sigmas, rgbs, step_size).detach().cpu().numpy()\n",
    "    \n",
    "        # print(rendered_colors.shape)\n",
    "        results[i,:,:] = rendered_colors\n",
    "    save_file_path = 'test_results/%s.png'%index  # Change the file extension as needed (e.g., .jpg, .png, .bmp, etc.)\n",
    "\n",
    "    # Save the NumPy array as an image using skimage\n",
    "    skio.imsave(save_file_path, results)"
   ]
  },
  {
   "cell_type": "code",
   "execution_count": null,
   "id": "288b2027-7c98-4074-9e31-d1d12b0f0474",
   "metadata": {},
   "outputs": [],
   "source": []
  }
 ],
 "metadata": {
  "kernelspec": {
   "display_name": "Python 3 (ipykernel)",
   "language": "python",
   "name": "python3"
  },
  "language_info": {
   "codemirror_mode": {
    "name": "ipython",
    "version": 3
   },
   "file_extension": ".py",
   "mimetype": "text/x-python",
   "name": "python",
   "nbconvert_exporter": "python",
   "pygments_lexer": "ipython3",
   "version": "3.10.13"
  }
 },
 "nbformat": 4,
 "nbformat_minor": 5
}
