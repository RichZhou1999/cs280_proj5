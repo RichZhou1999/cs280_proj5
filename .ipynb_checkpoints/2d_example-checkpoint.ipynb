{
 "cells": [
  {
   "cell_type": "code",
   "execution_count": 44,
   "id": "f2df9554-aae1-4bfe-89d1-d11ec2438333",
   "metadata": {},
   "outputs": [],
   "source": [
    "from PIL import Image\n",
    "\n",
    "# Open an image file\n",
    "img = Image.open('fox.jpg')\n",
    "\n",
    "# Define the new size\n",
    "ratio = 4\n",
    "new_width = int(img.size[0]//ratio)\n",
    "new_height = int(img.size[1]//ratio)\n",
    "\n",
    "# Resize the image\n",
    "resized_img = img.resize((new_width, new_height))\n",
    "\n",
    "# Save the resized image\n",
    "resized_img.save('resized_fox.jpg')"
   ]
  },
  {
   "cell_type": "code",
   "execution_count": 13,
   "id": "a44fa7b4",
   "metadata": {},
   "outputs": [],
   "source": [
    "import torch\n",
    "import torch.nn as nn\n",
    "from torch.utils.data import Dataset, DataLoader\n",
    "import pandas as pd\n",
    "import numpy as np\n",
    "import matplotlib.pyplot as plt\n",
    "from PIL import Image\n",
    "import skimage.io as skio\n",
    "import torch.optim as optim\n",
    "import skimage as sk"
   ]
  },
  {
   "cell_type": "code",
   "execution_count": 14,
   "id": "38c42101-2998-4b10-a6be-32bdcaa49357",
   "metadata": {},
   "outputs": [
    {
     "data": {
      "text/plain": [
       "True"
      ]
     },
     "execution_count": 14,
     "metadata": {},
     "output_type": "execute_result"
    }
   ],
   "source": [
    "cuda_available = torch.cuda.is_available()\n",
    "cuda_available"
   ]
  },
  {
   "cell_type": "code",
   "execution_count": 31,
   "id": "ccc7ca5e-6e6f-4262-a875-9676a2b2c1e5",
   "metadata": {},
   "outputs": [],
   "source": [
    "device = torch.device(\"cuda\" if torch.cuda.is_available() else \"cpu\")"
   ]
  },
  {
   "cell_type": "code",
   "execution_count": 15,
   "id": "98f7045b",
   "metadata": {},
   "outputs": [
    {
     "name": "stdout",
     "output_type": "stream",
     "text": [
      "2.65358979335273e-06\n"
     ]
    }
   ],
   "source": [
    "print(np.sin(1*2**0*3.14159))"
   ]
  },
  {
   "cell_type": "code",
   "execution_count": 68,
   "id": "12a42cdb",
   "metadata": {},
   "outputs": [
    {
     "name": "stdout",
     "output_type": "stream",
     "text": [
      "tensor([[ 0.3500,  0.2400,  0.8910,  0.7290,  0.8090,  0.0628, -0.9511, -0.9921,\n",
      "          0.5878,  0.9686, -0.9511,  0.8763]])\n"
     ]
    }
   ],
   "source": [
    "ppp = torch.tensor([[0.35,0.24],[0.1,0.2]])\n",
    "ppp = torch.tensor([[0.35,0.24]])\n",
    "d_model = 5\n",
    "pe =  torch.zeros(len(ppp), d_model*2)\n",
    "div_term = torch.exp2(torch.arange(0, d_model)).float()*3.14159\n",
    "for i in range(len(ppp)):\n",
    "    pe[i, 0::2] = torch.sin(ppp[i,0] * div_term)\n",
    "    pe[i, 1::2] = torch.cos(ppp[i,1] * div_term)\n",
    "# print(pe.shape)\n",
    "# print(ppp.shape)\n",
    "print(torch.cat((ppp,pe),dim=1))"
   ]
  },
  {
   "cell_type": "code",
   "execution_count": 99,
   "id": "ac91eb1d",
   "metadata": {},
   "outputs": [],
   "source": [
    "class two_d_reconstruct_model(nn.Module):\n",
    "    def __init__(self,high_fre_level ,hidden_layer_number, hidden_dim):\n",
    "        super(two_d_reconstruct_model, self).__init__()\n",
    "        self.high_fre_level = high_fre_level\n",
    "        self.input_layer = nn.Linear(2+high_fre_level*2, hidden_dim)\n",
    "        hidden_layer_list = []\n",
    "        for i in range(hidden_layer_number):\n",
    "            hidden_layer_list.append(nn.Linear(hidden_dim, hidden_dim))\n",
    "            hidden_layer_list.append(nn.ReLU())\n",
    "        self.hidden_layer = nn.Sequential(*hidden_layer_list)\n",
    "        self.out = nn.Linear(hidden_dim, 3)\n",
    "        self.relu = nn.ReLU()\n",
    "        self.sigmoid = nn.Sigmoid()\n",
    "    \n",
    "    def forward(self,data):\n",
    "        length = len(data)\n",
    "        data = data.to(device)\n",
    "        pe = torch.zeros(length, self.high_fre_level*2).to(device)\n",
    "        div_term = torch.exp2(torch.arange(0, self.high_fre_level))*3.14159\n",
    "        div_term = div_term.to(device)\n",
    "        for i in range(len(data)):\n",
    "            pe[i, 0::2] = torch.sin(data[i,0] * div_term)\n",
    "            pe[i, 1::2] = torch.cos(data[i,1] * div_term)\n",
    "        x = torch.cat((data,pe),dim=1)\n",
    "        x = self.input_layer(x)\n",
    "        x = self.relu(x)\n",
    "        x = self.hidden_layer(x)\n",
    "        x = self.out(x)\n",
    "        return self.sigmoid(x)"
   ]
  },
  {
   "cell_type": "code",
   "execution_count": 100,
   "id": "328144e0",
   "metadata": {},
   "outputs": [
    {
     "name": "stdout",
     "output_type": "stream",
     "text": [
      "(172, 256, 3)\n"
     ]
    }
   ],
   "source": [
    "pic_name = \"resized_fox.jpg\"\n",
    "im = skio.imread(pic_name)\n",
    "im = sk.img_as_float(im)\n",
    "print(im.shape)"
   ]
  },
  {
   "cell_type": "code",
   "execution_count": 101,
   "id": "bf5eb2dd",
   "metadata": {},
   "outputs": [],
   "source": [
    "class two_d_dataset(Dataset):\n",
    "    def __init__(self, img_path):\n",
    "        im = skio.imread(img_path)\n",
    "        self.image = sk.img_as_float(im)\n",
    "        self.height = self.image.shape[0]\n",
    "        self.width = self.image.shape[1]\n",
    "    def __len__(self):\n",
    "        return self.height*self.width - 1\n",
    "    \n",
    "    def __getitem__(self, idx):\n",
    "        x = idx // self.width \n",
    "        y = idx % self.width \n",
    "        rgb = [self.image[x,y,0],\n",
    "               self.image[x,y,1],\n",
    "               self.image[x,y,2]]\n",
    "        sample = {'input':torch.tensor([x/self.height,y/ self.width]),\n",
    "                  \"label\":torch.tensor(rgb)}\n",
    "        return sample"
   ]
  },
  {
   "cell_type": "code",
   "execution_count": 102,
   "id": "0196f232",
   "metadata": {},
   "outputs": [],
   "source": [
    "fox_dataset = two_d_dataset(pic_name)"
   ]
  },
  {
   "cell_type": "code",
   "execution_count": 103,
   "id": "50bc7fea",
   "metadata": {},
   "outputs": [],
   "source": [
    "dataloader = DataLoader(fox_dataset, batch_size=4,\n",
    "                        shuffle=True)"
   ]
  },
  {
   "cell_type": "code",
   "execution_count": 104,
   "id": "05362e9d",
   "metadata": {},
   "outputs": [
    {
     "name": "stdout",
     "output_type": "stream",
     "text": [
      "Epoch [1/10], Loss: 0.10603370517492294\n",
      "Epoch [1/10], Loss: 0.021628892049193382\n",
      "Epoch [1/10], Loss: 0.02753322944045067\n",
      "Epoch [1/10], Loss: 0.05628076195716858\n",
      "Epoch [1/10], Loss: 0.02647819183766842\n",
      "Epoch [1/10], Loss: 0.01005573756992817\n",
      "Epoch [1/10], Loss: 0.035189490765333176\n",
      "Epoch [1/10], Loss: 0.028151346370577812\n",
      "Epoch [1/10], Loss: 0.022320207208395004\n",
      "Epoch [1/10], Loss: 0.007211418356746435\n",
      "Epoch [1/10], Loss: 0.09323517978191376\n",
      "Epoch [1/10], Loss: 0.03799945116043091\n",
      "Epoch [2/10], Loss: 0.00959604699164629\n",
      "Epoch [2/10], Loss: 0.0528266504406929\n",
      "Epoch [2/10], Loss: 0.08542387187480927\n",
      "Epoch [2/10], Loss: 0.011629830114543438\n",
      "Epoch [2/10], Loss: 0.0025690803304314613\n",
      "Epoch [2/10], Loss: 0.027083393186330795\n",
      "Epoch [2/10], Loss: 0.02819947898387909\n",
      "Epoch [2/10], Loss: 0.249867245554924\n",
      "Epoch [2/10], Loss: 0.07336287200450897\n",
      "Epoch [2/10], Loss: 0.005683498457074165\n",
      "Epoch [2/10], Loss: 0.016830531880259514\n",
      "Epoch [2/10], Loss: 0.006324742920696735\n",
      "Epoch [3/10], Loss: 0.014963768422603607\n",
      "Epoch [3/10], Loss: 0.0217890627682209\n",
      "Epoch [3/10], Loss: 0.015719106420874596\n",
      "Epoch [3/10], Loss: 0.004801579751074314\n",
      "Epoch [3/10], Loss: 0.023239975795149803\n",
      "Epoch [3/10], Loss: 0.012560071423649788\n",
      "Epoch [3/10], Loss: 0.028815194964408875\n",
      "Epoch [3/10], Loss: 0.03897583484649658\n",
      "Epoch [3/10], Loss: 0.2601330876350403\n",
      "Epoch [3/10], Loss: 0.01115446351468563\n",
      "Epoch [3/10], Loss: 0.026935216039419174\n",
      "Epoch [3/10], Loss: 0.030562009662389755\n",
      "Epoch [4/10], Loss: 0.0176242608577013\n",
      "Epoch [4/10], Loss: 0.2068157196044922\n",
      "Epoch [4/10], Loss: 0.06856104731559753\n",
      "Epoch [4/10], Loss: 0.018817132338881493\n",
      "Epoch [4/10], Loss: 0.013984031975269318\n",
      "Epoch [4/10], Loss: 0.04404241964221001\n",
      "Epoch [4/10], Loss: 0.01192820630967617\n",
      "Epoch [4/10], Loss: 0.019101303070783615\n",
      "Epoch [4/10], Loss: 0.003317449940368533\n",
      "Epoch [4/10], Loss: 0.01185220293700695\n",
      "Epoch [4/10], Loss: 0.06356949359178543\n",
      "Epoch [4/10], Loss: 0.016142016276717186\n",
      "Epoch [5/10], Loss: 0.07778215408325195\n",
      "Epoch [5/10], Loss: 0.02636062353849411\n",
      "Epoch [5/10], Loss: 0.009624931029975414\n",
      "Epoch [5/10], Loss: 0.03766307234764099\n",
      "Epoch [5/10], Loss: 0.06554920971393585\n",
      "Epoch [5/10], Loss: 0.031456731259822845\n",
      "Epoch [5/10], Loss: 0.009185437113046646\n",
      "Epoch [5/10], Loss: 0.01980460062623024\n",
      "Epoch [5/10], Loss: 0.02951889857649803\n",
      "Epoch [5/10], Loss: 0.026078050956130028\n",
      "Epoch [5/10], Loss: 0.010307472199201584\n",
      "Epoch [5/10], Loss: 0.03589605167508125\n",
      "Epoch [6/10], Loss: 0.005016874521970749\n",
      "Epoch [6/10], Loss: 0.01995956152677536\n",
      "Epoch [6/10], Loss: 0.04200234264135361\n",
      "Epoch [6/10], Loss: 0.021586444228887558\n",
      "Epoch [6/10], Loss: 0.015802061185240746\n",
      "Epoch [6/10], Loss: 0.006260077469050884\n",
      "Epoch [6/10], Loss: 0.031074155122041702\n",
      "Epoch [6/10], Loss: 0.011591481044888496\n",
      "Epoch [6/10], Loss: 0.046886101365089417\n",
      "Epoch [6/10], Loss: 0.04284944385290146\n",
      "Epoch [6/10], Loss: 0.04350907728075981\n",
      "Epoch [6/10], Loss: 0.08444951474666595\n",
      "Epoch [7/10], Loss: 0.01758790761232376\n",
      "Epoch [7/10], Loss: 0.009664113633334637\n",
      "Epoch [7/10], Loss: 0.014446225017309189\n",
      "Epoch [7/10], Loss: 0.011450117453932762\n",
      "Epoch [7/10], Loss: 0.036057423800230026\n",
      "Epoch [7/10], Loss: 0.019861094653606415\n",
      "Epoch [7/10], Loss: 0.046029575169086456\n",
      "Epoch [7/10], Loss: 0.021846074610948563\n",
      "Epoch [7/10], Loss: 0.00494764419272542\n",
      "Epoch [7/10], Loss: 0.005284607410430908\n",
      "Epoch [7/10], Loss: 0.012737022712826729\n",
      "Epoch [7/10], Loss: 0.04058000445365906\n",
      "Epoch [8/10], Loss: 0.024191072210669518\n",
      "Epoch [8/10], Loss: 0.006950076203793287\n",
      "Epoch [8/10], Loss: 0.061557382345199585\n",
      "Epoch [8/10], Loss: 0.0304771289229393\n",
      "Epoch [8/10], Loss: 0.017002085223793983\n",
      "Epoch [8/10], Loss: 0.25056231021881104\n",
      "Epoch [8/10], Loss: 0.02092212252318859\n",
      "Epoch [8/10], Loss: 0.011311984620988369\n",
      "Epoch [8/10], Loss: 0.009158952161669731\n",
      "Epoch [8/10], Loss: 0.024870984256267548\n",
      "Epoch [8/10], Loss: 0.04551657289266586\n",
      "Epoch [8/10], Loss: 0.060654543340206146\n",
      "Epoch [9/10], Loss: 0.05204959958791733\n",
      "Epoch [9/10], Loss: 0.005728024058043957\n",
      "Epoch [9/10], Loss: 0.017686352133750916\n",
      "Epoch [9/10], Loss: 0.010115287266671658\n",
      "Epoch [9/10], Loss: 0.023626413196325302\n",
      "Epoch [9/10], Loss: 0.006544961594045162\n",
      "Epoch [9/10], Loss: 0.009639881551265717\n",
      "Epoch [9/10], Loss: 0.04062353074550629\n",
      "Epoch [9/10], Loss: 0.03230271860957146\n",
      "Epoch [9/10], Loss: 0.01878320425748825\n",
      "Epoch [9/10], Loss: 0.015612157993018627\n",
      "Epoch [9/10], Loss: 0.046778783202171326\n",
      "Epoch [10/10], Loss: 0.010258115828037262\n",
      "Epoch [10/10], Loss: 0.23229043185710907\n",
      "Epoch [10/10], Loss: 0.03043144941329956\n",
      "Epoch [10/10], Loss: 0.03549852967262268\n",
      "Epoch [10/10], Loss: 0.01354248821735382\n",
      "Epoch [10/10], Loss: 0.007780521176755428\n",
      "Epoch [10/10], Loss: 0.017191853374242783\n",
      "Epoch [10/10], Loss: 0.010581085458397865\n",
      "Epoch [10/10], Loss: 0.07042215764522552\n",
      "Epoch [10/10], Loss: 0.06259607523679733\n",
      "Epoch [10/10], Loss: 0.016122041270136833\n",
      "Epoch [10/10], Loss: 0.05365055054426193\n"
     ]
    }
   ],
   "source": [
    "model = two_d_reconstruct_model(10,3,256).to(device)\n",
    "optimizer = optim.Adam(model.parameters())\n",
    "criterion = torch.nn.MSELoss()\n",
    "num_epochs = 10\n",
    "model.train()\n",
    "for epoch in range(num_epochs):\n",
    "    for i_batch, sample_batched in enumerate(dataloader):\n",
    "        inputs = sample_batched['input'].float().to(device)\n",
    "        labels = sample_batched['label'].float().to(device)\n",
    "        outputs = model(inputs).to(device)\n",
    "        loss = criterion(outputs, labels)\n",
    "        optimizer.zero_grad()\n",
    "        loss.backward()\n",
    "        optimizer.step()\n",
    "        if (i_batch) % 1000 == 0:\n",
    "            print(f'Epoch [{epoch+1}/{num_epochs}], Loss: {loss.item()}')\n",
    "#     print(sample_batched['rgb'][0].shape)"
   ]
  },
  {
   "cell_type": "code",
   "execution_count": 113,
   "id": "f5804268",
   "metadata": {},
   "outputs": [],
   "source": [
    "model.eval()\n",
    "result = np.zeros((im.shape[0],im.shape[1],3))\n",
    "iii = torch.tensor([[1,1],[2,2],[3,3],[4,4]]).to(device)\n",
    "for i in range(im.shape[0]):\n",
    "    points = [[i,j] for j in range(im.shape[1])]\n",
    "    temp_tensor = torch.tensor(points)\n",
    "    temp_result = model(temp_tensor)\n",
    "    temp_array = temp_result.detach().cpu().numpy()\n",
    "    result[i,:,:] = temp_array"
   ]
  },
  {
   "cell_type": "code",
   "execution_count": 114,
   "id": "68613902-048e-42b2-b60c-d7068d7617aa",
   "metadata": {},
   "outputs": [
    {
     "data": {
      "text/plain": [
       "<matplotlib.image.AxesImage at 0x7fafed9d83a0>"
      ]
     },
     "execution_count": 114,
     "metadata": {},
     "output_type": "execute_result"
    },
    {
     "data": {
      "image/png": "[encoded data removed]",
      "text/plain": [
       "<Figure size 640x480 with 1 Axes>"
      ]
     },
     "metadata": {},
     "output_type": "display_data"
    }
   ],
   "source": [
    "skio.imshow(result)"
   ]
  },
  {
   "cell_type": "code",
   "execution_count": null,
   "id": "2997cb43-b6af-432b-813b-e1e0bc41d870",
   "metadata": {},
   "outputs": [],
   "source": []
  }
 ],
 "metadata": {
  "kernelspec": {
   "display_name": "Python 3 (ipykernel)",
   "language": "python",
   "name": "python3"
  },
  "language_info": {
   "codemirror_mode": {
    "name": "ipython",
    "version": 3
   },
   "file_extension": ".py",
   "mimetype": "text/x-python",
   "name": "python",
   "nbconvert_exporter": "python",
   "pygments_lexer": "ipython3",
   "version": "3.10.13"
  }
 },
 "nbformat": 4,
 "nbformat_minor": 5
}
