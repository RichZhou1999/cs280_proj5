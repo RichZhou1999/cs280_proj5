{
 "cells": [
  {
   "cell_type": "code",
   "execution_count": 84,
   "id": "a44fa7b4",
   "metadata": {},
   "outputs": [],
   "source": [
    "import torch\n",
    "import torch.nn as nn\n",
    "from torch.utils.data import Dataset, DataLoader\n",
    "import pandas as pd\n",
    "import numpy as np\n",
    "import matplotlib.pyplot as plt\n",
    "from PIL import Image\n",
    "import skimage.io as skio\n",
    "import torch.optim as optim"
   ]
  },
  {
   "cell_type": "code",
   "execution_count": 65,
   "id": "98f7045b",
   "metadata": {},
   "outputs": [
    {
     "name": "stdout",
     "output_type": "stream",
     "text": [
      "2.6535897933527304e-06\n"
     ]
    }
   ],
   "source": [
    "print(np.sin(1*2**0*3.14159))"
   ]
  },
  {
   "cell_type": "code",
   "execution_count": 102,
   "id": "12a42cdb",
   "metadata": {},
   "outputs": [
    {
     "name": "stdout",
     "output_type": "stream",
     "text": [
      "tensor([[ 0.3500,  0.2400,  0.8910,  0.7290,  0.8090,  0.0628, -0.9511, -0.9921,\n",
      "          0.5878,  0.9686, -0.9511,  0.8763],\n",
      "        [ 0.1000,  0.2000,  0.3090,  0.8090,  0.5878,  0.3090,  0.9511, -0.8090,\n",
      "          0.5878,  0.3090, -0.9511, -0.8090]])\n"
     ]
    }
   ],
   "source": [
    "ppp = torch.tensor([[0.35,0.24],[0.1,0.2]])\n",
    "# ppp = torch.tensor([[0.35,0.24]])\n",
    "d_model = 5\n",
    "pe =  torch.zeros(len(ppp), d_model*2)\n",
    "div_term = torch.exp2(torch.arange(0, d_model)).float()*3.14159\n",
    "for i in range(len(ppp)):\n",
    "    pe[i, 0::2] = torch.sin(ppp[i,0] * div_term)\n",
    "    pe[i, 1::2] = torch.cos(ppp[i,1] * div_term)\n",
    "# print(pe.shape)\n",
    "# print(ppp.shape)\n",
    "print(torch.cat((ppp,pe),dim=1))"
   ]
  },
  {
   "cell_type": "code",
   "execution_count": 103,
   "id": "ac91eb1d",
   "metadata": {},
   "outputs": [],
   "source": [
    "class two_d_reconstruct_model(nn.Module):\n",
    "    def __init__(self,high_fre_level ,hidden_layer_number, hidden_dim):\n",
    "        super(two_d_reconstruct_model, self).__init__()\n",
    "        self.high_fre_level = high_fre_level\n",
    "        self.input_layer = nn.Linear(2+high_fre_level*2, hidden_dim)\n",
    "        hidden_layer_list = []\n",
    "        for i in range(hidden_layer_number):\n",
    "            hidden_layer_list.append(nn.Linear(hidden_dim, hidden_dim))\n",
    "        self.hidden_layer = nn.Sequential(*hidden_layer_list)\n",
    "        self.out = nn.Linear(hidden_dim, 3)\n",
    "        self.sigmoid = nn.Sigmoid()\n",
    "    \n",
    "    def forward(self,data):\n",
    "        length = len(data)\n",
    "        pe = torch.zeros(length, self.high_fre_level*2)\n",
    "        div_term = torch.exp2(torch.arange(0, self.high_fre_level)).float()*3.14159\n",
    "        for i in range(len(ppp)):\n",
    "            pe[i, 0::2] = torch.sin(ppp[i,0] * div_term)\n",
    "            pe[i, 1::2] = torch.cos(ppp[i,1] * div_term)\n",
    "        x = torch.cat((data,pe),dim=1)\n",
    "        x = self.input_layer(x)\n",
    "        x = self.hidden_layer(x)\n",
    "        x = self.out(x)\n",
    "        return self.sigmoid(x)"
   ]
  },
  {
   "cell_type": "code",
   "execution_count": 10,
   "id": "328144e0",
   "metadata": {},
   "outputs": [
    {
     "name": "stdout",
     "output_type": "stream",
     "text": [
      "(689, 1024, 3)\n"
     ]
    }
   ],
   "source": [
    "pic_name = \"fox.jpg\"\n",
    "im = skio.imread(pic_name)\n",
    "im = sk.img_as_float(im)\n",
    "print(im.shape)"
   ]
  },
  {
   "cell_type": "code",
   "execution_count": 87,
   "id": "bf5eb2dd",
   "metadata": {},
   "outputs": [],
   "source": [
    "class two_d_dataset(Dataset):\n",
    "    def __init__(self, img_path):\n",
    "        im = skio.imread(img_path)\n",
    "        self.image = sk.img_as_float(im)\n",
    "        self.height = self.image.shape[0]\n",
    "        self.width = self.image.shape[1]\n",
    "    def __len__(self):\n",
    "        return self.height*self.width - 1\n",
    "    \n",
    "    def __getitem__(self, idx):\n",
    "        x = idx // self.width \n",
    "        y = idx % self.width \n",
    "        rgb = [self.image[x,y,0],\n",
    "               self.image[x,y,1],\n",
    "               self.image[x,y,2]]\n",
    "        sample = {'input':torch.tensor([x/self.height,y/ self.width]),\n",
    "                  \"label\":torch.tensor(rgb)}\n",
    "        return sample"
   ]
  },
  {
   "cell_type": "code",
   "execution_count": 104,
   "id": "0196f232",
   "metadata": {},
   "outputs": [],
   "source": [
    "fox_dataset = two_d_dataset(\"fox.jpg\")"
   ]
  },
  {
   "cell_type": "code",
   "execution_count": 105,
   "id": "50bc7fea",
   "metadata": {},
   "outputs": [],
   "source": [
    "dataloader = DataLoader(fox_dataset, batch_size=4,\n",
    "                        shuffle=True)"
   ]
  },
  {
   "cell_type": "code",
   "execution_count": null,
   "id": "6307e5f9",
   "metadata": {},
   "outputs": [],
   "source": []
  },
  {
   "cell_type": "code",
   "execution_count": null,
   "id": "59322351",
   "metadata": {},
   "outputs": [],
   "source": []
  },
  {
   "cell_type": "code",
   "execution_count": 107,
   "id": "05362e9d",
   "metadata": {},
   "outputs": [
    {
     "name": "stdout",
     "output_type": "stream",
     "text": [
      "Epoch [1/100], Loss: 0.06158323585987091\n",
      "Epoch [1/100], Loss: 0.06564757227897644\n",
      "Epoch [1/100], Loss: 0.06923545151948929\n",
      "Epoch [1/100], Loss: 0.10121757537126541\n",
      "Epoch [1/100], Loss: 0.08060035854578018\n",
      "Epoch [1/100], Loss: 0.11570200324058533\n",
      "Epoch [1/100], Loss: 0.10664936155080795\n",
      "Epoch [1/100], Loss: 0.09559089690446854\n",
      "Epoch [1/100], Loss: 0.1830577701330185\n",
      "Epoch [1/100], Loss: 0.03346477076411247\n",
      "Epoch [1/100], Loss: 0.009860127232968807\n",
      "Epoch [1/100], Loss: 0.16662432253360748\n",
      "Epoch [1/100], Loss: 0.08594783395528793\n",
      "Epoch [1/100], Loss: 0.023844106122851372\n",
      "Epoch [1/100], Loss: 0.0687083899974823\n",
      "Epoch [1/100], Loss: 0.08040919154882431\n",
      "Epoch [1/100], Loss: 0.10400572419166565\n",
      "Epoch [1/100], Loss: 0.1490067094564438\n",
      "Epoch [1/100], Loss: 0.03584038466215134\n",
      "Epoch [1/100], Loss: 0.06329071521759033\n",
      "Epoch [1/100], Loss: 0.07198796421289444\n",
      "Epoch [1/100], Loss: 0.13926656544208527\n",
      "Epoch [1/100], Loss: 0.06178714334964752\n",
      "Epoch [1/100], Loss: 0.05200744792819023\n",
      "Epoch [1/100], Loss: 0.04707851633429527\n",
      "Epoch [1/100], Loss: 0.18487763404846191\n",
      "Epoch [1/100], Loss: 0.16693395376205444\n",
      "Epoch [1/100], Loss: 0.0548173151910305\n",
      "Epoch [1/100], Loss: 0.11723050475120544\n",
      "Epoch [1/100], Loss: 0.0326966755092144\n",
      "Epoch [1/100], Loss: 0.05502097308635712\n",
      "Epoch [1/100], Loss: 0.1413806974887848\n",
      "Epoch [1/100], Loss: 0.054535191506147385\n",
      "Epoch [1/100], Loss: 0.0865197703242302\n",
      "Epoch [1/100], Loss: 0.010514557361602783\n",
      "Epoch [1/100], Loss: 0.03386000916361809\n",
      "Epoch [1/100], Loss: 0.06353680044412613\n",
      "Epoch [1/100], Loss: 0.042480017989873886\n",
      "Epoch [1/100], Loss: 0.1740592122077942\n",
      "Epoch [1/100], Loss: 0.047263387590646744\n",
      "Epoch [1/100], Loss: 0.16765892505645752\n",
      "Epoch [1/100], Loss: 0.05957600101828575\n",
      "Epoch [1/100], Loss: 0.08713459968566895\n",
      "Epoch [1/100], Loss: 0.18410824239253998\n",
      "Epoch [1/100], Loss: 0.18547332286834717\n",
      "Epoch [1/100], Loss: 0.027849359437823296\n",
      "Epoch [1/100], Loss: 0.08745339512825012\n",
      "Epoch [1/100], Loss: 0.1328069418668747\n",
      "Epoch [1/100], Loss: 0.08979863673448563\n",
      "Epoch [1/100], Loss: 0.05553528293967247\n",
      "Epoch [1/100], Loss: 0.06900104135274887\n",
      "Epoch [1/100], Loss: 0.1215670183300972\n",
      "Epoch [1/100], Loss: 0.0880073830485344\n",
      "Epoch [1/100], Loss: 0.15548665821552277\n",
      "Epoch [1/100], Loss: 0.06375894695520401\n",
      "Epoch [1/100], Loss: 0.05791931226849556\n",
      "Epoch [1/100], Loss: 0.09660736471414566\n",
      "Epoch [1/100], Loss: 0.04230313003063202\n",
      "Epoch [1/100], Loss: 0.09435838460922241\n",
      "Epoch [1/100], Loss: 0.033613767474889755\n",
      "Epoch [1/100], Loss: 0.07278244942426682\n",
      "Epoch [1/100], Loss: 0.1277862936258316\n",
      "Epoch [1/100], Loss: 0.08982354402542114\n",
      "Epoch [1/100], Loss: 0.06258048862218857\n"
     ]
    },
    {
     "ename": "KeyboardInterrupt",
     "evalue": "",
     "output_type": "error",
     "traceback": [
      "\u001b[0;31m---------------------------------------------------------------------------\u001b[0m",
      "\u001b[0;31mKeyboardInterrupt\u001b[0m                         Traceback (most recent call last)",
      "\u001b[0;32m/var/folders/hd/7mhwbm312jd2fp_tb35yjgvc0000gn/T/ipykernel_1163/3418834902.py\u001b[0m in \u001b[0;36m<module>\u001b[0;34m\u001b[0m\n\u001b[1;32m     11\u001b[0m         \u001b[0moptimizer\u001b[0m\u001b[0;34m.\u001b[0m\u001b[0mzero_grad\u001b[0m\u001b[0;34m(\u001b[0m\u001b[0;34m)\u001b[0m\u001b[0;34m\u001b[0m\u001b[0;34m\u001b[0m\u001b[0m\n\u001b[1;32m     12\u001b[0m         \u001b[0mloss\u001b[0m\u001b[0;34m.\u001b[0m\u001b[0mbackward\u001b[0m\u001b[0;34m(\u001b[0m\u001b[0;34m)\u001b[0m\u001b[0;34m\u001b[0m\u001b[0;34m\u001b[0m\u001b[0m\n\u001b[0;32m---> 13\u001b[0;31m         \u001b[0moptimizer\u001b[0m\u001b[0;34m.\u001b[0m\u001b[0mstep\u001b[0m\u001b[0;34m(\u001b[0m\u001b[0;34m)\u001b[0m\u001b[0;34m\u001b[0m\u001b[0;34m\u001b[0m\u001b[0m\n\u001b[0m\u001b[1;32m     14\u001b[0m         \u001b[0;32mif\u001b[0m \u001b[0;34m(\u001b[0m\u001b[0mi_batch\u001b[0m\u001b[0;34m)\u001b[0m \u001b[0;34m%\u001b[0m \u001b[0;36m100\u001b[0m \u001b[0;34m==\u001b[0m \u001b[0;36m0\u001b[0m\u001b[0;34m:\u001b[0m\u001b[0;34m\u001b[0m\u001b[0;34m\u001b[0m\u001b[0m\n\u001b[1;32m     15\u001b[0m             \u001b[0mprint\u001b[0m\u001b[0;34m(\u001b[0m\u001b[0;34mf'Epoch [{epoch+1}/{num_epochs}], Loss: {loss.item()}'\u001b[0m\u001b[0;34m)\u001b[0m\u001b[0;34m\u001b[0m\u001b[0;34m\u001b[0m\u001b[0m\n",
      "\u001b[0;32m~/opt/anaconda3/lib/python3.9/site-packages/torch/optim/optimizer.py\u001b[0m in \u001b[0;36mwrapper\u001b[0;34m(*args, **kwargs)\u001b[0m\n\u001b[1;32m    278\u001b[0m                                                f\"but got {result}.\")\n\u001b[1;32m    279\u001b[0m \u001b[0;34m\u001b[0m\u001b[0m\n\u001b[0;32m--> 280\u001b[0;31m                 \u001b[0mout\u001b[0m \u001b[0;34m=\u001b[0m \u001b[0mfunc\u001b[0m\u001b[0;34m(\u001b[0m\u001b[0;34m*\u001b[0m\u001b[0margs\u001b[0m\u001b[0;34m,\u001b[0m \u001b[0;34m**\u001b[0m\u001b[0mkwargs\u001b[0m\u001b[0;34m)\u001b[0m\u001b[0;34m\u001b[0m\u001b[0;34m\u001b[0m\u001b[0m\n\u001b[0m\u001b[1;32m    281\u001b[0m                 \u001b[0mself\u001b[0m\u001b[0;34m.\u001b[0m\u001b[0m_optimizer_step_code\u001b[0m\u001b[0;34m(\u001b[0m\u001b[0;34m)\u001b[0m\u001b[0;34m\u001b[0m\u001b[0;34m\u001b[0m\u001b[0m\n\u001b[1;32m    282\u001b[0m \u001b[0;34m\u001b[0m\u001b[0m\n",
      "\u001b[0;32m~/opt/anaconda3/lib/python3.9/site-packages/torch/optim/optimizer.py\u001b[0m in \u001b[0;36m_use_grad\u001b[0;34m(self, *args, **kwargs)\u001b[0m\n\u001b[1;32m     31\u001b[0m         \u001b[0;32mtry\u001b[0m\u001b[0;34m:\u001b[0m\u001b[0;34m\u001b[0m\u001b[0;34m\u001b[0m\u001b[0m\n\u001b[1;32m     32\u001b[0m             \u001b[0mtorch\u001b[0m\u001b[0;34m.\u001b[0m\u001b[0mset_grad_enabled\u001b[0m\u001b[0;34m(\u001b[0m\u001b[0mself\u001b[0m\u001b[0;34m.\u001b[0m\u001b[0mdefaults\u001b[0m\u001b[0;34m[\u001b[0m\u001b[0;34m'differentiable'\u001b[0m\u001b[0;34m]\u001b[0m\u001b[0;34m)\u001b[0m\u001b[0;34m\u001b[0m\u001b[0;34m\u001b[0m\u001b[0m\n\u001b[0;32m---> 33\u001b[0;31m             \u001b[0mret\u001b[0m \u001b[0;34m=\u001b[0m \u001b[0mfunc\u001b[0m\u001b[0;34m(\u001b[0m\u001b[0mself\u001b[0m\u001b[0;34m,\u001b[0m \u001b[0;34m*\u001b[0m\u001b[0margs\u001b[0m\u001b[0;34m,\u001b[0m \u001b[0;34m**\u001b[0m\u001b[0mkwargs\u001b[0m\u001b[0;34m)\u001b[0m\u001b[0;34m\u001b[0m\u001b[0;34m\u001b[0m\u001b[0m\n\u001b[0m\u001b[1;32m     34\u001b[0m         \u001b[0;32mfinally\u001b[0m\u001b[0;34m:\u001b[0m\u001b[0;34m\u001b[0m\u001b[0;34m\u001b[0m\u001b[0m\n\u001b[1;32m     35\u001b[0m             \u001b[0mtorch\u001b[0m\u001b[0;34m.\u001b[0m\u001b[0mset_grad_enabled\u001b[0m\u001b[0;34m(\u001b[0m\u001b[0mprev_grad\u001b[0m\u001b[0;34m)\u001b[0m\u001b[0;34m\u001b[0m\u001b[0;34m\u001b[0m\u001b[0m\n",
      "\u001b[0;32m~/opt/anaconda3/lib/python3.9/site-packages/torch/optim/adam.py\u001b[0m in \u001b[0;36mstep\u001b[0;34m(self, closure)\u001b[0m\n\u001b[1;32m    139\u001b[0m                 state_steps)\n\u001b[1;32m    140\u001b[0m \u001b[0;34m\u001b[0m\u001b[0m\n\u001b[0;32m--> 141\u001b[0;31m             adam(\n\u001b[0m\u001b[1;32m    142\u001b[0m                 \u001b[0mparams_with_grad\u001b[0m\u001b[0;34m,\u001b[0m\u001b[0;34m\u001b[0m\u001b[0;34m\u001b[0m\u001b[0m\n\u001b[1;32m    143\u001b[0m                 \u001b[0mgrads\u001b[0m\u001b[0;34m,\u001b[0m\u001b[0;34m\u001b[0m\u001b[0;34m\u001b[0m\u001b[0m\n",
      "\u001b[0;32m~/opt/anaconda3/lib/python3.9/site-packages/torch/optim/adam.py\u001b[0m in \u001b[0;36madam\u001b[0;34m(params, grads, exp_avgs, exp_avg_sqs, max_exp_avg_sqs, state_steps, foreach, capturable, differentiable, fused, grad_scale, found_inf, amsgrad, beta1, beta2, lr, weight_decay, eps, maximize)\u001b[0m\n\u001b[1;32m    279\u001b[0m         \u001b[0mfunc\u001b[0m \u001b[0;34m=\u001b[0m \u001b[0m_single_tensor_adam\u001b[0m\u001b[0;34m\u001b[0m\u001b[0;34m\u001b[0m\u001b[0m\n\u001b[1;32m    280\u001b[0m \u001b[0;34m\u001b[0m\u001b[0m\n\u001b[0;32m--> 281\u001b[0;31m     func(params,\n\u001b[0m\u001b[1;32m    282\u001b[0m          \u001b[0mgrads\u001b[0m\u001b[0;34m,\u001b[0m\u001b[0;34m\u001b[0m\u001b[0;34m\u001b[0m\u001b[0m\n\u001b[1;32m    283\u001b[0m          \u001b[0mexp_avgs\u001b[0m\u001b[0;34m,\u001b[0m\u001b[0;34m\u001b[0m\u001b[0;34m\u001b[0m\u001b[0m\n",
      "\u001b[0;32m~/opt/anaconda3/lib/python3.9/site-packages/torch/optim/adam.py\u001b[0m in \u001b[0;36m_single_tensor_adam\u001b[0;34m(params, grads, exp_avgs, exp_avg_sqs, max_exp_avg_sqs, state_steps, grad_scale, found_inf, amsgrad, beta1, beta2, lr, weight_decay, eps, maximize, capturable, differentiable)\u001b[0m\n\u001b[1;32m    343\u001b[0m         \u001b[0;31m# Decay the first and second moment running average coefficient\u001b[0m\u001b[0;34m\u001b[0m\u001b[0;34m\u001b[0m\u001b[0m\n\u001b[1;32m    344\u001b[0m         \u001b[0mexp_avg\u001b[0m\u001b[0;34m.\u001b[0m\u001b[0mmul_\u001b[0m\u001b[0;34m(\u001b[0m\u001b[0mbeta1\u001b[0m\u001b[0;34m)\u001b[0m\u001b[0;34m.\u001b[0m\u001b[0madd_\u001b[0m\u001b[0;34m(\u001b[0m\u001b[0mgrad\u001b[0m\u001b[0;34m,\u001b[0m \u001b[0malpha\u001b[0m\u001b[0;34m=\u001b[0m\u001b[0;36m1\u001b[0m \u001b[0;34m-\u001b[0m \u001b[0mbeta1\u001b[0m\u001b[0;34m)\u001b[0m\u001b[0;34m\u001b[0m\u001b[0;34m\u001b[0m\u001b[0m\n\u001b[0;32m--> 345\u001b[0;31m         \u001b[0mexp_avg_sq\u001b[0m\u001b[0;34m.\u001b[0m\u001b[0mmul_\u001b[0m\u001b[0;34m(\u001b[0m\u001b[0mbeta2\u001b[0m\u001b[0;34m)\u001b[0m\u001b[0;34m.\u001b[0m\u001b[0maddcmul_\u001b[0m\u001b[0;34m(\u001b[0m\u001b[0mgrad\u001b[0m\u001b[0;34m,\u001b[0m \u001b[0mgrad\u001b[0m\u001b[0;34m.\u001b[0m\u001b[0mconj\u001b[0m\u001b[0;34m(\u001b[0m\u001b[0;34m)\u001b[0m\u001b[0;34m,\u001b[0m \u001b[0mvalue\u001b[0m\u001b[0;34m=\u001b[0m\u001b[0;36m1\u001b[0m \u001b[0;34m-\u001b[0m \u001b[0mbeta2\u001b[0m\u001b[0;34m)\u001b[0m\u001b[0;34m\u001b[0m\u001b[0;34m\u001b[0m\u001b[0m\n\u001b[0m\u001b[1;32m    346\u001b[0m \u001b[0;34m\u001b[0m\u001b[0m\n\u001b[1;32m    347\u001b[0m         \u001b[0;32mif\u001b[0m \u001b[0mcapturable\u001b[0m \u001b[0;32mor\u001b[0m \u001b[0mdifferentiable\u001b[0m\u001b[0;34m:\u001b[0m\u001b[0;34m\u001b[0m\u001b[0;34m\u001b[0m\u001b[0m\n",
      "\u001b[0;31mKeyboardInterrupt\u001b[0m: "
     ]
    }
   ],
   "source": [
    "model = two_d_reconstruct_model(10,3,256)\n",
    "optimizer = optim.Adam(model.parameters())\n",
    "criterion = torch.nn.MSELoss()\n",
    "num_epochs = 100\n",
    "for epoch in range(num_epochs):\n",
    "    for i_batch, sample_batched in enumerate(dataloader):\n",
    "        inputs = sample_batched['input'].float()\n",
    "        labels = sample_batched['label'].float()\n",
    "        outputs = model(inputs)\n",
    "        loss = criterion(outputs, labels)\n",
    "        optimizer.zero_grad()\n",
    "        loss.backward()\n",
    "        optimizer.step()\n",
    "        if (i_batch) % 1000 == 0:\n",
    "            print(f'Epoch [{epoch+1}/{num_epochs}], Loss: {loss.item()}')\n",
    "#     print(sample_batched['rgb'][0].shape)"
   ]
  },
  {
   "cell_type": "code",
   "execution_count": null,
   "id": "f5804268",
   "metadata": {},
   "outputs": [],
   "source": []
  }
 ],
 "metadata": {
  "kernelspec": {
   "display_name": "Python 3 (ipykernel)",
   "language": "python",
   "name": "python3"
  },
  "language_info": {
   "codemirror_mode": {
    "name": "ipython",
    "version": 3
   },
   "file_extension": ".py",
   "mimetype": "text/x-python",
   "name": "python",
   "nbconvert_exporter": "python",
   "pygments_lexer": "ipython3",
   "version": "3.9.13"
  }
 },
 "nbformat": 4,
 "nbformat_minor": 5
}
